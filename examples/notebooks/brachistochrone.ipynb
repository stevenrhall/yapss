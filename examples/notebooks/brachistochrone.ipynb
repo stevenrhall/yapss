{
  "cells": [
    {
      "cell_type": "markdown",
      "id": "053a6c11-abb2-4d89-b412-833a7061443b",
      "metadata": {
        "editable": true,
        "slideshow": {
          "slide_type": ""
        },
        "tags": []
      },
      "source": [
        "# Brachistochrone\n",
        "\n",
        "For a solution to the brachistochrone problem using a Python script instead of a notebook, see the [brachistochrone Python script documentation](../scripts/brachistochrone.rst)."
      ]
    },
    {
      "cell_type": "markdown",
      "id": "e3205bef-811c-4074-bbb6-4088d0f20fd4",
      "metadata": {
        "editable": true,
        "jp-MarkdownHeadingCollapsed": true,
        "slideshow": {
          "slide_type": ""
        },
        "tags": []
      },
      "source": [
        "## Problem Description\n",
        "\n",
        "The brachistochrone problem is a classic problem in the calculus of variations. The problem was posed by Johann Bernoulli in June 1696 <cite data-footcite=\"Bernoulli:1696\"> </cite> in a challenge to the mathematicians of his time. The problem can be stated as follows: Given two points A and B in a vertical plane, what is the path that a particle, starting from rest and accelerated by a uniform gravitational force, will take to descend from A to B in the least time? The optimal path, known as a *brachistochrone*, has the shape of an inverted cycloid. \n",
        "\n",
        "Formulated as an optimal control problem, the objective of the control problem is to minimize the objective \n",
        "$$\n",
        "J = t_F\n",
        "$$\n",
        "where $t_F$ is the time it takes the particle to move along the curve. \n",
        "\n",
        "The system has three states: the horizontal position of the particle, $x$, with the positive direction to the right; the vertical position of the bead, $y$, with the positive direction down; and the velocity of the particle, $v$. There is a single control input, $u$ which is the angle between the velocity vector and the $x$ axis, so that positive $u$ corresponds to a velocity vector that points below horizontal.\n",
        "\n",
        "The equations of motion for the system are\n",
        "$$\n",
        "\\begin{align}\n",
        "  \\dot x(t) &= v(t) \\cos u(t)  \\\\\n",
        "  \\dot y(t) &= v(t) \\sin u(t)  \\\\\n",
        "  \\dot v(t) &= g \\sin u(t)\n",
        "\\end{align}\n",
        "$$\n",
        "where $g$ is the acceleration due to gravity.\n",
        "\n",
        "For this example, we will set the boundary conditions and constraints to be\n",
        "$$\n",
        "\\begin{gather}\n",
        "  t_0 = 0 \\\\\n",
        "  x(t_0) = y(t_0) = v(t_0) = 0 \\\\\n",
        "  x(t_f) = 1 \\\\\n",
        "  -\\frac{\\pi}{2} \\le u(t) \\le \\frac{\\pi}{2}\n",
        "\\end{gather}\n",
        "$$"
      ]
    },
    {
      "cell_type": "markdown",
      "id": "9d8b04f7-7d2d-4277-94e0-4c3b281abcac",
      "metadata": {
        "editable": true,
        "slideshow": {
          "slide_type": ""
        },
        "tags": []
      },
      "source": [
        "## YAPSS Solution\n",
        "\n",
        "Import needed modules:"
      ]
    },
    {
      "cell_type": "code",
      "execution_count": null,
      "id": "d5ce141d",
      "metadata": {
        "editable": true,
        "slideshow": {
          "slide_type": ""
        },
        "tags": []
      },
      "outputs": [],
      "source": [
        "# third party imports\n",
        "import matplotlib.pyplot as plt\n",
        "\n",
        "# package imports\n",
        "from yapss import Problem\n",
        "from yapss.math import cos, pi, sin"
      ]
    },
    {
      "cell_type": "markdown",
      "id": "d5110d48-869f-4459-a717-a6b9c1df5556",
      "metadata": {},
      "source": [
        "Instantiate the problem and define the callback functions:"
      ]
    },
    {
      "cell_type": "code",
      "execution_count": null,
      "id": "dfcb067d",
      "metadata": {
        "editable": true,
        "slideshow": {
          "slide_type": ""
        },
        "tags": []
      },
      "outputs": [],
      "source": [
        "# instantiate problem\n",
        "problem = Problem(name=\"Brachistochrone\", nx=[3], nu=[1])\n",
        "\n",
        "# gravity constant\n",
        "g0 = 32.174\n",
        "\n",
        "# callback functions\n",
        "\n",
        "\n",
        "def objective(arg) -> None:\n",
        "    arg.objective = arg.phase[0].final_time\n",
        "\n",
        "\n",
        "def continuous(arg) -> None:\n",
        "    # extract the state and control vectors\n",
        "    x, y, v = arg.phase[0].state\n",
        "    (u,) = arg.phase[0].control\n",
        "\n",
        "    arg.phase[0].dynamics[:] = v * cos(u), v * sin(u), g0 * sin(u)\n",
        "\n",
        "\n",
        "problem.functions.objective = objective\n",
        "problem.functions.continuous = continuous"
      ]
    },
    {
      "cell_type": "markdown",
      "id": "0f73bccd-3197-4b23-ad5f-c462ceda2ea8",
      "metadata": {},
      "source": [
        "Define the bounds on the decision variables:"
      ]
    },
    {
      "cell_type": "code",
      "execution_count": null,
      "id": "55be1136",
      "metadata": {
        "editable": true,
        "slideshow": {
          "slide_type": ""
        },
        "tags": []
      },
      "outputs": [],
      "source": [
        "# problem bounds\n",
        "bounds = problem.bounds.phase[0]\n",
        "bounds.initial_time.lower = bounds.initial_time.upper = 0\n",
        "bounds.final_time.lower = 0\n",
        "bounds.initial_state.lower[:] = bounds.initial_state.upper[:] = 0\n",
        "bounds.final_state.lower[0] = bounds.final_state.upper[0] = 1\n",
        "bounds.state.lower[:] = 0\n",
        "bounds.control.lower[:] = -pi / 2\n",
        "bounds.control.upper[:] = pi / 2"
      ]
    },
    {
      "cell_type": "markdown",
      "id": "5af10329-4d33-4a1a-a526-efffec42b586",
      "metadata": {},
      "source": [
        "Define the initial guess:"
      ]
    },
    {
      "cell_type": "code",
      "execution_count": null,
      "id": "6f4cdd6b",
      "metadata": {
        "editable": true,
        "slideshow": {
          "slide_type": ""
        },
        "tags": []
      },
      "outputs": [],
      "source": [
        "# initial guess\n",
        "phase = problem.guess.phase[0]\n",
        "phase.time = [0.0, 1.0]\n",
        "phase.state = [[0.0, 1.0], [0.0, 1.0], [0.0, 1.0]]\n",
        "phase.control = [[0.0, 0.0]]"
      ]
    },
    {
      "cell_type": "markdown",
      "id": "dba6420b-0cdb-4cc0-b3e6-60d1fba70e5d",
      "metadata": {},
      "source": [
        "Define the computational mesh:"
      ]
    },
    {
      "cell_type": "code",
      "execution_count": null,
      "id": "3c89d6be",
      "metadata": {
        "editable": true,
        "slideshow": {
          "slide_type": ""
        },
        "tags": []
      },
      "outputs": [],
      "source": [
        "# mesh\n",
        "m, n = 20, 10\n",
        "problem.mesh.phase[0].collocation_points = m * [n]\n",
        "problem.mesh.phase[0].fraction = m * [1 / m]"
      ]
    },
    {
      "cell_type": "markdown",
      "id": "586065d7-0878-47f4-a50b-9daafb298ec9",
      "metadata": {},
      "source": [
        "YAPSS options:"
      ]
    },
    {
      "cell_type": "code",
      "execution_count": null,
      "id": "bb873a04",
      "metadata": {
        "editable": true,
        "slideshow": {
          "slide_type": ""
        },
        "tags": []
      },
      "outputs": [],
      "source": [
        "# yapss options\n",
        "problem.derivatives.method = \"auto\"\n",
        "problem.derivatives.order = \"second\"\n",
        "problem.spectral_method = \"lgr\""
      ]
    },
    {
      "cell_type": "markdown",
      "id": "26ec6f27-7e5d-4785-8ece-c95560d6e136",
      "metadata": {},
      "source": [
        "Ipopt options:"
      ]
    },
    {
      "cell_type": "code",
      "execution_count": null,
      "id": "3e2edfad",
      "metadata": {
        "editable": true,
        "slideshow": {
          "slide_type": ""
        },
        "tags": []
      },
      "outputs": [],
      "source": [
        "# ipopt options\n",
        "problem.ipopt_options.print_level = 3\n",
        "problem.ipopt_options.print_user_options = \"no\"\n",
        "problem.ipopt_options.tol = 1e-20"
      ]
    },
    {
      "cell_type": "markdown",
      "id": "a0159031-cb5b-4595-b710-4c1e88272012",
      "metadata": {},
      "source": [
        "Find the solution:"
      ]
    },
    {
      "cell_type": "code",
      "execution_count": null,
      "id": "b8f7de6a-f175-4472-bde5-916f55541fd2",
      "metadata": {
        "editable": true,
        "slideshow": {
          "slide_type": ""
        },
        "tags": []
      },
      "outputs": [],
      "source": [
        "# solution\n",
        "solution = problem.solve()"
      ]
    },
    {
      "cell_type": "markdown",
      "id": "d54d04cf",
      "metadata": {
        "editable": true,
        "slideshow": {
          "slide_type": ""
        },
        "tags": []
      },
      "source": [
        "## Plots"
      ]
    },
    {
      "cell_type": "markdown",
      "id": "8146cb3c",
      "metadata": {},
      "source": [
        "To plot the solution, we extract the state, control, and costate vector arrays; the time array for the interpolation points (`time`) and the time array for the collocation points (`time_c`); the initial and final times; and the dynamics array. Note that the state is defined at the interpolation points (which includes all the collocation points), while the control, costate, and dynamics are defined at the collocation points (which does not include the final interpolation point when using LGR interpolation)."
      ]
    },
    {
      "cell_type": "code",
      "execution_count": null,
      "id": "bfa8fb9b",
      "metadata": {
        "editable": true,
        "slideshow": {
          "slide_type": ""
        },
        "tags": []
      },
      "outputs": [],
      "source": [
        "# extract solution\n",
        "state = solution.phase[0].state\n",
        "control = solution.phase[0].control\n",
        "costate = solution.phase[0].costate\n",
        "\n",
        "time = solution.phase[0].time\n",
        "time_c = solution.phase[0].time_c\n",
        "t0 = solution.phase[0].initial_time\n",
        "tf = solution.phase[0].final_time\n",
        "\n",
        "f = solution.phase[0].dynamics\n",
        "\n",
        "x, y, v = state"
      ]
    },
    {
      "cell_type": "markdown",
      "id": "dc36ff79-b1a6-4de3-894a-73cabcfbd21b",
      "metadata": {},
      "source": [
        "With the data extracted, we can then plot the results."
      ]
    },
    {
      "cell_type": "markdown",
      "id": "2cd76634",
      "metadata": {},
      "source": [
        "### Path of the Bead"
      ]
    },
    {
      "cell_type": "code",
      "execution_count": null,
      "id": "e0858c63",
      "metadata": {},
      "outputs": [],
      "source": [
        "# plot bead path\n",
        "plt.figure()\n",
        "plt.plot(x, y, linewidth=2)\n",
        "plt.xlabel(\"$x(t)$\")\n",
        "plt.ylabel(\"$y(t)$\")\n",
        "plt.xlim([0.0, 1.0])\n",
        "plt.ylim([0.7, 0.0])\n",
        "plt.axis(\"equal\")\n",
        "plt.tight_layout()\n",
        "plt.grid()"
      ]
    },
    {
      "cell_type": "markdown",
      "id": "d617d355",
      "metadata": {},
      "source": [
        "### State Trajectories"
      ]
    },
    {
      "cell_type": "code",
      "execution_count": null,
      "id": "e0491980",
      "metadata": {},
      "outputs": [],
      "source": [
        "# plot states vs. time\n",
        "plt.figure()\n",
        "plt.plot(time, x, time, y, time, v, linewidth=2)\n",
        "plt.xlabel(\"Time, $t$\")\n",
        "plt.ylabel(\"States\")\n",
        "plt.legend((\"$x(t)$\", \"$y(t)$\", \"$v(t)$\"), framealpha=1.0)\n",
        "plt.xlim([t0, tf])\n",
        "plt.tight_layout()\n",
        "plt.grid()"
      ]
    },
    {
      "cell_type": "markdown",
      "id": "635ba2b2",
      "metadata": {},
      "source": [
        "### Control History"
      ]
    },
    {
      "cell_type": "code",
      "execution_count": null,
      "id": "d112521d",
      "metadata": {
        "editable": true,
        "slideshow": {
          "slide_type": ""
        },
        "tags": []
      },
      "outputs": [],
      "source": [
        "# plot control vs. time\n",
        "plt.figure()\n",
        "plt.plot(time_c, control[0], linewidth=2)\n",
        "plt.xlabel(\"Time, $t$ [s]\")\n",
        "plt.ylabel(\"Control, $u(t)$ [rad]\")\n",
        "plt.ylim([-0.05, 1.6])\n",
        "plt.xlim([t0, tf])\n",
        "plt.tight_layout()\n",
        "plt.grid()"
      ]
    },
    {
      "cell_type": "markdown",
      "id": "729710f4",
      "metadata": {},
      "source": [
        "### Hamiltonian"
      ]
    },
    {
      "cell_type": "markdown",
      "id": "a9b71526",
      "metadata": {
        "editable": true,
        "slideshow": {
          "slide_type": ""
        },
        "tags": []
      },
      "source": [
        "Because the dynamics are time-invariant and there is no integral term in the cost function, we expect the Hamiltonian to be a constant. Because the problem is a minimum time problem, we expect that the final value of the Hamiltonian (and hence the value over the entire interval) will be 1. Plotting the Hamiltonian confirms that this is the case:"
      ]
    },
    {
      "cell_type": "code",
      "execution_count": null,
      "id": "51c5d784",
      "metadata": {},
      "outputs": [],
      "source": [
        "# plot the Hamiltonian\n",
        "hamiltonian = sum(f[i] * costate[i] for i in range(3))\n",
        "plt.figure()\n",
        "plt.plot(time_c, hamiltonian, linewidth=2)\n",
        "plt.xlim([t0, tf])\n",
        "plt.ylim([-1.001, -0.999])\n",
        "plt.xlabel(\"Time, $t$\")\n",
        "plt.ylabel(r\"Hamiltonian, $\\mathcal{H}$\")\n",
        "plt.tight_layout()\n",
        "plt.grid()"
      ]
    },
    {
      "cell_type": "markdown",
      "id": "8f2e6669-aff6-48f6-8993-e9005a97c6a9",
      "metadata": {
        "editable": true,
        "slideshow": {
          "slide_type": ""
        },
        "tags": []
      },
      "source": [
        "## References"
      ]
    },
    {
      "cell_type": "raw",
      "id": "b1fd45dc-2734-41af-aa08-de8ac7ad5e01",
      "metadata": {
        "editable": true,
        "raw_mimetype": "text/restructuredtext",
        "slideshow": {
          "slide_type": ""
        },
        "tags": []
      },
      "source": [
        ".. footbibliography::"
      ]
    }
  ],
  "metadata": {},
  "nbformat": 4,
  "nbformat_minor": 5
}
