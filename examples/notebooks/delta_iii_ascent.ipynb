{
  "cells": [
    {
      "cell_type": "markdown",
      "id": "57f4fa22-44e6-4a35-926f-20db307a55c9",
      "metadata": {
        "editable": true,
        "slideshow": {
          "slide_type": ""
        },
        "tags": []
      },
      "source": [
        "# Delta III Launch Vehicle Ascent Problem\n",
        "\n",
        "In his PhD thesis, Benson <cite data-footcite=\"Benson:2005\">(Benson, 2005)</cite> presents the example of the optimization of the Delta III launch vehicle to minimize fuel used to achieve a specific orbit. Rao et al. <cite data-footcite=\"Rao:2010\"></cite> and Patterson and Rao <cite data-footcite=\"Patterson:2014\">(Patterson, 2014)</cite> used the same example (with only very slightly modified numerical parameters) as an example in their papers describing the GPOPS and GPOPS-II algorithms. The problem is also described in some detail by Betts <cite data-footcite=\"Betts:2010\">(Betts, 2010)</cite>.\n",
        "\n",
        "For a solution to the Delta III launch vehicle ascent problem using a Python script instead of a notebook, see the corresponding [Python script documentation](../scripts/delta_iii_ascent.rst)."
      ]
    },
    {
      "cell_type": "markdown",
      "id": "5da55138-47c2-498b-8975-93925bd85788",
      "metadata": {
        "editable": true,
        "raw_mimetype": "text/restructuredtext",
        "slideshow": {
          "slide_type": ""
        },
        "tags": []
      },
      "source": [
        "## Problem Definition\n",
        "\n",
        "The Delta III launch vehicle consists of a payload, two liquid-fueled rocket stages, and nine solid rocket boosters (SRBs). The launch is composed of four phases. In the first phase, the first stage rocket and six of nine SRBs are ignited. The first phase ends at $t=75.2$ seconds when the six SRBs are exhaust their fuel and are jettisoned. During the second phase, the three remaining SRBs are ignited, and burn for an additional 75.2 seconds, and then are jettisoned. The third phase then begins at $t=150.4$ seconds, and ends at $t=261$ seconds when the fuel from the first stage is exhausted (main engine cuttoff, or MECO). The final phase then begins with the ignition of the second stage engine, and ends at some time before $t=961$ seconds when the payload reaches the desired orbit. The objective of the optimization is to maximize the mass of the vehicle in orbit, that is, to minimize the total fuel burn. The mass and propulsion properties of the Delta III launch system are shown below in Table 1:  \n",
        "$~$  "
      ]
    },
    {
      "cell_type": "raw",
      "id": "518708c7-7148-4b51-8c52-5fe57c88cf9e",
      "metadata": {
        "editable": true,
        "raw_mimetype": "text/restructuredtext",
        "slideshow": {
          "slide_type": ""
        },
        "tags": []
      },
      "source": [
        ".. csv-table:: _`Table 1`. Mass and Propulsion Properties of Delta III Rocket\n",
        "   :widths: 15, 8, 15, 10, 10\n",
        "   :align: center\n",
        "   :header: Quantity, Symbol, Solid rocket boosters, Stage 1, Stage 2\n",
        "\n",
        "   Total mass (kg), :math:`\\pi_i`, 19290, 104380, 19300\n",
        "   Propellant mass (kg), :math:`\\rho_i`, 17010, 95550, 16820\n",
        "   Structure Mass (kg), :math:`\\varphi_i`, 2280, 8830, 2480\n",
        "   Engine thrust (N), :math:`T_i`, 628500, 1083100, 110094\n",
        "   Specific impulse (s), :math:`\\mathcal{I_i}`, 283.33364, 301.68776, 467.21311\n",
        "   Number of engines, :math:`N`, 9, 1, 1\n",
        "   Burn time (s), :math:`\\tau_i`, 75.2, 261, 700 (max)\n"
      ]
    },
    {
      "cell_type": "markdown",
      "id": "c77b0822-0e6a-4005-8572-4dbf12c47b2a",
      "metadata": {
        "editable": true,
        "slideshow": {
          "slide_type": ""
        },
        "tags": []
      },
      "source": [
        "**Dynamics.** The dynamics are described in an Earth-centered inertial (ECI) coordinate system. The seven states are the three elements of the position vector $\\mathbf{r}$, the three elements of the inertial velocity vector $\\mathbf{v}$, and the vehicle mass $m$. The dynamics for each stage are given by\n",
        "$$\n",
        "\\begin{aligned}\n",
        "\\dot{\\mathbf{r}} &=\\mathbf{v} \\\\\n",
        "\\dot{\\mathbf{v}} &=-\\frac{\\mu}{\\|\\mathbf{r}\\|^{3}} \\mathbf{r}+\\frac{T}{m}\n",
        "\\mathbf{u}+\\frac{1}{m} \\mathbf{D} \\\\\n",
        "\\dot{m} &=-\\xi \\\\\n",
        "\\end{aligned}\n",
        "$$\n",
        "where $\\mu$ is the gravitational parameter for Earth, $T$ is the thrust, $\\mathbf{u}$ is the control input, $\\mathbf{D}$ is the drag force, and $\\xi$ is the propellant burn rate. The control vector defines the thrust direction, and so is a 3-vector with the constraint\n",
        "$$\n",
        "\\|\\mathbf{u}\\| = 1\n",
        "$$\n",
        "An additional constraint is that\n",
        "$$\n",
        "\\|\\mathbf{r}\\| \\ge R_E\n",
        "$$\n",
        "where $R_{E}$ is the radius of the earth. That is, that the vehicle always has nonnegative altitude. The constraints are expressed as path constraints in the `continuous` callback function.\n"
      ]
    },
    {
      "cell_type": "markdown",
      "id": "8ec59a37-b822-48f5-931f-2f5fed761008",
      "metadata": {
        "editable": true,
        "slideshow": {
          "slide_type": ""
        },
        "tags": []
      },
      "source": [
        "**Aerodynamics**. The drag force is always in the opposite direction to the relative velocity of the vehicle through the atmosphere, and so\n",
        "$$\n",
        "   \\mathbf{D} = -\\frac{1}{2} \\rho C_{D} S \\left\\|\\mathbf{v}_{r}\\right\\|\n",
        "   \\mathbf{v}_{r}\n",
        "$$\n",
        "where\n",
        "$$\n",
        "   \\mathbf{v}_{r} = \\mathbf{v} - \\boldsymbol{\\Omega} \\times \\mathbf{r}\n",
        "$$\n",
        "Here $\\boldsymbol{\\Omega} = (0, 0, \\omega_E)$ is the angular velocity of the earth. The density of the atmosphere is assumed to be exponential\n",
        "$$\n",
        "   \\rho=\\rho_{0} \\exp(-h/H)\n",
        "$$\n",
        "where $\\rho_{0}$ is the sea-level density of the atmosphere, and $H$ is the scale height of the atmosphere.  "
      ]
    },
    {
      "cell_type": "raw",
      "id": "8b226a19-c706-4849-8b54-f828445c4fb2",
      "metadata": {
        "editable": true,
        "raw_mimetype": "text/restructuredtext",
        "slideshow": {
          "slide_type": ""
        },
        "tags": []
      },
      "source": [
        ".. csv-table:: _`Table 2`. Terminal condition in terms of orbital elements.\n",
        "   :align: center\n",
        "   :widths: 20, 8, 12\n",
        "   :header: Orbital Element, Symbol, Value at final time\n",
        "\n",
        "   Semimajor axis, :math:`a_f`, \":math:`2.4361140\\times10^7` m\"\n",
        "   Eccentricity, :math:`e_f`, :math:`0.7308`\n",
        "   Inclination, :math:`i_f`, :math:`28.5^{\\circ}`\n",
        "   Longitude of the ascending node, :math:`\\Omega_f`, :math:`269.8^{\\circ}`\n",
        "   Argument of the periapsis, :math:`\\omega_f`, :math:`130.5^{\\circ}`\n"
      ]
    },
    {
      "cell_type": "markdown",
      "id": "17b27176-f6a6-4a09-a34a-3c1dd887189e",
      "metadata": {
        "editable": true,
        "slideshow": {
          "slide_type": ""
        },
        "tags": []
      },
      "source": [
        "$~$  \n",
        "$~$  "
      ]
    },
    {
      "cell_type": "raw",
      "id": "a4357b40-5c04-4169-83af-39ee0ee23ac3",
      "metadata": {
        "editable": true,
        "raw_mimetype": "text/restructuredtext",
        "slideshow": {
          "slide_type": ""
        },
        "tags": []
      },
      "source": [
        ".. csv-table:: _`Table 3`. Values of other constants used in this problem.\n",
        "   :header: Constant, Symbol, Value\n",
        "   :widths: 30, 10, 30\n",
        "   :align: center\n",
        "\n",
        "   Payload Mass, :math:`\\pi_\\text{p}`, :math:`4164 \\text{ kg}`\n",
        "   Aerodynamic reference area, :math:`S`, :math:`4 \\pi \\text{ m}^{2}`\n",
        "   Coefficient of drag, :math:`C_{D}`, :math:`0.5`\n",
        "   Atmospheric density at sea level, :math:`\\rho_{0}`, :math:`1.225 \\text{ kg/m}^{3}`\n",
        "   Atmospheric density scale height, :math:`H`, :math:`7200 \\text{ m}`\n",
        "   Time at end of first phase, :math:`t_{1}`, :math:`75.2 \\text{ s}`\n",
        "   Time at end of second phase, :math:`t_{2}`, :math:`150.4 \\text{ s}`\n",
        "   Time at end of third phase, :math:`t_{3}`, :math:`261 \\text{ s}`\n",
        "   Radius of earth, :math:`R_E`, :math:`6378145 \\text{ m}`\n",
        "   Earth rotation rate, :math:`\\Omega`, :math:`7.29211585 \\times 10^{-5} \\text{ rad}/\\text{s}`\n",
        "   Earth gravitational parameter, :math:`\\mu`, :math:`3.986012 \\times 10^{14} \\text { m}^3/\\text{s}^2.`\n",
        "   Standard gravity, :math:`g_{0}`, :math:`9.80665 \\text{ m} / \\text{s}^{2}`\n"
      ]
    },
    {
      "cell_type": "markdown",
      "id": "171ece0b-ebaa-420c-9c81-77b308d43868",
      "metadata": {
        "editable": true,
        "slideshow": {
          "slide_type": ""
        },
        "tags": []
      },
      "source": [
        "## YAPSS Solution\n",
        "\n",
        "### Problem Instantation\n",
        "First import needed packages and instantiate problem:"
      ]
    },
    {
      "cell_type": "code",
      "execution_count": null,
      "id": "bb81a568-2937-484a-9eee-55f2efd00c46",
      "metadata": {
        "editable": true,
        "slideshow": {
          "slide_type": ""
        },
        "tags": []
      },
      "outputs": [],
      "source": [
        "# third party imports\n",
        "import numpy as np\n",
        "from matplotlib import pyplot as plt\n",
        "\n",
        "# package imports\n",
        "from yapss import Problem\n",
        "from yapss.math import cos, pi, sin, sqrt\n",
        "\n",
        "problem = Problem(\n",
        "    name=\"Delta III Ascent Trajectory Optimization\",\n",
        "    nx=[7, 7, 7, 7],\n",
        "    nu=[3, 3, 3, 3],\n",
        "    nh=[2, 2, 2, 2],\n",
        "    nd=23,\n",
        ")"
      ]
    },
    {
      "cell_type": "markdown",
      "id": "f7017f5b-f38a-4fcc-a22d-fe85d0877820",
      "metadata": {
        "editable": true,
        "slideshow": {
          "slide_type": ""
        },
        "tags": []
      },
      "source": [
        "### Constants\n",
        "\n",
        "The problem has lots of constants that must be defined:"
      ]
    },
    {
      "cell_type": "code",
      "execution_count": null,
      "id": "b7241633-17d5-4d93-8e3b-1d31b19ccc77",
      "metadata": {
        "editable": true,
        "slideshow": {
          "slide_type": ""
        },
        "tags": []
      },
      "outputs": [],
      "source": [
        "# Dynamic Model Parameters\n",
        "mu = 3.986012e14  # earth gravity parameter\n",
        "R_e = 6378145.0  # earth radius\n",
        "g0 = 9.80665  # sea-level gravity\n",
        "h0 = 7200.0  # atmospheric density scale height\n",
        "rho0 = 1.225  # sea-level air density\n",
        "omega_e = 7.29211585e-5  # earth rotation rate\n",
        "CD = 0.5  # coefficient of drag\n",
        "S = 4 * pi  # aerodynamic reference area\n",
        "psi_l = 28.5 * pi / 180.0  # latitude of launch site\n",
        "q_max = 100000.0  # dynamic pressure bound\n",
        "\n",
        "# Vehicle parameters\n",
        "# srb, first stage, second stage, payload masses (kg)\n",
        "pi_s, pi_1, pi_2, pi_p = 19290.0, 104380.0, 19300.0, 4164.0\n",
        "\n",
        "# propellant masses (kg)\n",
        "rho_s, rho_1, rho_2 = 17010.0, 95550.0, 16820.0\n",
        "\n",
        "# dry masses\n",
        "phi_s = pi_s - rho_s\n",
        "phi_1 = pi_1 - rho_1\n",
        "phi_2 = pi_2 - rho_2\n",
        "\n",
        "# srb, first stage, second stage thrust (N)\n",
        "Ts, T1, T2 = 628500.0, 1083100.0, 110094.0\n",
        "\n",
        "# burn times\n",
        "tau_s, tau_1, tau_2 = 75.2, 261.0, 700.0\n",
        "\n",
        "# initial total mass of vehicle\n",
        "m_total = 9 * pi_s + pi_1 + pi_2 + pi_p\n",
        "\n",
        "# initial time for each phase\n",
        "t0, t1, t2, t3 = 0.0, 75.2, 150.4, 261.0\n",
        "\n",
        "# max final time\n",
        "t4_max = t3 + tau_2\n",
        "\n",
        "# srb, first stage, second stage specific impulse (sec)\n",
        "Is = Ts * tau_s / (rho_s * g0)\n",
        "I1 = T1 * tau_1 / (rho_1 * g0)\n",
        "I2 = T2 * tau_2 / (rho_2 * g0)\n",
        "\n",
        "# orbital parameters for desired orbit\n",
        "a_f, e_f, i_f, Omega_f, omega_f = 24361140, 0.7308, 28.5, 269.8, 130.5\n",
        "\n",
        "# initial position\n",
        "r0_vec = R_e * cos(psi_l), 0.0, R_e * sin(psi_l)\n",
        "\n",
        "# initial and final masses for the 4 phases\n",
        "mi_0 = 9 * pi_s + pi_1 + pi_2 + pi_p\n",
        "mf_0 = mi_0 - 6 * rho_s - tau_s / tau_1 * rho_1\n",
        "\n",
        "mi_1 = mf_0 - 6 * phi_s\n",
        "mf_1 = mi_1 - 3 * rho_s - tau_s / tau_1 * rho_1\n",
        "\n",
        "mi_2 = mf_1 - 3 * phi_s\n",
        "mf_2 = mi_2 - (1 - 2 * tau_s / tau_1) * rho_1\n",
        "\n",
        "mi_3 = mf_2 - phi_1"
      ]
    },
    {
      "cell_type": "markdown",
      "id": "360c345c-7a93-47bf-9d88-35546f374fd9",
      "metadata": {
        "editable": true,
        "slideshow": {
          "slide_type": ""
        },
        "tags": []
      },
      "source": [
        "### Callback Functions\n",
        "\n",
        "Before defining the callback functions, we need some helper functions to compute cross products, magnitudes, and dot products for vectors:"
      ]
    },
    {
      "cell_type": "code",
      "execution_count": null,
      "id": "59b35875-e341-4514-b739-843350e60be2",
      "metadata": {
        "editable": true,
        "slideshow": {
          "slide_type": ""
        },
        "tags": []
      },
      "outputs": [],
      "source": [
        "def cross(x1, x2):\n",
        "    \"\"\"Vector cross product.\"\"\"\n",
        "    x3 = [0, 0, 0]\n",
        "    x3[0] = x1[1] * x2[2] - x1[2] * x2[1]\n",
        "    x3[1] = x1[2] * x2[0] - x1[0] * x2[2]\n",
        "    x3[2] = x1[0] * x2[1] - x1[1] * x2[0]\n",
        "    return x3\n",
        "\n",
        "\n",
        "def mag(x):\n",
        "    \"\"\"Vector magnitude.\"\"\"\n",
        "    return (sum(xi**2 for xi in x) + 1e-100) ** 0.5\n",
        "\n",
        "\n",
        "def dot(x1, x2):\n",
        "    \"\"\"Vector _dot product.\"\"\"\n",
        "    return sum(x1[i] * x2[i] for i in range(3))"
      ]
    },
    {
      "cell_type": "markdown",
      "id": "28259887-9c82-412c-b447-32ad1dcffdc5",
      "metadata": {
        "editable": true,
        "slideshow": {
          "slide_type": ""
        },
        "tags": []
      },
      "source": [
        "Functions that convert back and forth between between orbital elements and position, velocity vectors:"
      ]
    },
    {
      "cell_type": "code",
      "execution_count": null,
      "id": "ee6e6625-1954-4cf8-ad49-efc625fca766",
      "metadata": {
        "editable": true,
        "slideshow": {
          "slide_type": ""
        },
        "tags": []
      },
      "outputs": [],
      "source": [
        "def oe_to_rv(a, e, i, Omega, omega, nu, mu_):\n",
        "    \"\"\"Convert orbital elements to cartesian position and velocity.\n",
        "\n",
        "    Parameters\n",
        "    ----------\n",
        "        a: semimajor axis\n",
        "        e: eccentricity\n",
        "        i: inclination\n",
        "        Omega: longitude of the ascending node (degrees)\n",
        "        omega: argument of the periapsis (degrees)\n",
        "        nu: true anomaly\n",
        "        mu: Gravitational parameter\n",
        "\n",
        "    Returns\n",
        "    -------\n",
        "        Tuple[ArrayLike]: Inertial position and velocity vectors\n",
        "    \"\"\"\n",
        "    # pylint: disable=too-many-arguments\n",
        "    p = a * (1 - e**2)\n",
        "    r = p / (1 + e * cos(nu))\n",
        "    r_vec = np.array([r * cos(nu), r * sin(nu), 0])\n",
        "    v_vec = sqrt(mu_ / p) * np.array([-sin(nu), e + cos(nu), 0])\n",
        "    deg_to_rad = pi / 180\n",
        "    c_O = cos(deg_to_rad * Omega)\n",
        "    s_O = sin(deg_to_rad * Omega)\n",
        "    c_o = cos(deg_to_rad * omega)\n",
        "    s_o = sin(deg_to_rad * omega)\n",
        "    c_i = cos(deg_to_rad * i)\n",
        "    s_i = sin(deg_to_rad * i)\n",
        "    R = [\n",
        "        [c_O * c_o - s_O * s_o * c_i, -c_O * s_o - s_O * c_o * c_i, +s_O * s_i],\n",
        "        [s_O * c_o + c_O * s_o * c_i, -s_O * s_o + c_O * c_o * c_i, -c_O * s_i],\n",
        "        [s_o * s_i, c_o * s_i, c_i],\n",
        "    ]\n",
        "    R = np.array(R)\n",
        "    r_vec = R @ r_vec\n",
        "    v_vec = R @ v_vec\n",
        "    return r_vec, v_vec\n",
        "\n",
        "\n",
        "def rv_to_oe(r_vec, v_vec):\n",
        "    r\"\"\"Compute orbital elements from position and velocity vectors.\n",
        "\n",
        "    The function is a simplified calculation of (some of) the orbital elements, without\n",
        "    checking for special cases.\n",
        "\n",
        "    Parameters\n",
        "    ----------\n",
        "        r_vec : 3-dimensional position vector\n",
        "        v_vec : 3-dimensional velocity vector\n",
        "\n",
        "    Returns\n",
        "    -------\n",
        "    Tuple[ArrayLike]\n",
        "        Five of the six orbital elements: semimajor axis, eccentricity, inclination,\n",
        "        longitude of the ascending node, argument of the periapsis\n",
        "    \"\"\"\n",
        "    # http://www.aerospacengineering.net/determining-orbital-elements/\n",
        "    r = mag(r_vec)\n",
        "    v = mag(v_vec)\n",
        "    h_vec = cross(r_vec, v_vec)\n",
        "    h = mag(h_vec)\n",
        "    n_vec = cross([0, 0, 1], h_vec)\n",
        "    n = mag(n_vec)\n",
        "    e0 = ((v**2 - mu / r) * r_vec[0] - dot(r_vec, v_vec) * v_vec[0]) / mu\n",
        "    e1 = ((v**2 - mu / r) * r_vec[1] - dot(r_vec, v_vec) * v_vec[1]) / mu\n",
        "    e2 = ((v**2 - mu / r) * r_vec[2] - dot(r_vec, v_vec) * v_vec[2]) / mu\n",
        "    e_vec = (e0, e1, e2)\n",
        "    e = mag(e_vec)\n",
        "    a = 1 / (2 / r - v**2 / mu)\n",
        "    i = np.arccos(h_vec[2] / h) * 180 / pi\n",
        "    Omega = 360 - np.arccos(n_vec[0] / n) * 180 / pi\n",
        "    omega = np.arccos(dot(n_vec, e_vec) / (n * e)) * 180 / pi\n",
        "    return a, e, i, Omega, omega"
      ]
    },
    {
      "cell_type": "markdown",
      "id": "20898ed9-35c0-4d87-80fd-9eff3f386ed9",
      "metadata": {
        "editable": true,
        "slideshow": {
          "slide_type": ""
        },
        "tags": []
      },
      "source": [
        "The callback functions:"
      ]
    },
    {
      "cell_type": "code",
      "execution_count": null,
      "id": "78e95e1d-0997-4d5e-bfdc-267dd08b6fbb",
      "metadata": {
        "editable": true,
        "slideshow": {
          "slide_type": ""
        },
        "tags": []
      },
      "outputs": [],
      "source": [
        "def objective(arg):\n",
        "    \"\"\"Calculate Delta III ascent trajectory optimization problem objective.\"\"\"\n",
        "    # maximize the final mass\n",
        "    arg.objective = -arg.phase[3].final_state[6]\n",
        "\n",
        "\n",
        "def continuous(arg):\n",
        "    \"\"\"Calculate Delta III ascent optimization problem dynamics and path constraints.\"\"\"\n",
        "\n",
        "    for p in arg.phase_list:\n",
        "        state = arg.phase[p].state\n",
        "        r1, r2, r3 = r_vec = state[0:3]\n",
        "        v1, v2, v3 = v_vec = state[3:6]\n",
        "        m = state[6]\n",
        "        u1, u2, u3 = u_vec = arg.phase[p].control  # already non-dimensional\n",
        "\n",
        "        if p == 0:\n",
        "            thrust = 6 * Ts + T1\n",
        "            m_dot = -(6 * Ts / (g0 * Is) + T1 / (g0 * I1))\n",
        "        elif p == 1:\n",
        "            thrust = 3 * Ts + T1\n",
        "            m_dot = -(3 * Ts / (g0 * Is) + T1 / (g0 * I1))\n",
        "        elif p == 2:\n",
        "            thrust = T1\n",
        "            m_dot = -T1 / (g0 * I1)\n",
        "        elif p == 3:\n",
        "            thrust = T2\n",
        "            m_dot = -T2 / (g0 * I2)\n",
        "        else:\n",
        "            raise ValueError\n",
        "\n",
        "        # kinematics\n",
        "        r1_dot, r2_dot, r3_dot = v1, v2, v3\n",
        "\n",
        "        # air density\n",
        "        r = (r1**2 + r2**2 + r3**2) ** 0.5\n",
        "        h = r - R_e\n",
        "        rho = rho0 * np.exp(-h / h0)\n",
        "\n",
        "        # aerodynamics\n",
        "        omega_cross_r = cross([0, 0, omega_e], r_vec)\n",
        "        vr_vec = [v_vec[i] - omega_cross_r[i] for i in range(3)]\n",
        "        vr = mag(vr_vec)\n",
        "        q_over_vr = 0.5 * rho * vr\n",
        "        q_factor = q_over_vr * CD * S\n",
        "        d1, d2, d3 = -q_factor * vr_vec[0], -q_factor * vr_vec[1], -q_factor * vr_vec[2]\n",
        "\n",
        "        # dynamics\n",
        "        mu_over_r3 = mu / r**3\n",
        "        thrust_over_m = thrust / m\n",
        "        one_over_m = 1 / m\n",
        "        v1_dot = -mu_over_r3 * r1 + thrust_over_m * u1 + one_over_m * d1\n",
        "        v2_dot = -mu_over_r3 * r2 + thrust_over_m * u2 + one_over_m * d2\n",
        "        v3_dot = -mu_over_r3 * r3 + thrust_over_m * u3 + one_over_m * d3\n",
        "        arg.phase[p].dynamics[:] = r1_dot, r2_dot, r3_dot, v1_dot, v2_dot, v3_dot, m_dot\n",
        "\n",
        "        # path constraints\n",
        "        arg.phase[p].path[:] = mag(u_vec), mag(r_vec)\n",
        "\n",
        "\n",
        "def discrete(arg):\n",
        "    \"\"\"Calculate the Delta III ascent trajectory optimization problem discrete constraints.\n",
        "\n",
        "    The discrete constraints are that:\n",
        "        * The final position and velocity of each phase are the same as the\n",
        "          initial position and velocity at the next phase, if there is one.\n",
        "        * The final position and velocity of the last phase is in the desired\n",
        "          orbit.\n",
        "    \"\"\"\n",
        "    phase = arg.phase\n",
        "    arg.discrete[0:6] = phase[0].final_state[0:6] - phase[1].initial_state[0:6]\n",
        "    arg.discrete[6:12] = phase[1].final_state[0:6] - phase[2].initial_state[0:6]\n",
        "    arg.discrete[12:18] = phase[2].final_state[:6] - phase[3].initial_state[:6]\n",
        "    x = phase[3].final_state\n",
        "    r = x[:3]\n",
        "    v = x[3:6]\n",
        "    oe = rv_to_oe(r, v)\n",
        "    arg.discrete[18:23] = oe\n",
        "\n",
        "\n",
        "problem.functions.objective = objective\n",
        "problem.functions.continuous = continuous\n",
        "problem.functions.discrete = discrete"
      ]
    },
    {
      "cell_type": "markdown",
      "id": "423bfa67-0b43-4ecd-b5a6-9cbf37e7d2cb",
      "metadata": {
        "editable": true,
        "slideshow": {
          "slide_type": ""
        },
        "tags": []
      },
      "source": [
        "### Bounds\n",
        "\n",
        "The initial conditions are the rocket position is the location of the launch pad on Earth,\n",
        "$$\n",
        "   \\begin{aligned}\n",
        "   \\mathbf{r}^{(0)}\\left(t_{0}\\right)&=\\mathbf{r}_{0}=\\left(R_E \\cos \\phi_{0}, 0,\n",
        "   R_E \\sin \\phi_{0}\\right)\n",
        "   \\end{aligned}\n",
        "$$\n",
        "where $\\phi_{0}$ is the latitude of the launch site. (The ECI coordinate system is chosen so that the launch site is in the $x$-$z$ plane at the initial time.) The initial inertial velocity of the vehicle is the same as the inertial velocity of the launch site, and is given by\n",
        "$$\n",
        "   \\begin{aligned}\n",
        "   \\mathbf{v}\\left(t_{0}\\right) &=\\mathbf{v}_{0}=\\boldsymbol \\Omega \\times \\text{r}_{0}\n",
        "   \\end{aligned}\n",
        "$$\n",
        "Finally, the initial mass is given by\n",
        "$$\n",
        "   \\begin{aligned}\n",
        "     m\\left(t_{0}\\right) &=m_{0}=301\\,454 \\text{ kg}\n",
        "   \\end{aligned}\n",
        "$$\n",
        "\n",
        "There are also boundary conditions that connect the phases. In particular, we must have that the terminal position and velocity of a phase is the same as the initial position and velocity of the next phase (if there is one):\n",
        "$$\n",
        "   \\begin{aligned}\n",
        "   \\mathbf{r}^{(p)}\\left(t_{f}^{(p)}\\right)-\\mathbf{r}^{(p+1)}\\left(t_{0}^{(p+1)}\n",
        "      \\right) &=\\mathbf{0} \\\\\n",
        "   \\mathbf{v}^{(p)}\\left(t_{f}^{(p)}\\right)-\\mathbf{v}^{(p+1)}\\left(t_{0}^{(p+1)}\n",
        "      \\right) &=\\mathbf{0}, \\quad (p=0, 1, 2)\n",
        "   \\end{aligned}\n",
        "$$\n",
        "Here the superscript \"$(p)$\" means the state associated with phase $p$. (Note that we use zero-based indexing, consistent with the Python code.)\n",
        "\n",
        "Finally, the payload is required to end up in a specific orbit, defined by five of the six standard orbital elements, as given in Table 2 below:  \n",
        "$~$  "
      ]
    },
    {
      "cell_type": "code",
      "execution_count": null,
      "id": "772af51d-13a6-4cb2-997f-ddc04aed2855",
      "metadata": {
        "editable": true,
        "slideshow": {
          "slide_type": ""
        },
        "tags": []
      },
      "outputs": [],
      "source": [
        "x0 = [R_e * cos(psi_l), 0.0, R_e * sin(psi_l)]\n",
        "v0 = [0.0, R_e * omega_e * cos(psi_l), 0.0]\n",
        "state_0 = 7 * [0.0]\n",
        "state_0[:3] = x0\n",
        "state_0[3:6] = v0\n",
        "state_0[6] = mi_0\n",
        "\n",
        "r_max = 2 * R_e\n",
        "v_max = 10000.0\n",
        "\n",
        "# 10 kg leeway on box bounds\n",
        "ten = 10\n",
        "\n",
        "# box bounds on position and velocity\n",
        "for p in range(4):\n",
        "    bounds = problem.bounds.phase[p]\n",
        "    bounds.initial_state.lower[:6] = 3 * [-r_max] + 3 * [-v_max]\n",
        "    bounds.initial_state.upper[:6] = 3 * [r_max] + 3 * [v_max]\n",
        "    bounds.state.lower[:6] = 3 * [-r_max] + 3 * [-v_max]\n",
        "    bounds.state.upper[:6] = 3 * [r_max] + 3 * [v_max]\n",
        "    bounds.final_state.lower[:6] = 3 * [-r_max] + 3 * [-v_max]\n",
        "    bounds.final_state.upper[:6] = 3 * [r_max] + 3 * [v_max]\n",
        "\n",
        "# phase 0 time and state bounds\n",
        "bounds = problem.bounds.phase[0]\n",
        "bounds.initial_time.lower = bounds.initial_time.upper = t0\n",
        "bounds.final_time.lower = bounds.final_time.upper = t1\n",
        "bounds.initial_state.lower[:] = bounds.initial_state.upper[:] = state_0\n",
        "bounds.state.lower[6] = mf_0 - ten\n",
        "bounds.state.upper[6] = mi_0 + ten\n",
        "bounds.final_state.lower[6] = mf_0 - ten\n",
        "bounds.final_state.upper[6] = mi_0 + ten\n",
        "\n",
        "# phase 1\n",
        "bounds = problem.bounds.phase[1]\n",
        "bounds.initial_time.lower = bounds.initial_time.upper = t1\n",
        "bounds.final_time.lower = bounds.final_time.upper = t2\n",
        "bounds.initial_state.lower[6] = bounds.initial_state.upper[6] = mi_1\n",
        "bounds.state.lower[6] = mf_1 - ten\n",
        "bounds.state.upper[6] = mi_1 + ten\n",
        "bounds.final_state.lower[6] = mf_1 - ten\n",
        "bounds.final_state.upper[6] = mi_1 + ten\n",
        "\n",
        "# phase 2\n",
        "bounds = problem.bounds.phase[2]\n",
        "bounds.initial_time.lower = bounds.initial_time.upper = t2\n",
        "bounds.final_time.lower = bounds.final_time.upper = t3\n",
        "bounds.initial_state.lower[6] = bounds.initial_state.upper[6] = mi_2\n",
        "bounds.state.lower[6] = mf_2 - ten\n",
        "bounds.state.upper[6] = mi_2 + ten\n",
        "bounds.final_state.lower[6] = mf_2 - ten\n",
        "bounds.final_state.upper[6] = mi_2 + ten\n",
        "\n",
        "# phase 3\n",
        "bounds = problem.bounds.phase[3]\n",
        "bounds.initial_time.lower = bounds.initial_time.upper = t3\n",
        "bounds.final_time.lower = t3\n",
        "bounds.final_time.upper = t4_max\n",
        "bounds.initial_state.lower[6] = bounds.initial_state.upper[6] = mi_3\n",
        "bounds.state.lower[6] = pi_p - ten\n",
        "bounds.state.upper[6] = mi_3 + ten\n",
        "bounds.final_state.lower[6] = pi_p\n",
        "bounds.final_state.upper[6] = mi_3 + ten\n",
        "\n",
        "# path and control constraints\n",
        "for p_ in range(4):\n",
        "    problem.bounds.phase[p_].path.lower[:] = 1, R_e\n",
        "    problem.bounds.phase[p_].path.upper[0] = 1\n",
        "    problem.bounds.phase[p_].control.lower[:] = -1.1\n",
        "    problem.bounds.phase[p_].control.upper[:] = +1.1\n",
        "\n",
        "# discrete constraints\n",
        "problem.bounds.discrete.lower[:18] = problem.bounds.discrete.upper[:18] = 0\n",
        "problem.bounds.discrete.lower[18:23] = problem.bounds.discrete.upper[18:23] = (\n",
        "    a_f,\n",
        "    e_f,\n",
        "    i_f,\n",
        "    Omega_f,\n",
        "    omega_f,\n",
        ")"
      ]
    },
    {
      "cell_type": "markdown",
      "id": "a48b38c7-8fbb-42ea-ba8f-5fe81acb5d12",
      "metadata": {
        "editable": true,
        "slideshow": {
          "slide_type": ""
        },
        "tags": []
      },
      "source": [
        "### Initial Guess\n",
        "\n",
        "An initial guess is required for this problem. For many simple problems, the solution will converge for almost any initial guess, and it's often convenient to set the state and control histories to zero as the initial guess. However, that doesn't work here, because (among other things), the acceleration due to gravity at $\\mathbf{r}=\\mathbf{0}$ is infinite!\n",
        "\n",
        "We know the initial and final times of each phase, except for the final phase, for which we don't know the final time, but we know its maximum value. So we use those values for the time guess. Similarly, we know the initial and final masses (again except for the final phase where we know the minimum mass), and so we use those for the guess. For the position and velocities, we use a very crude guess, namely that for phases 0 and 1, the position and velocity are constant and equal to the initial position and velocity, and for phases 2 and 3, the position and velocity are constant and equal to the position and velocity implied by the desired orbital elements of the final state. Although crude, that's good enough to get the algorithm started and reach a converged solution in only a couple seconds of computation."
      ]
    },
    {
      "cell_type": "code",
      "execution_count": null,
      "id": "f7e6178b-1b0f-438e-8d89-dcb0559e37db",
      "metadata": {
        "editable": true,
        "slideshow": {
          "slide_type": ""
        },
        "tags": []
      },
      "outputs": [],
      "source": [
        "# time guess\n",
        "problem.guess.phase[0].time = (t0, t1)\n",
        "problem.guess.phase[1].time = (t1, t2)\n",
        "problem.guess.phase[2].time = (t2, t3)\n",
        "problem.guess.phase[3].time = (t3, t4_max)\n",
        "\n",
        "\n",
        "# initialize state guess\n",
        "for p in range(4):\n",
        "    problem.guess.phase[p].state = np.zeros([7, 2])\n",
        "\n",
        "# mass guess\n",
        "problem.guess.phase[0].state[6] = (mi_0, mf_0)\n",
        "problem.guess.phase[1].state[6] = (mi_1, mf_1)\n",
        "problem.guess.phase[2].state[6] = (mi_2, mf_2)\n",
        "problem.guess.phase[3].state[6] = (mi_3, pi_p)\n",
        "\n",
        "# position, velocity, and control guess\n",
        "for p_ in range(2):\n",
        "    guess = problem.guess.phase[p_]\n",
        "    guess.state[:3] = [[x0[0], x0[0]], [x0[1], x0[1]], [x0[2], x0[2]]]\n",
        "    guess.state[3:6] = [[v0[0], v0[0]], [v0[1], v0[1]], [v0[2], v0[2]]]\n",
        "    guess.control = [[0.0, 0.0], [1.0, 1.0], [0.0, 0.0]]\n",
        "\n",
        "# terminal state\n",
        "xv_f = np.concatenate(oe_to_rv(a_f, e_f, i_f, Omega_f, omega_f, 0, mu))\n",
        "xv_f = np.array([xv_f, xv_f]).transpose()\n",
        "# print(temp)\n",
        "\n",
        "for p_ in range(2, 4):\n",
        "    guess = problem.guess.phase[p_]\n",
        "    guess.state[:6] = xv_f\n",
        "    guess.control = [[0.0, 0.0], [1.0, 1.0], [0.0, 0.0]]"
      ]
    },
    {
      "cell_type": "markdown",
      "id": "d087c2c7-d70c-43b5-8e2b-2d3f367e9fde",
      "metadata": {
        "editable": true,
        "slideshow": {
          "slide_type": ""
        },
        "tags": []
      },
      "source": [
        "### Scaling\n",
        "\n",
        "In metric units, many of the variables and parameters in this problem are quite large or quite small. For example, the radius of the Earth is \n",
        "$$\n",
        "    R_E = 6.378145\\times10^6 \\text{ m}\n",
        "$$\n",
        "and the Earth's gravity parameter is\n",
        "$$\n",
        "    \\mu = 3.986012\\times10^{14}\\text{ m}^3/\\text{s}^2\n",
        "$$\n",
        "On the other hand, Earth's rotation rate is only\n",
        "$$\n",
        "    \\omega_E = 7.29211585\\times10^{-5} \\text{ rad/sec}\n",
        "$$\n",
        "Without scaling, the problem is hopelessly ill-conditioned. Therefore,\n",
        "scaling is essential. To improve the problem conditioning, we choose length, velocity, time, and mass scales as$$\n",
        "    L = R_E, \\quad \n",
        "    V = \\sqrt{\\frac{\\mu}{R_E}}, \\quad\n",
        "    T = \\frac{L}{V}, \\quad\n",
        "    M = m_0\n",
        "$$\n",
        "where $m_0$ is the total mass of the vehicle at the initial time. When\n",
        "scaled by these values, the resulting variables are nondimensional and of order\n",
        "1, greatly improving the conditioning of the system."
      ]
    },
    {
      "cell_type": "code",
      "execution_count": null,
      "id": "8a10a3d4-f4ba-4826-ac41-b1610ef4e598",
      "metadata": {
        "editable": true,
        "slideshow": {
          "slide_type": ""
        },
        "tags": []
      },
      "outputs": [],
      "source": [
        "length_scale = R_e\n",
        "mass_scale = m_total\n",
        "velocity_scale = sqrt(mu / length_scale)\n",
        "time_scale = length_scale / velocity_scale\n",
        "\n",
        "state_scale = np.ones([7])\n",
        "state_scale[:3] *= length_scale\n",
        "state_scale[3:6] *= velocity_scale\n",
        "state_scale[6] *= mass_scale\n",
        "\n",
        "for p in range(4):\n",
        "    problem.scale.phase[p].state[0:3] = length_scale\n",
        "    problem.scale.phase[p].state[3:6] = velocity_scale\n",
        "    problem.scale.phase[p].state[6] = mass_scale\n",
        "    problem.scale.phase[p].dynamics[0:3] = length_scale\n",
        "    problem.scale.phase[p].dynamics[3:6] = velocity_scale\n",
        "    problem.scale.phase[p].dynamics[6] = mass_scale\n",
        "    problem.scale.phase[p].time = time_scale\n",
        "    problem.scale.phase[p].path[:] = 1, length_scale\n",
        "\n",
        "for p in range(3):\n",
        "    problem.scale.discrete[0 + 6 * p : 3 + 6 * p] = length_scale\n",
        "    problem.scale.discrete[3 + 6 * p : 6 + 6 * p] = velocity_scale\n",
        "problem.scale.discrete[18] = length_scale\n",
        "\n",
        "problem.scale.objective = mass_scale"
      ]
    },
    {
      "cell_type": "markdown",
      "id": "4b0820b9-c921-415e-b2ca-c081461d8c02",
      "metadata": {
        "editable": true,
        "slideshow": {
          "slide_type": ""
        },
        "tags": []
      },
      "source": [
        "### Solver Options"
      ]
    },
    {
      "cell_type": "code",
      "execution_count": null,
      "id": "14098ba3-cee1-4e5b-8d03-a690c88b55a5",
      "metadata": {
        "editable": true,
        "slideshow": {
          "slide_type": ""
        },
        "tags": []
      },
      "outputs": [],
      "source": [
        "# spectral method and derivatives\n",
        "problem.spectral_method = \"lgl\"\n",
        "problem.derivatives.method = \"auto\"\n",
        "problem.derivatives.order = \"second\"\n",
        "\n",
        "# mesh structure\n",
        "m, n = 5, 5\n",
        "for p_ in range(4):\n",
        "    problem.mesh.phase[p_].collocation_points = m * (n,)\n",
        "    problem.mesh.phase[p_].fraction = m * (1.0 / m,)\n",
        "\n",
        "# Ipopt options\n",
        "problem.ipopt_options.tol = 1e-20\n",
        "problem.ipopt_options.max_iter = 1000\n",
        "problem.ipopt_options.sb = \"yes\"\n",
        "problem.ipopt_options.print_level = 3\n",
        "problem.ipopt_options.print_user_options = \"no\"\n",
        "problem.ipopt_options.linear_solver = \"mumps\"\n",
        "\n",
        "# solve\n",
        "solution = problem.solve()"
      ]
    },
    {
      "cell_type": "raw",
      "id": "0e96b4a8-60c6-4777-bd2f-2a784460e541",
      "metadata": {
        "editable": true,
        "raw_mimetype": "text/restructuredtext",
        "slideshow": {
          "slide_type": ""
        },
        "tags": []
      },
      "source": [
        ".. note::\n",
        "\n",
        "    Most likely, the evaluation of the above cell produced a warning:\n",
        "\n",
        "    .. code-block:: console\n",
        "\n",
        "        RuntimeWarning: invalid value encountered in divide mu_over_r3 = mu / r**3\n",
        "    \n",
        "    This warning is a result of a bug in the way that the CasADi and NumPy packages\n",
        "    interact. The warning is sometimes produced when (as in this case), arithmetic operations\n",
        "    are performed on symbolic expressions with large numerical constants (greater than \n",
        "    :math:`2^{31} \\approx 2.147 \\times 10^9`). See the `NumPy Github issue \n",
        "    <https://github.com/numpy/numpy/issues/21416>`_ for more details.\n",
        "\n",
        "    There are two ways to silence the warning. The warning can be silenced globally by the code:\n",
        "\n",
        "    .. code-block:: python\n",
        "\n",
        "        import numpy as np\n",
        "\n",
        "        np.seterr(invalid=\"ignore\")\n",
        "\n",
        "    It's probably preferable to silence the warning with a context manager:\n",
        "\n",
        "    .. code-block:: python\n",
        "\n",
        "        with np.errstate(invalid=\"ignore\"):\n",
        "            solution = problem.solve()"
      ]
    },
    {
      "cell_type": "markdown",
      "id": "1c1e8651-81f6-4c6f-b7df-59b94ca52800",
      "metadata": {
        "editable": true,
        "slideshow": {
          "slide_type": ""
        },
        "tags": []
      },
      "source": [
        "## Plots of Solution"
      ]
    },
    {
      "cell_type": "code",
      "execution_count": null,
      "id": "0d4fddfd-f309-4a76-a301-cd3276171792",
      "metadata": {
        "editable": true,
        "slideshow": {
          "slide_type": ""
        },
        "tags": []
      },
      "outputs": [],
      "source": [
        "# extract the state, control, costate, dynamics, path, and time variables\n",
        "x = [solution.phase[p].state for p in range(4)]\n",
        "u = [solution.phase[p].control for p in range(4)]\n",
        "p = [solution.phase[p].costate for p in range(4)]\n",
        "f = [solution.phase[p].dynamics for p in range(4)]\n",
        "t = [solution.phase[p].time for p in range(4)]\n",
        "tc = [solution.phase[p].time_c for p in range(4)]\n",
        "\n",
        "tf = solution.phase[-1].time[-1]\n",
        "\n",
        "# velocity for plotting\n",
        "v = 4 * [None]\n",
        "for phase in range(4):\n",
        "    v[phase] = np.sqrt(x[phase][3] ** 2 + x[phase][4] ** 2 + x[phase][5] ** 2)\n",
        "\n",
        "# form the Hamiltonian\n",
        "hamiltonian = []\n",
        "for k in range(4):\n",
        "    hamiltonian.append(sum(p[k][i] * f[k][i] for i in range(7)))\n",
        "\n",
        "# plot settings\n",
        "color = (\"darkblue\", \"maroon\", \"darkorange\")"
      ]
    },
    {
      "cell_type": "markdown",
      "id": "6c447ec9-f748-4e44-a016-014264ba0a31",
      "metadata": {
        "editable": true,
        "slideshow": {
          "slide_type": ""
        },
        "tags": []
      },
      "source": [
        "### Altitude"
      ]
    },
    {
      "cell_type": "code",
      "execution_count": null,
      "id": "ddcb6637-5b67-4361-bf05-bc3e510909e3",
      "metadata": {
        "editable": true,
        "slideshow": {
          "slide_type": ""
        },
        "tags": []
      },
      "outputs": [],
      "source": [
        "plt.figure(1)\n",
        "plt.clf()\n",
        "for phase in range(4):\n",
        "    h = np.sqrt(sum(x[phase][i] ** 2 for i in range(3))) - R_e\n",
        "    plt.plot(t[phase], h / 1000, color[0])\n",
        "plt.xlim(0, tf)\n",
        "plt.ylim([0, 250])\n",
        "plt.xlabel(r\"Time, $t$ (s)\")\n",
        "plt.ylabel(r\"Altitude, $h$ (km)\")\n",
        "plt.grid(\"both\")"
      ]
    },
    {
      "cell_type": "markdown",
      "id": "d1ef1e07-f23b-4294-9337-70174b5fe84c",
      "metadata": {
        "editable": true,
        "slideshow": {
          "slide_type": ""
        },
        "tags": []
      },
      "source": [
        "### Vehicle Position"
      ]
    },
    {
      "cell_type": "code",
      "execution_count": null,
      "id": "aba0f956-5adf-4f76-98bf-0412c9a27235",
      "metadata": {
        "editable": true,
        "slideshow": {
          "slide_type": ""
        },
        "tags": []
      },
      "outputs": [],
      "source": [
        "plt.figure()\n",
        "for phase in range(4):\n",
        "    for i in range(3):\n",
        "        plt.plot(t[phase], x[phase][i] / 1e6, color[i])\n",
        "plt.legend([r\"$r_{1}(t)$\", r\"$r_{2}(t)$\", r\"$r_{3}(t)$\"])\n",
        "plt.xlim(0, tf)\n",
        "plt.ylim(0, 6)\n",
        "plt.xlabel(\"Time, $t$ (s)\")\n",
        "plt.ylabel(\"Position Vector (1000 km)\")\n",
        "plt.grid(\"on\")"
      ]
    },
    {
      "cell_type": "markdown",
      "id": "05cbaf25-baf2-4b7c-a668-2b068f893680",
      "metadata": {
        "editable": true,
        "slideshow": {
          "slide_type": ""
        },
        "tags": []
      },
      "source": [
        "### Vehicle Velocity"
      ]
    },
    {
      "cell_type": "code",
      "execution_count": null,
      "id": "cdf4e272-5103-4db3-936b-15bee1762a89",
      "metadata": {
        "editable": true,
        "slideshow": {
          "slide_type": ""
        },
        "tags": []
      },
      "outputs": [],
      "source": [
        "plt.figure()\n",
        "for phase in range(4):\n",
        "    for i in range(3, 6):\n",
        "        plt.plot(t[phase], x[phase][i], color[i - 3])\n",
        "plt.legend([r\"$v_{1}(t)$\", r\"$v_{2}(t)$\", r\"$v_{3}(t)$\"])\n",
        "plt.xlim(0, tf)\n",
        "plt.xlabel(\"Time, $t$ (s)\")\n",
        "plt.ylabel(\"Inertial Velocity Vector (m/s)\")\n",
        "plt.grid(\"on\")"
      ]
    },
    {
      "cell_type": "code",
      "execution_count": null,
      "id": "510f1cc3-1b8e-498c-9292-0988b6a35559",
      "metadata": {
        "editable": true,
        "slideshow": {
          "slide_type": ""
        },
        "tags": []
      },
      "outputs": [],
      "source": [
        "plt.figure()\n",
        "for phase in range(4):\n",
        "    plt.plot(t[phase], v[phase], color[0])\n",
        "plt.xlim(0, tf)\n",
        "plt.ylim([0, 12000])\n",
        "plt.xlabel(\"Time, $t$ (s)\")\n",
        "plt.ylabel(\"Magnitude of Inertial Velocity, $v(t)$ (m/s)\")\n",
        "plt.grid(\"on\")"
      ]
    },
    {
      "cell_type": "markdown",
      "id": "b0535808-f8fe-4fb1-b38e-6376f81dd8e8",
      "metadata": {
        "editable": true,
        "slideshow": {
          "slide_type": ""
        },
        "tags": []
      },
      "source": [
        "### Control Inputs (Thrust Directions)"
      ]
    },
    {
      "cell_type": "code",
      "execution_count": null,
      "id": "b3900cf3-528f-4e47-9db9-92f2518e9c3d",
      "metadata": {
        "editable": true,
        "slideshow": {
          "slide_type": ""
        },
        "tags": []
      },
      "outputs": [],
      "source": [
        "plt.figure()\n",
        "for p in range(4):\n",
        "    for i in range(3):\n",
        "        plt.plot(tc[p], u[p][i], color[i])\n",
        "plt.legend([r\"$u_{1}(t)$\", r\"$u_{2}(t)$\", r\"$u_{3}(t)$\"])\n",
        "plt.xlim(0, tf)\n",
        "plt.ylim([-0.8, 1.1])\n",
        "plt.xlabel(\"Time, $t$ (s)\")\n",
        "plt.ylabel(\"Components of thrust direction vector, $u(t)$\")\n",
        "plt.grid(\"on\")"
      ]
    },
    {
      "cell_type": "markdown",
      "id": "a9ae0c28-6fe1-4347-afd5-05adc36996a7",
      "metadata": {
        "editable": true,
        "slideshow": {
          "slide_type": ""
        },
        "tags": []
      },
      "source": [
        "### Vehicle Mass"
      ]
    },
    {
      "cell_type": "code",
      "execution_count": null,
      "id": "9eaa4771-af1a-4b00-9d90-a40153d99ec4",
      "metadata": {
        "editable": true,
        "slideshow": {
          "slide_type": ""
        },
        "tags": []
      },
      "outputs": [],
      "source": [
        "plt.figure()\n",
        "for p in range(4):\n",
        "    plt.plot(t[p], x[p][6] / 1000)\n",
        "plt.ylabel(\"Vehicle mass, $m$ (1000 kg)\")\n",
        "plt.xlim(0, tf)\n",
        "plt.ylim([0, 300])\n",
        "plt.xlabel(\"Time, $t$ (s)\")\n",
        "plt.grid(\"on\")"
      ]
    },
    {
      "cell_type": "markdown",
      "id": "1c0b0453-515c-43d6-9717-e4a131e1af77",
      "metadata": {
        "editable": true,
        "slideshow": {
          "slide_type": ""
        },
        "tags": []
      },
      "source": [
        "### Hamiltonian"
      ]
    },
    {
      "cell_type": "markdown",
      "id": "6a16d929-db1e-48da-835c-00452ade67d8",
      "metadata": {
        "editable": true,
        "slideshow": {
          "slide_type": ""
        },
        "tags": []
      },
      "source": [
        "The dynamics are time-invariant within phases, and the cost function has no integral terms, and so the Hamiltonian should be be constant within each phase."
      ]
    },
    {
      "cell_type": "code",
      "execution_count": null,
      "id": "ea77a6fb-968a-44c7-8597-5beca96c29f6",
      "metadata": {
        "editable": true,
        "slideshow": {
          "slide_type": ""
        },
        "tags": []
      },
      "outputs": [],
      "source": [
        "plt.figure()\n",
        "for p in range(4):\n",
        "    plt.plot(tc[p], hamiltonian[p], color[0], linewidth=2)\n",
        "plt.xlim(0, tf)\n",
        "plt.xlabel(r\"Time, $t$ (s)\")\n",
        "plt.ylabel(r\"Hamiltonian, $\\lambda^T f$ (kg/s)\")\n",
        "plt.grid(\"both\")"
      ]
    },
    {
      "cell_type": "markdown",
      "id": "5728e3ed-23ed-433d-baa7-4ff7f84bbc60",
      "metadata": {
        "editable": true,
        "slideshow": {
          "slide_type": ""
        },
        "tags": []
      },
      "source": [
        "## References"
      ]
    },
    {
      "cell_type": "raw",
      "id": "139d95ed-ab2c-4eed-801f-5f571663a475",
      "metadata": {
        "editable": true,
        "raw_mimetype": "text/restructuredtext",
        "slideshow": {
          "slide_type": ""
        },
        "tags": []
      },
      "source": [
        ".. footbibliography::\n"
      ]
    }
  ],
  "metadata": {},
  "nbformat": 4,
  "nbformat_minor": 5
}
