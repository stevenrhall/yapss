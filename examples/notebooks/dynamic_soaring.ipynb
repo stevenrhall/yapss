{
  "cells": [
    {
      "cell_type": "markdown",
      "id": "83fbdc52-ba53-40e5-b282-f60724100c06",
      "metadata": {
        "editable": true,
        "slideshow": {
          "slide_type": ""
        },
        "tags": []
      },
      "source": [
        "<a id=\"dynamic-soaring-notebook\"></a>"
      ]
    },
    {
      "cell_type": "markdown",
      "id": "5da7a07c-ee89-4e5e-807a-a3aae3036604",
      "metadata": {
        "editable": true,
        "slideshow": {
          "slide_type": ""
        },
        "tags": []
      },
      "source": [
        "\n",
        "# Dynamic Soaring\n",
        "\n",
        "For a solution to the dynamic soaring problem using a Python script instead of a notebook, see the corresponding [Python script documentation](../scripts/dynamic_soaring.rst).\n",
        "\n",
        "\n",
        "## Description\n",
        "\n",
        "In 1883, Lord Rayleigh (John William Strutt, 3rd Baron Rayleigh) was the first to describe the mechanism of dynamic soaring, by which birds can maintain flight without flapping in the presence of wind gradients. He wrote <cite data-footcite=\"Rayleigh:1883\">(Rayleigh, 1883)</cite>:\n",
        "\n",
        "> The first step is, if necessary, to turn round until the relative motion is to leeward, and then to drop gradually down through the plane of separation. In falling down to the level of the plane there is a gain of relative velocity, but this is of no significance for the present purpose, as it is purchased by the loss of elevation; but in passing through the plane there is a really effective gain. In entering the lower stratum the actual velocity is indeed unaltered, but the velocity relatively to the surrounding air is increased. The bird must now wheel round in the lower stratum until the direction of motion is to windward, and then return to the upper stratum, in entering which there is a second increment of relative velocity. This process may evidently be repeated indefinitely; and if the successive increments of relative velocity squared are large enough to outweigh the inevitable waste which is in progress all the while, the bird may maintain his level, and even increase his available energy, without doing a stroke of work.\n",
        "\n",
        "Zhao <cite data-footcite=\"Zhao:2004\"/> formulated the dynamic soaring problem as an optimal control problem, and looked at optimizing a number of parameters, including the least required wind gradient slope that can sustain dynamic soaring flight. Darby et al. <cite data-footcite=\"Darby:2011\"/> presented a solution using the LGR pseudospectral method implemented in the GPOPS software package. The example presented here is slightly modified version of that problem, implemented in YAPSS. (In our modification, the closed path is clockwise, so that larger bank angles are positive instead of negative.)\n",
        "\n",
        "The states of the system are given by\n",
        "$$\n",
        "\\begin{aligned}\n",
        "   x(t) &= \\text{distance north} \\\\\n",
        "   y(t) &= \\text{distance east} \\\\\n",
        "   h(t) &= \\text{altitude} \\\\\n",
        "   v(t) &= \\text{velocity} \\\\\n",
        "   \\gamma(t) &= \\text{flight path angle} \\\\\n",
        "   \\psi(t) &= \\text{heading angle}\n",
        "\\end{aligned}\n",
        "$$\n",
        "and the control inputs are\n",
        "$$\n",
        "\\begin{aligned}\n",
        "   C_{L}(t) &= \\text{lift coefficient} \\\\\n",
        "   \\phi(t)  &= \\text{bank angle (rad)}\n",
        "\\end{aligned}\n",
        "$$\n",
        "The differential equations for the states are given by\n",
        "$$\n",
        "\\begin{aligned}\n",
        "   \\dot{x} &= v \\cos\\gamma \\,\\sin\\psi + W_{x} \\\\\n",
        "   \\dot{y} &= v \\cos\\gamma \\,\\cos\\psi \\\\\n",
        "   \\dot{h} &= v \\sin\\gamma \\\\\n",
        "   \\dot{v} &= -\\frac{D}{m} - g \\sin\\gamma - \\dot{W}_{x} \\cos\\gamma \\,\\sin\\psi \\\\\n",
        "   \\dot{\\gamma} &= \\frac{1}{mv} \\left(\\,L \\cos \\phi - mg \\cos \\gamma\n",
        "                     + m \\dot{W}_{x} \\sin\\gamma \\,\\sin\\psi\\,\\right) \\\\\n",
        "   \\dot{\\psi} &= \\frac{L \\sin\\phi - m \\dot{W}_{x} \\cos\\psi}{m v\\cos\\gamma}\n",
        "\\end{aligned}\n",
        "$$\n",
        "The lift and drag are given by\n",
        "$$\n",
        "   L = q S C_{L}, \\quad D = q S C_{D}\n",
        "$$\n",
        "where $S$ is the wing reference area, and the dynamic pressure is\n",
        "$$\n",
        "   q = \\frac{1}{2} \\rho v^{2}\n",
        "$$\n",
        "The drag coefficient is a constant (the profile drag) plus a term dependent of the lift coefficient\n",
        "squared (the induced drag):\n",
        "$$\n",
        "   C_{D} = C_{D 0} + K C_{L}^{2}\n",
        "$$\n",
        "The winds are out of the north, with magnitude increasing linearly with altitutde, so that\n",
        "$$\n",
        "   W_{x} =\\beta h, \\quad \\dot{W}_{x} =\\beta \\dot{h}\n",
        "$$\n",
        "The goal of this problem are to find the minimum value of the gradient $\\beta$ that can\n",
        "sustain a continuous cycle of dynamic soaring, that is to minimize\n",
        "$$\n",
        "   J = \\beta\n",
        "$$\n",
        "subject to the boundary conditions\n",
        "$$\n",
        "\\begin{aligned}\n",
        "   x(t_f) &= x(0) = 0 \\\\\n",
        "   y(t_f) &= y(0) = 0 \\\\\n",
        "   h(t_f) &= h(0) = 0 \\\\\n",
        "   v(t_f) &= v(0) \\\\\n",
        "   \\phi(t_f) &= \\phi(0) \\\\\n",
        "   \\psi(t_f) &= \\psi(0) + 2 \\pi\n",
        "   \\end{aligned}\n",
        "$$\n",
        "There is a limit on the second control (the coefficient of lift), given as\n",
        "$$\n",
        "   0 \\le C_L(t) \\le {C_L}_\\text{max} = 1.5\n",
        "$$\n",
        "In addition to the boundary conditions, there is a load limit on the glider that limits the\n",
        "acceleration due to lift with the path constraint\n",
        "$$\n",
        "   -2 \\le \\frac{L}{mg} \\le 5\n",
        "$$\n",
        "Box bounds on the state variables are imposed in order to speed the convergence to the optimumn but\n",
        "none of these bounds are active at the final solution:\n",
        "$$\n",
        "\\begin{aligned}\n",
        "    -1500 &\\leq x(t) \\leq 1500 \\\\\n",
        "    -1000 &\\leq y(t) \\leq 1000 \\\\\n",
        "    0 &\\leq h(t) \\leq 1000 \\\\\n",
        "    10 &\\leq v(t) \\leq 350 \\\\\n",
        "    0^{\\circ} &\\leq \\gamma(t) \\leq 75^{\\circ} \\\\\n",
        "    -225^{\\circ} &\\leq \\psi(t) \\leq 225^{\\circ}\n",
        "\\end{aligned}    \n",
        "$$\n",
        "Finally, the constants for this problem are given by\n",
        "$$\n",
        "\\begin{alignat*}{3}\n",
        "  g &= 32.2 \\text{ ft/s$^2$}, \\quad &\n",
        "     C_{D 0} &= 0.00873, \\quad &\n",
        "     \\rho &= 0.002378 \\text{ slug/ft$^3$} \\\\\n",
        "  m &= 5.6 \\text{ slug}, \\quad &\n",
        "     S &= 45.09703 \\text{ ft$^2$}, \\quad &\n",
        "     K &= 0.045\n",
        "\\end{alignat*}\n",
        "$$"
      ]
    },
    {
      "cell_type": "markdown",
      "id": "c08fadcc",
      "metadata": {
        "editable": true,
        "slideshow": {
          "slide_type": ""
        },
        "tags": []
      },
      "source": [
        "## YAPSS Solution\n",
        "\n",
        "Begin by importing required packages:"
      ]
    },
    {
      "cell_type": "code",
      "execution_count": null,
      "id": "7b096a66",
      "metadata": {
        "slideshow": {
          "slide_type": ""
        },
        "tags": []
      },
      "outputs": [],
      "source": [
        "# third party imports\n",
        "import matplotlib.pyplot as plt\n",
        "import numpy as np\n",
        "from mpl_toolkits.mplot3d import Axes3D\n",
        "from yapss import Problem\n",
        "\n",
        "# package imports\n",
        "from yapss.math import cos, sin"
      ]
    },
    {
      "cell_type": "markdown",
      "id": "32870b9a",
      "metadata": {},
      "source": [
        "Next, initialize the problem instance, and define the required callback functions:"
      ]
    },
    {
      "cell_type": "code",
      "execution_count": null,
      "id": "c887156e",
      "metadata": {
        "editable": true,
        "slideshow": {
          "slide_type": ""
        },
        "tags": []
      },
      "outputs": [],
      "source": [
        "# The problem has one phase, with 6 state variables, 2 control variables, 1 path\n",
        "# constraint, 1 paramter, and 3 discrete constraints\n",
        "problem = Problem(name=\"Dynamic Soaring\", nx=[6], nu=[2], nh=[1], ns=1, nd=3)\n",
        "\n",
        "# The objective is to minimimize the wind gradient required for continuous dynamic\n",
        "# soaring.\n",
        "\n",
        "\n",
        "def objective(arg):\n",
        "    arg.objective = arg.parameter[0]\n",
        "\n",
        "\n",
        "# The constinuous callback function defines the state dynamics and the path constraints.\n",
        "\n",
        "\n",
        "def continuous(arg):\n",
        "    # Extract the state and control variables, and the wind gradient parameter\n",
        "    auxdata = arg.auxdata\n",
        "    _, _, h, v, gamma, psi = arg.phase[0].state\n",
        "    cl, phi = arg.phase[0].control\n",
        "    beta = arg.parameter[0]\n",
        "\n",
        "    # Weight of the aircraft\n",
        "    w = auxdata.m * auxdata.g0\n",
        "\n",
        "    # Determine the lift and drag\n",
        "    q = auxdata.rho0 * v**2 / 2\n",
        "    cd = auxdata.cd0 + auxdata.k * cl**2\n",
        "    lift = q * auxdata.s * cl\n",
        "    drag = q * auxdata.s * cd\n",
        "\n",
        "    # wind velocity as determined by the wind gradient and altitude\n",
        "    wx = beta * h + auxdata.w0\n",
        "\n",
        "    # Sine and cosine of the angles gamma, psi, and phi\n",
        "    cos_gamma = cos(gamma)\n",
        "    sin_gamma = sin(gamma)\n",
        "    cos_psi = cos(psi)\n",
        "    sin_psi = sin(psi)\n",
        "    cos_phi = cos(phi)\n",
        "    sin_phi = sin(phi)\n",
        "\n",
        "    # State dynamics\n",
        "    x_dot = v * cos_gamma * sin_psi + wx\n",
        "    y_dot = v * cos_gamma * cos_psi\n",
        "    h_dot = v * sin_gamma\n",
        "    wx_dot = beta * h_dot\n",
        "    v_dot = -drag / auxdata.m - auxdata.g0 * sin_gamma - wx_dot * cos_gamma * sin_psi\n",
        "    gamma_dot = (lift * cos_phi - w * cos_gamma + auxdata.m * wx_dot * sin_gamma * sin_psi) / (\n",
        "        auxdata.m * v\n",
        "    )\n",
        "    psi_dot = (lift * sin_phi - auxdata.m * wx_dot * cos_psi) / (auxdata.m * v * cos_gamma)\n",
        "\n",
        "    # Return dynamics and path variables\n",
        "    arg.phase[0].dynamics = x_dot, y_dot, h_dot, v_dot, gamma_dot, psi_dot\n",
        "    arg.phase[0].path[0] = (0.5 * auxdata.rho0 * auxdata.s / w) * cl * v**2\n",
        "\n",
        "\n",
        "# Discrete constraints\n",
        "\n",
        "\n",
        "def discrete(arg):\n",
        "    # Constrain the initial and final flight path angle and heading angle to be the same,\n",
        "    # and the heading angle to change by 360 degrees.\n",
        "    # The initial and final state are constrained to be the same by the state bounds.\n",
        "    x0 = arg.phase[0].initial_state\n",
        "    xf = arg.phase[0].final_state\n",
        "    arg.discrete = xf[3:] - x0[3:]\n",
        "\n",
        "\n",
        "problem.functions.objective = objective\n",
        "problem.functions.continuous = continuous\n",
        "problem.functions.discrete = discrete"
      ]
    },
    {
      "cell_type": "markdown",
      "id": "0146793a",
      "metadata": {},
      "source": [
        "Define the constants that will be passed to the callback function through the `arg.auxdata` attribute:"
      ]
    },
    {
      "cell_type": "code",
      "execution_count": null,
      "id": "86f49966",
      "metadata": {},
      "outputs": [],
      "source": [
        "auxdata = problem.auxdata\n",
        "auxdata.w0 = 0\n",
        "auxdata.g0 = 32.2\n",
        "auxdata.cd0 = 0.00873\n",
        "auxdata.rho0 = 0.002378\n",
        "auxdata.m = 5.6\n",
        "auxdata.s = 45.09703\n",
        "auxdata.k = 0.045"
      ]
    },
    {
      "cell_type": "markdown",
      "id": "8e2b5d2f",
      "metadata": {},
      "source": [
        "Set the bounds on the decision variables and constraint functions:"
      ]
    },
    {
      "cell_type": "code",
      "execution_count": null,
      "id": "5b145233",
      "metadata": {},
      "outputs": [],
      "source": [
        "bounds = problem.bounds.phase[0]\n",
        "\n",
        "# The initial time is fixed to be 0. The final time will be between 10 and 30.\n",
        "bounds.initial_time.lower = 0\n",
        "bounds.initial_time.upper = 0\n",
        "bounds.final_time.lower = 10\n",
        "bounds.final_time.upper = 30\n",
        "\n",
        "# The initial and final positions are at the origin\n",
        "bounds.initial_state.lower[:3] = bounds.initial_state.upper[:3] = 0, 0, 0\n",
        "bounds.final_state.lower[:3] = bounds.final_state.upper[:3] = 0, 0, 0\n",
        "\n",
        "# Set loose box bounds on the state.\n",
        "# None of these should be active in the solution.\n",
        "bounds.state.lower = -1500, -1000, 0, 10, np.radians(-75), np.radians(-225)\n",
        "bounds.state.upper = +1500, +1000, 1000, 350, np.radians(75), np.radians(225)\n",
        "\n",
        "# CL_max <= 1.5. Set loose box bound on bank angle.\n",
        "bounds.control.lower = 0, np.radians(-75)\n",
        "bounds.control.upper = 1.5, np.radians(75)\n",
        "\n",
        "# Limits on the normal load\n",
        "bounds.path.lower = (-2,)\n",
        "bounds.path.upper = (5,)\n",
        "\n",
        "\n",
        "problem.bounds.discrete.lower = problem.bounds.discrete.upper = 0, 0, np.radians(360)"
      ]
    },
    {
      "cell_type": "markdown",
      "id": "0e73df77",
      "metadata": {},
      "source": [
        "Provide scaling information to improve the convergence rate:"
      ]
    },
    {
      "cell_type": "code",
      "execution_count": null,
      "id": "306a737a",
      "metadata": {},
      "outputs": [],
      "source": [
        "scale = problem.scale\n",
        "scale.objective = 0.1\n",
        "scale.parameter = [0.1]\n",
        "scale.discrete = [200.0, 200.0, 200.0]\n",
        "phase = scale.phase[0]\n",
        "phase.dynamics = phase.state = 1000.0, 1000.0, 1000.0, 200.0, 1.0, 6.0\n",
        "phase.control = 1.0, 1.0\n",
        "phase.time = 30.0\n",
        "phase.path = [7.0]"
      ]
    },
    {
      "cell_type": "markdown",
      "id": "8780abbf",
      "metadata": {},
      "source": [
        "Provide a simple initial guess. Note that the guess does not have to be consistent; for this example, the initial flight path is tilted, but that's not reflected in the guess for the flight path angle."
      ]
    },
    {
      "cell_type": "code",
      "execution_count": null,
      "id": "fa6a8247",
      "metadata": {},
      "outputs": [],
      "source": [
        "pi = np.pi\n",
        "tf = 24\n",
        "one = np.ones(50, dtype=float)\n",
        "\n",
        "# initial path is a tilted ellipse\n",
        "t = np.linspace(0, tf, num=50, dtype=float)\n",
        "y = -200 * np.sin(2 * pi * t / tf)\n",
        "x = 600 * (np.cos(2 * pi * t / tf) - 1)\n",
        "h = -0.7 * x\n",
        "\n",
        "# velocity is 150 ft/s\n",
        "v = 150 * one\n",
        "\n",
        "# flight path angle is zero\n",
        "gamma = 0 * one\n",
        "\n",
        "# heading changes linearly with time\n",
        "psi = np.radians(t / tf * 360)\n",
        "\n",
        "# constant CL and bank angle\n",
        "cl = 0.5 * one\n",
        "phi = np.radians(45) * one\n",
        "\n",
        "problem.guess.phase[0].time = t\n",
        "problem.guess.phase[0].state = x, y, h, v, gamma, psi\n",
        "problem.guess.phase[0].control = cl, phi\n",
        "problem.guess.parameter = (0.08,)"
      ]
    },
    {
      "cell_type": "markdown",
      "id": "e97ae992",
      "metadata": {},
      "source": [
        "Define the computational mesh for the phase. Here we are using a fairly large number (50) of segments, with a relatively number of collocation points (6) per segment. That's because there will be a discontinuity in derivatives of the state when the $C_L$ constraint switches from active to inactive or vice versa, and discontinuities are better resolved by shorter, low order segments."
      ]
    },
    {
      "cell_type": "code",
      "execution_count": null,
      "id": "e86efb9f",
      "metadata": {},
      "outputs": [],
      "source": [
        "# define mesh\n",
        "m, n = 50, 6\n",
        "problem.mesh.phase[0].collocation_points = m * (n,)\n",
        "problem.mesh.phase[0].fraction = m * (1.0 / m,)\n",
        "problem.spectral_method = \"lgl\""
      ]
    },
    {
      "cell_type": "markdown",
      "id": "5fa27dd1",
      "metadata": {},
      "source": [
        "The fastest convergence is obtained if exact derivatives are obtained using automatic differentiation, and second derivatives are provided."
      ]
    },
    {
      "cell_type": "code",
      "execution_count": null,
      "id": "04fe2d9b",
      "metadata": {},
      "outputs": [],
      "source": [
        "problem.derivatives.method = \"auto\"\n",
        "problem.derivatives.order = \"second\""
      ]
    },
    {
      "cell_type": "markdown",
      "id": "d9c40b09",
      "metadata": {},
      "source": [
        "Solve the problem:"
      ]
    },
    {
      "cell_type": "code",
      "execution_count": null,
      "id": "5fa34779",
      "metadata": {},
      "outputs": [],
      "source": [
        "# Set options to limit Ipopt output\n",
        "problem.ipopt_options.print_level = 3\n",
        "problem.ipopt_options.print_user_options = \"no\"\n",
        "problem.ipopt_options.sb = \"yes\"\n",
        "\n",
        "solution = problem.solve()"
      ]
    },
    {
      "cell_type": "markdown",
      "id": "65d8e662",
      "metadata": {},
      "source": [
        "## Plot the Solution\n",
        "\n",
        "First extract the states, controls, dynamics, and costates from the solution:"
      ]
    },
    {
      "cell_type": "code",
      "execution_count": null,
      "id": "8904e72a",
      "metadata": {},
      "outputs": [],
      "source": [
        "auxdata = problem.auxdata\n",
        "t = solution.phase[0].time\n",
        "tc = solution.phase[0].time_c\n",
        "x, y, h, v, gamma, psi = solution.phase[0].state\n",
        "cl, phi = solution.phase[0].control\n",
        "costate = solution.phase[0].costate\n",
        "dynamics = solution.phase[0].dynamics"
      ]
    },
    {
      "cell_type": "markdown",
      "id": "95b9ad0c",
      "metadata": {
        "editable": true,
        "slideshow": {
          "slide_type": ""
        },
        "tags": []
      },
      "source": [
        "### 3D Flight Path\n",
        "\n",
        "Plot the flight path in 3D:"
      ]
    },
    {
      "cell_type": "code",
      "execution_count": null,
      "id": "f6a7e61d",
      "metadata": {
        "editable": true,
        "slideshow": {
          "slide_type": ""
        },
        "tags": []
      },
      "outputs": [],
      "source": [
        "# %matplotlib notebook\n",
        "\n",
        "plt.figure(1, figsize=(6, 6))\n",
        "ax = plt.axes(projection=Axes3D.name)\n",
        "ax.plot3D(x, y, h)\n",
        "ax.plot3D(0 * x - 1200, y, h, \"r--\")\n",
        "ax.plot3D(x, 0 * y + 500, h, \"r--\")\n",
        "ax.plot3D(x, y, 0 * h - 100, \"r--\")\n",
        "ax.set_xlim([-1200, 0])\n",
        "ax.set_ylim([-600, 500])\n",
        "ax.set_zlim([-100, 1000])\n",
        "ax.set_xlabel(r\"$x$ (ft)\", fontsize=10)\n",
        "ax.set_ylabel(r\"$y$ (ft)\", fontsize=10)\n",
        "ax.set_zlabel(r\"$h$ (ft)\", fontsize=10)\n",
        "ax.tick_params(axis=\"x\", labelsize=10)\n",
        "ax.tick_params(axis=\"y\", labelsize=10)\n",
        "ax.tick_params(axis=\"z\", labelsize=10)\n",
        "ax.set_box_aspect(None, zoom=0.85)\n",
        "# ax.view_init(elev=30, azim=45)\n",
        "plt.tight_layout()"
      ]
    },
    {
      "cell_type": "markdown",
      "id": "63b3334e",
      "metadata": {
        "editable": true,
        "slideshow": {
          "slide_type": ""
        },
        "tags": []
      },
      "source": [
        "### Lift Coefficient History"
      ]
    },
    {
      "cell_type": "code",
      "execution_count": null,
      "id": "644d2485",
      "metadata": {
        "editable": true,
        "slideshow": {
          "slide_type": ""
        },
        "tags": []
      },
      "outputs": [],
      "source": [
        "plt.figure()\n",
        "limit = 5 * (auxdata.m * auxdata.g0) / (0.5 * auxdata.rho0 * auxdata.s * v**2)\n",
        "plt.plot(t, limit, \"r--\")\n",
        "plt.plot(tc, cl)\n",
        "plt.ylim([0, 1])\n",
        "legend = plt.legend([\"Load factor limit\", \"Lift coefficient, $C_{L}$\"])\n",
        "legend.get_frame().set_facecolor(\"white\")\n",
        "legend.get_frame().set_alpha(1)\n",
        "legend.get_frame().set_linewidth(0)\n",
        "plt.xlabel(r\"Time, $t$ (sec)\")\n",
        "plt.ylabel(r\"Lift coefficient, $C_L$\")\n",
        "plt.tight_layout()\n",
        "plt.grid()"
      ]
    },
    {
      "cell_type": "markdown",
      "id": "153bd1ba-9bd9-4420-86bc-dae299426616",
      "metadata": {
        "editable": true,
        "slideshow": {
          "slide_type": ""
        },
        "tags": []
      },
      "source": [
        "### Velocity History"
      ]
    },
    {
      "cell_type": "code",
      "execution_count": null,
      "id": "e8c7762f",
      "metadata": {
        "editable": true,
        "slideshow": {
          "slide_type": ""
        },
        "tags": []
      },
      "outputs": [],
      "source": [
        "plt.figure(3)\n",
        "plt.plot(t, v)\n",
        "plt.xlabel(r\"Time, $t$ (sec)\")\n",
        "plt.ylabel(r\"Velocity, $v$ (ft/s)\")\n",
        "plt.tight_layout()\n",
        "plt.grid()"
      ]
    },
    {
      "cell_type": "markdown",
      "id": "75838b11-e3b6-4f14-b631-791e80029c0c",
      "metadata": {
        "editable": true,
        "slideshow": {
          "slide_type": ""
        },
        "tags": []
      },
      "source": [
        "### Flight Path Angle History"
      ]
    },
    {
      "cell_type": "code",
      "execution_count": null,
      "id": "e19d26ed",
      "metadata": {
        "editable": true,
        "slideshow": {
          "slide_type": ""
        },
        "tags": []
      },
      "outputs": [],
      "source": [
        "# Plot the flight path angle\n",
        "plt.figure(4)\n",
        "plt.plot(t, np.rad2deg(gamma))\n",
        "plt.xlabel(r\"Time, $t$ (sec)\")\n",
        "plt.ylabel(r\"Flight path angle, $\\gamma$ (deg)\")\n",
        "plt.tight_layout()\n",
        "plt.grid()"
      ]
    },
    {
      "cell_type": "markdown",
      "id": "98664c8e-f083-432f-81e5-bf6127395170",
      "metadata": {
        "editable": true,
        "slideshow": {
          "slide_type": ""
        },
        "tags": []
      },
      "source": [
        "### Heading Angle History"
      ]
    },
    {
      "cell_type": "code",
      "execution_count": null,
      "id": "fcc2ec1a",
      "metadata": {
        "editable": true,
        "slideshow": {
          "slide_type": ""
        },
        "tags": []
      },
      "outputs": [],
      "source": [
        "plt.figure(5)\n",
        "plt.plot(t, np.rad2deg(psi))\n",
        "plt.xlabel(r\"Time, $t$ (sec)\")\n",
        "plt.ylabel(r\"Heading angle, $\\psi$ (deg)\")\n",
        "plt.tight_layout()\n",
        "plt.grid()"
      ]
    },
    {
      "cell_type": "markdown",
      "id": "916f7c3c-b56a-444d-b55d-7a8a46392647",
      "metadata": {
        "editable": true,
        "slideshow": {
          "slide_type": ""
        },
        "tags": []
      },
      "source": [
        "### Bank Angle History"
      ]
    },
    {
      "cell_type": "code",
      "execution_count": null,
      "id": "49c338a3",
      "metadata": {
        "editable": true,
        "slideshow": {
          "slide_type": ""
        },
        "tags": []
      },
      "outputs": [],
      "source": [
        "plt.figure(6)\n",
        "plt.plot(tc, np.rad2deg(phi))\n",
        "plt.xlabel(r\"Time, $t$ (sec)\")\n",
        "plt.ylabel(r\"Bank angle, $\\phi$ (deg)\")\n",
        "plt.tight_layout()\n",
        "plt.grid()"
      ]
    },
    {
      "cell_type": "markdown",
      "id": "b96c474e-230b-46af-82fe-cac0ce220d77",
      "metadata": {
        "editable": true,
        "slideshow": {
          "slide_type": ""
        },
        "tags": []
      },
      "source": [
        "### Hamiltonian"
      ]
    },
    {
      "cell_type": "code",
      "execution_count": null,
      "id": "242d3e71",
      "metadata": {
        "editable": true,
        "slideshow": {
          "slide_type": ""
        },
        "tags": []
      },
      "outputs": [],
      "source": [
        "hamiltonian = solution.phase[0].hamiltonian\n",
        "\n",
        "plt.figure(7)\n",
        "plt.plot(tc, hamiltonian)\n",
        "plt.ylim([-0.001, 0.001])\n",
        "plt.xlabel(r\"Time, $t$ (sec)\")\n",
        "plt.ylabel(r\"Hamiltonian, $\\mathcal{H}$\")\n",
        "plt.tight_layout()\n",
        "plt.grid()"
      ]
    },
    {
      "cell_type": "markdown",
      "id": "ad52a315-e6b2-4118-a13c-bd9ce9fdcc3c",
      "metadata": {
        "editable": true,
        "slideshow": {
          "slide_type": ""
        },
        "tags": []
      },
      "source": [
        "## References"
      ]
    },
    {
      "cell_type": "raw",
      "id": "96b0aa20-a7ef-478f-b642-6beafd481465",
      "metadata": {
        "editable": true,
        "raw_mimetype": "text/restructuredtext",
        "slideshow": {
          "slide_type": ""
        },
        "tags": []
      },
      "source": [
        ".. footbibliography::"
      ]
    }
  ],
  "metadata": {},
  "nbformat": 4,
  "nbformat_minor": 5
}
