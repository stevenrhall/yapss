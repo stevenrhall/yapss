{
  "cells": [
    {
      "cell_type": "markdown",
      "id": "9a214447-b18a-4239-9f76-c188e9d90e3e",
      "metadata": {
        "editable": true,
        "raw_mimetype": "text/restructuredtext",
        "slideshow": {
          "slide_type": ""
        },
        "tags": []
      },
      "source": [
        "# The Goddard Problem (One Phase)\n",
        "\n",
        "For a solution to the Goddard problem with one phase using a Python script instead of a notebook, see the [Python script documentation](../scripts/goddard_problem_1_phase.rst).\n",
        "\n",
        "## Problem Description\n",
        "\n",
        "Goddard <cite data-footcite=\"Goddard:1920\">(1920)</cite> first posed the problem of determining the maximum height that can be achieved by a rocket. In a 1920 paper in *Nature*, he posed the problem as follows:\n",
        "\n",
        "> The basic idea of the method, briefly stated in general terms, is this: Given a mass of explosive material of as great energy content as possible, what height can be reached if a large fraction of this material is shot downwards, on exploding, with as high a speed as possible? It is evident, intuitively, that the height will be great if the fraction of material that remains is small and the velocity of ejection of the gases is high.\n",
        "\n",
        "See Bryson and Ho <cite data-footcite=\"Bryson:1975\">(1975)</cite>, Section 8.3, for a detailed treatment of the Goddard Rocket problem and its history. The specific parameters used here are taken from Betts <cite data-footcite=\"Betts:2010\">(2010)</cite>, Problem 4.9. See also the solution using the GPOPS software package by Rao et al. <cite data-footcite=\"Rao:2010\">(2010)</cite>.\n",
        "\n",
        "The states of the system are given by\n",
        "$$\n",
        "\\begin{aligned}\n",
        "    h(t) &= \\text{altitude (ft)} \\\\\n",
        "    v(t) &= \\text{velocity (ft/s)} \\\\\n",
        "    m(t) &= \\text{mass (slug)}\n",
        "\\end{aligned}\n",
        "$$\n",
        "and the control input is\n",
        "$$\n",
        "\\begin{aligned}\n",
        "    u(t) = T(t) = \\text{thrust (lbf)}\n",
        "\\end{aligned}\n",
        "$$\n",
        "The optimal control problem is to maximize the final height achieved by the rocket,\n",
        "$$\n",
        "\\begin{equation}\n",
        "    J = h(t_f)\n",
        "\\end{equation}\n",
        "$$\n",
        "subject to the dynamics and the constraints on the thrust. The dynamics are given by\n",
        "$$\n",
        "\\begin{aligned}\n",
        "    \\dot{h} &= v \\\\\n",
        "    \\dot{v} &= \\frac{1}{m} \\left(T - D \\right) - g \\\\\n",
        "    \\dot{m} &= -\\frac{T}{c}\n",
        "\\end{aligned}\n",
        "$$\n",
        "where the drag $D$ is given by\n",
        "$$\n",
        "\\begin{aligned}\n",
        "    D &= \\frac{1}{2} \\rho(h) v^2 S C_D \\\\\n",
        "      &= \\frac{1}{2} \\rho_0 \\exp(-h/h_0) v^2 S C_D \\\\\n",
        "      &= \\sigma v^2 \\exp(-h/h_0)\n",
        "\\end{aligned}\n",
        "$$\n",
        "where $\\rho(h)=\\rho_0 \\exp(-h/h_0)$ is the air density as a function of altitude, $h_0$ is the scale height of the atmosphere, $S$ is the reference area of the rocket, $C_D$ is the drag coefficient of the rocket, and therefore\n",
        "$$\n",
        "\\begin{aligned}\n",
        "    \\sigma &= \\frac{1}{2} \\rho_0 S C_D\n",
        "\\end{aligned}\n",
        "$$\n",
        "The boundary conditions are that\n",
        "$$\n",
        "\\begin{aligned}\n",
        "    h(t_0) &= 0 \\\\\n",
        "    v(t_0) &= 0 \\\\\n",
        "    m(t_0) &= m_0 = 3 \\text{ lb} \\\\\n",
        "\\end{aligned}\n",
        "$$\n",
        "and the bounds on the states and control are that\n",
        "$$\n",
        "\\begin{aligned}\n",
        "    0 &\\le T \\le T_\\text{max} \\\\\n",
        "    m_f &\\le m \\le m_0\n",
        "\\end{aligned}\n",
        "$$\n",
        "The problem constants are given by\n",
        "$$\n",
        "\\begin{aligned}\n",
        "    g            &= 32.174 \\text{ ft/s}^2 \\\\\n",
        "    T_\\text{max} &= 200 \\text{ lbf} \\\\\n",
        "    \\sigma       &= 5.4915 \\times 10^{-5} \\text{ slug/ft}\\\\\n",
        "    c            &= 1580.9425 \\text{ ft/s} \\\\\n",
        "    h_0          &= \\text{23,800  ft}\n",
        "\\end{aligned}\n",
        "$$\n",
        "\n",
        "## YAPSS Solution\n",
        "\n",
        "We begin by importing the required Python packages, and instantiating the problem with the proper dimensions:"
      ]
    },
    {
      "cell_type": "code",
      "execution_count": null,
      "id": "9226c8e2-b4b7-4014-8bd0-0770c324298c",
      "metadata": {
        "editable": true,
        "slideshow": {
          "slide_type": ""
        },
        "tags": []
      },
      "outputs": [],
      "source": [
        "# third party imports\n",
        "import matplotlib.pyplot as plt\n",
        "\n",
        "# package imports\n",
        "from yapss.math import exp\n",
        "from yapss import Problem, Solution\n",
        "\n",
        "problem = Problem(name=\"One phase Goddard Rocket Problem\", nx=[3], nu=[1])"
      ]
    },
    {
      "cell_type": "markdown",
      "id": "ce0f47b2-69a9-4583-a492-9384c224bd69",
      "metadata": {},
      "source": [
        "We next define the callback functions, as well as any constants required. Note that no discrete callback function is required because there are no discrete function constraints."
      ]
    },
    {
      "cell_type": "code",
      "execution_count": null,
      "id": "5f8e12f7-5b80-4de9-a972-3b408c1a565c",
      "metadata": {
        "editable": true,
        "slideshow": {
          "slide_type": ""
        },
        "tags": []
      },
      "outputs": [],
      "source": [
        "# physical constants\n",
        "Tm = 200\n",
        "g = 32.174\n",
        "sigma = 5.4915e-05\n",
        "c = 1580.9425\n",
        "hs = 23800\n",
        "\n",
        "# callback functions\n",
        "\n",
        "\n",
        "def objective(arg):\n",
        "    \"\"\"Goddard Rocket Problem objective function.\"\"\"\n",
        "    arg.objective = arg.phase[0].final_state[0]\n",
        "\n",
        "\n",
        "def continuous(arg):\n",
        "    \"\"\"Goddard Rocket Problem dynamics.\"\"\"\n",
        "    h, v, m = arg.phase[0].state\n",
        "    (T,) = arg.phase[0].control\n",
        "    dynamics = arg.phase[0].dynamics\n",
        "    v_dot = (T - sigma * v**2 * exp(-h / hs)) / m - g\n",
        "    m_dot = -T / c\n",
        "    dynamics[0] = v\n",
        "    dynamics[1] = v_dot\n",
        "    dynamics[2] = m_dot\n",
        "\n",
        "\n",
        "functions = problem.functions\n",
        "functions.objective = objective\n",
        "functions.continuous = continuous"
      ]
    },
    {
      "cell_type": "markdown",
      "id": "48b91c1d-911b-4cf9-8b86-382c805170a6",
      "metadata": {},
      "source": [
        "Next, set the bounds. The initial states and times are constrained to be the required values, and the control (the thrust) is limited to allowable values. Loose bounds are set on all other variables, except for the final mass, which is constrained to be $m_f=1$."
      ]
    },
    {
      "cell_type": "code",
      "execution_count": null,
      "id": "58cccbe3-aca0-484c-be6f-80b92e06a76a",
      "metadata": {
        "editable": true,
        "slideshow": {
          "slide_type": ""
        },
        "tags": []
      },
      "outputs": [],
      "source": [
        "# boundary conditions\n",
        "h0, v0, m0 = 0, 0, 3\n",
        "mf = 1\n",
        "hmin, hmax = 0, 30000\n",
        "vmin, vmax = 0, 15000\n",
        "t0 = 0\n",
        "tf_min, tf_max = 20, 100\n",
        "\n",
        "# bounds\n",
        "bounds = problem.bounds.phase[0]\n",
        "\n",
        "# initial conditions\n",
        "bounds.initial_time.lower = bounds.initial_time.upper = t0\n",
        "bounds.initial_state.lower[:] = bounds.initial_state.upper[:] = [h0, v0, m0]\n",
        "\n",
        "# final time\n",
        "bounds.final_time.lower = tf_min\n",
        "bounds.final_time.upper = tf_max\n",
        "\n",
        "# state bounds\n",
        "bounds.state.lower[:] = [hmin, vmin, mf]\n",
        "bounds.state.upper[:] = [hmax, vmax, m0]\n",
        "bounds.final_state.lower[:] = [hmin, vmin, mf]\n",
        "bounds.final_state.upper[:] = [hmax, vmax, mf]\n",
        "\n",
        "# control bounds\n",
        "bounds.control.lower[:] = (0,)\n",
        "bounds.control.upper[:] = (Tm,)"
      ]
    },
    {
      "cell_type": "markdown",
      "id": "bb137583-c40c-4511-ac00-8aa52a305419",
      "metadata": {},
      "source": [
        "The initial guess is simply a linear interpolation between plausible initial and final values."
      ]
    },
    {
      "cell_type": "code",
      "execution_count": null,
      "id": "0902f029-967e-42cf-948f-c7d77d59947b",
      "metadata": {
        "editable": true,
        "slideshow": {
          "slide_type": ""
        },
        "tags": []
      },
      "outputs": [],
      "source": [
        "# guess\n",
        "phase = problem.guess.phase[0]\n",
        "phase.time = (t0, tf_max)\n",
        "phase.state = ((hmin, hmax), (v0, 0), (m0, mf))\n",
        "phase.control = ((Tm, 0),)"
      ]
    },
    {
      "cell_type": "markdown",
      "id": "980caa1c-2101-48a1-abef-1882a198ce4c",
      "metadata": {},
      "source": [
        "We use a mesh with 10 segments, each with 10 collocation points."
      ]
    },
    {
      "cell_type": "code",
      "execution_count": null,
      "id": "a0ae2345-fee7-491f-92b2-b160a045480e",
      "metadata": {
        "editable": true,
        "slideshow": {
          "slide_type": ""
        },
        "tags": []
      },
      "outputs": [],
      "source": [
        "# mesh\n",
        "m, n = 10, 10\n",
        "problem.mesh.phase[0].collocation_points = m * (n,)\n",
        "problem.mesh.phase[0].fraction = m * (1.0 / m,)"
      ]
    },
    {
      "cell_type": "markdown",
      "id": "3631d4fa-bf77-4bcf-aa7d-94e11d6e8e95",
      "metadata": {},
      "source": [
        "Scaling is important for this problem, because the range of some of the states (especially altitude) is large compare to 1. We set ``problem.scale.objective = -1`` because this is a maximization problem rather than a minimization problem."
      ]
    },
    {
      "cell_type": "code",
      "execution_count": null,
      "id": "b5b9ba5d-729b-487e-b257-6d214d2662ea",
      "metadata": {
        "editable": true,
        "slideshow": {
          "slide_type": ""
        },
        "tags": []
      },
      "outputs": [],
      "source": [
        "# scale the problem to make it better conditioned\n",
        "problem.scale.objective = -1\n",
        "problem.scale.phase[0].state = problem.scale.phase[0].dynamics = 18_000, 800, 3\n",
        "problem.scale.phase[0].time = 30"
      ]
    },
    {
      "cell_type": "markdown",
      "id": "1ced4c18-5595-41dc-8196-023324b32068",
      "metadata": {},
      "source": [
        "We use the default spectral method and derivatives order and method:"
      ]
    },
    {
      "cell_type": "code",
      "execution_count": null,
      "id": "5de2e05e-03a5-44d2-8bc9-72812bb6d058",
      "metadata": {
        "editable": true,
        "slideshow": {
          "slide_type": ""
        },
        "tags": []
      },
      "outputs": [],
      "source": [
        "# yapss options\n",
        "problem.spectral_method = \"lgl\"\n",
        "problem.derivatives.order = \"second\"\n",
        "problem.derivatives.method = \"auto\"\n",
        "\n",
        "# ipopt options\n",
        "problem.ipopt_options.tol = 1e-20\n",
        "problem.ipopt_options.print_level = 3"
      ]
    },
    {
      "cell_type": "markdown",
      "id": "d54b6f41-477b-4dfd-90ca-b696c012d2d6",
      "metadata": {},
      "source": [
        "Find the optimal solution:"
      ]
    },
    {
      "cell_type": "code",
      "execution_count": null,
      "id": "2c7fa352-edfb-4992-97ee-c6f6b13e374c",
      "metadata": {
        "tags": []
      },
      "outputs": [],
      "source": [
        "# find the solution\n",
        "solution = problem.solve()"
      ]
    },
    {
      "cell_type": "markdown",
      "id": "c0926175-f4f9-43e2-b303-c82d0775dc36",
      "metadata": {},
      "source": [
        "## Plots\n",
        "\n",
        "First, we need to extract the data from the solution:"
      ]
    },
    {
      "cell_type": "code",
      "execution_count": null,
      "id": "0760fba4-e5c1-45a3-9145-e621a3c24059",
      "metadata": {
        "editable": true,
        "slideshow": {
          "slide_type": ""
        },
        "tags": []
      },
      "outputs": [],
      "source": [
        "# extract information from solution\n",
        "time = solution.phase[0].time\n",
        "time_c = solution.phase[0].time_c\n",
        "h, v, m = solution.phase[0].state\n",
        "(T,) = solution.phase[0].control\n",
        "phase = solution.phase[0]\n",
        "hamiltonian = sum(phase.costate[i] * phase.dynamics[i] for i in range(3))\n",
        "\n",
        "# initial and final time\n",
        "t0 = solution.phase[0].initial_time\n",
        "tf = solution.phase[0].final_time"
      ]
    },
    {
      "cell_type": "markdown",
      "id": "529d8303-2a66-436d-b777-c9e6e5a3b266",
      "metadata": {},
      "source": [
        "### Thrust History"
      ]
    },
    {
      "cell_type": "code",
      "execution_count": null,
      "id": "feae461a-840e-4d45-8b8b-315865f32914",
      "metadata": {},
      "outputs": [],
      "source": [
        "# thrust\n",
        "plt.figure()\n",
        "plt.plot(time_c, T)\n",
        "plt.ylabel(\"Thrust, $T$ (lbf)\")\n",
        "plt.xlabel(\"Time, $t$ (sec)\")\n",
        "plt.xlim([t0, tf])\n",
        "plt.grid()\n",
        "plt.tight_layout()"
      ]
    },
    {
      "cell_type": "markdown",
      "id": "3a7e1ea2-dbd5-4232-92cc-50cdf7b34e17",
      "metadata": {},
      "source": [
        "Note that the thrust is constant at the beginning at the end of the problem, but in the middle section between about $t=12.5$ and $t=22$ seconds the solution is quite noisy. The is due to the presence of a *singular arc* in the problem. See this [JupyterLab notebook for the YAPSS solution to this problem taking into account the presence of the singular arc](goddard_problem_3_phase.rst).\n",
        "\n",
        "### Altitude"
      ]
    },
    {
      "cell_type": "code",
      "execution_count": null,
      "id": "b2e2429b-96c0-4def-9165-06a5ef65af62",
      "metadata": {
        "editable": true,
        "slideshow": {
          "slide_type": ""
        },
        "tags": []
      },
      "outputs": [],
      "source": [
        "# altitude\n",
        "plt.figure()\n",
        "plt.plot(time, h)\n",
        "plt.ylabel(\"Altitude, $h$ (ft)\")\n",
        "plt.xlabel(\"Time, $t$ (sec)\")\n",
        "plt.xlim([t0, tf])\n",
        "plt.grid()\n",
        "plt.tight_layout()"
      ]
    },
    {
      "cell_type": "markdown",
      "id": "a57df0cd-6016-49d1-9e0d-a5f46decaa76",
      "metadata": {},
      "source": [
        "### Velocity"
      ]
    },
    {
      "cell_type": "code",
      "execution_count": null,
      "id": "e5fa7285-3084-451b-9238-0b1aeec92a03",
      "metadata": {
        "editable": true,
        "slideshow": {
          "slide_type": ""
        },
        "tags": []
      },
      "outputs": [],
      "source": [
        "# velocity\n",
        "plt.figure()\n",
        "plt.plot(time, v)\n",
        "plt.ylabel(\"Velocity, $v$ (ft/s)\")\n",
        "plt.xlabel(\"Time, $t$ (sec)\")\n",
        "plt.xlim([t0, tf])\n",
        "plt.grid()\n",
        "plt.tight_layout()"
      ]
    },
    {
      "cell_type": "markdown",
      "id": "f8db3106-91dd-46f2-b4a1-cf1488ab1786",
      "metadata": {},
      "source": [
        "Note the raggedness of the velocity state during the singular arc. The velocity plot is less ragged than the thrust plot, because the velocity is the integral of forces on the rocket (including thrust), divided by mass. The action of integration smooths the high-frequency variation in those forces, specifically the thrust. Likewise, altitude is the integral of velocity, and so the altitude plot is smoother still.\n",
        "\n",
        "### Mass"
      ]
    },
    {
      "cell_type": "code",
      "execution_count": null,
      "id": "96f4d3ac-9c81-4836-b549-1bb6a7b63035",
      "metadata": {
        "editable": true,
        "slideshow": {
          "slide_type": ""
        },
        "tags": []
      },
      "outputs": [],
      "source": [
        "# mass\n",
        "plt.figure()\n",
        "plt.plot(time, m)\n",
        "plt.ylabel(\"Mass, $m$ (slugs)\")\n",
        "plt.xlabel(\"Time, $t$ (sec)\")\n",
        "plt.xlim([t0, tf])\n",
        "plt.grid()\n",
        "plt.tight_layout()"
      ]
    },
    {
      "cell_type": "markdown",
      "id": "a4a96219-1c5a-465f-a878-cdc16bfe1ccd",
      "metadata": {
        "editable": true,
        "slideshow": {
          "slide_type": ""
        },
        "tags": []
      },
      "source": [
        "Like the velocity plot, the plot of mass is ragged during the singular arc due to the high-frequency variation in the thrust, and hence the rate of change of mass.\n",
        "\n",
        "### Hamiltonian\n",
        "\n",
        "Finally, we plot the *Hamiltonian*. A description of the Hamiltonian in optimal control problems is beyond the scope of this documentation, but a key fact to know about the Hamiltonian is that it is constant for optimal control problems with dynamics, cost function integrands, and path functions that are not explicit functions of time. For such problems, a numerical solution that is not constant (at least to a desired precision) is not converged. For this problem, the Hamiltonian is far from constant:"
      ]
    },
    {
      "cell_type": "code",
      "execution_count": null,
      "id": "54a1c845-f66a-462d-a14f-4dc8fed6d17d",
      "metadata": {
        "editable": true,
        "slideshow": {
          "slide_type": ""
        },
        "tags": []
      },
      "outputs": [],
      "source": [
        "# Hamiltonian\n",
        "plt.figure()\n",
        "plt.plot(time_c, hamiltonian)\n",
        "plt.ylabel(r\"Hamiltonian, $\\mathcal{H}$ (ft/s)\")\n",
        "plt.xlabel(\"Time, $t$ (sec)\")\n",
        "plt.xlim([t0, tf])\n",
        "plt.grid()\n",
        "plt.tight_layout()"
      ]
    },
    {
      "cell_type": "markdown",
      "id": "cf5507e9-2264-4a3b-bf88-d901c3431002",
      "metadata": {},
      "source": [
        "The Hamiltonian in this case is nearly constant at the beginning and end of the problem time interval, but varies significantly and erratically in the interior, which is a good indication that this problem has a singular arc that is causing a failure of the optimization to converge to the optimal solution."
      ]
    },
    {
      "cell_type": "raw",
      "id": "5eebea3d-f912-4f0e-b536-126243f956a6",
      "metadata": {
        "editable": true,
        "jupyter": {
          "source_hidden": true
        },
        "raw_mimetype": "text/restructuredtext",
        "slideshow": {
          "slide_type": ""
        },
        "tags": []
      },
      "source": [
        ".. footbibliography::"
      ]
    }
  ],
  "metadata": {},
  "nbformat": 4,
  "nbformat_minor": 5
}
