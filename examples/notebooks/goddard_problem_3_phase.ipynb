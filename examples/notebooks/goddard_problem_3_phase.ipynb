{
  "cells": [
    {
      "cell_type": "markdown",
      "id": "29d37f13-02d6-4aea-b21f-1dc0466656f5",
      "metadata": {
        "editable": true,
        "slideshow": {
          "slide_type": ""
        },
        "tags": []
      },
      "source": [
        "# The Goddard Problem (Three Phases)\n",
        "\n",
        "For a solution to the Goddard problem with three phases using a Python script instead of a notebook, see the [Python script documentation](../scripts/goddard_problem_3_phase.rst).\n",
        "\n",
        "## Problem Description\n",
        "\n",
        "See the [Python notebook](../notebooks/goddard_problem_1_phase.ipynb) for the Goddard problem with one phase for a general description of the Goddard problem. In that notebook, we found that there is likely a singular arc in the middle portion of the solution.\n",
        "\n",
        "For a complete discussion of the singular arc in the Goddard rocket problem, see See Bryson and Ho <cite data-footcite=\"Bryson:1975\">(1975)</cite>, Section 8.3. It turns out that for the problem as formulated here (with an exponential atmosphere), there is an additional constraint during the singular arc phase that\n",
        "$$\n",
        "m(t)g - \\left( 1 + \\frac{v(t)}{c} \\right) D(t) = 0\n",
        "$$\n",
        "where $m(t)$ is the mass of the rocket, $v(t)$ is the velocity, $c$ is the exit velocity of the propellant, and $D(t)$ is the drag. This constraint is enforced by adding a path constraint the the continuous callback function during phase $p=1$ (*i.e.*, the second phase)."
      ]
    },
    {
      "cell_type": "markdown",
      "id": "07f8268d-a806-4358-baf6-6743086a704c",
      "metadata": {},
      "source": [
        "## YAPSS Solution\n",
        "\n",
        "We begin by importing the required Python packages, and instantiating the problem with the proper dimensions:"
      ]
    },
    {
      "cell_type": "code",
      "execution_count": null,
      "id": "1885028c-d99b-42d8-8827-a96a5a8d1d28",
      "metadata": {
        "editable": true,
        "slideshow": {
          "slide_type": ""
        },
        "tags": []
      },
      "outputs": [],
      "source": [
        "# third party imports\n",
        "import matplotlib.pyplot as plt\n",
        "\n",
        "# package imports\n",
        "from yapss.math import exp\n",
        "from yapss import Problem\n",
        "\n",
        "# instantiate the problem\n",
        "problem = Problem(\n",
        "    name=\"Goddard Rocket Problem with Singular Arc\",\n",
        "    nx=[3, 3, 3],\n",
        "    nu=[1, 1, 1],\n",
        "    nh=[0, 1, 0],\n",
        "    nq=[0, 0, 0],\n",
        "    nd=8,\n",
        ")"
      ]
    },
    {
      "cell_type": "markdown",
      "id": "63c115da-c7fe-4dfb-9305-76fdd71b9a49",
      "metadata": {},
      "source": [
        "We next define the callback functions, as well as any constants required. We also define any math function required, in this case `exp`, the exponential function."
      ]
    },
    {
      "cell_type": "code",
      "execution_count": null,
      "id": "48d64922-5fc5-45eb-95e0-98928a111025",
      "metadata": {
        "editable": true,
        "slideshow": {
          "slide_type": ""
        },
        "tags": []
      },
      "outputs": [],
      "source": [
        "# physical constants\n",
        "Tm = 200\n",
        "g = 32.174\n",
        "sigma = 5.4915e-05\n",
        "c = 1580.9425\n",
        "hs = 23800\n",
        "\n",
        "# callback functions\n",
        "\n",
        "\n",
        "def objective(arg) -> None:\n",
        "    \"\"\"Goddard Rocket Problem objective function.\"\"\"\n",
        "    arg.objective = arg.phase[2].final_state[0]\n",
        "\n",
        "\n",
        "def continuous(arg) -> None:\n",
        "    \"\"\"Goddard Rocket Problem dynamics and path functions.\"\"\"\n",
        "    for p in arg.phase_list:\n",
        "        (h, v, mass) = arg.phase[p].state\n",
        "        (T,) = arg.phase[p].control\n",
        "        D = sigma * v**2.0 * exp(-h / hs)\n",
        "        h_dot = v\n",
        "        v_dot = (T - D) / mass - g\n",
        "        m_dot = -T / c\n",
        "        arg.phase[p].dynamics[:] = (h_dot, v_dot, m_dot)\n",
        "\n",
        "        if p == 1:\n",
        "            # there is a path constraint only for the middle phase (p = 1)\n",
        "            arg.phase[p].path[:] = (mass * g - (1 + v / c) * D,)\n",
        "\n",
        "\n",
        "def discrete(arg) -> None:\n",
        "    \"\"\"Goddard Rocket Problem discrete constraint function.\"\"\"\n",
        "    phase = arg.phase\n",
        "    arg.discrete = [\n",
        "        phase[0].final_time - phase[1].initial_time,\n",
        "        *(phase[0].final_state - phase[1].initial_state),\n",
        "        phase[1].final_time - phase[2].initial_time,\n",
        "        *(phase[1].final_state - phase[2].initial_state),\n",
        "    ]\n",
        "\n",
        "\n",
        "problem.functions.objective = objective\n",
        "problem.functions.continuous = continuous\n",
        "problem.functions.discrete = discrete"
      ]
    },
    {
      "cell_type": "markdown",
      "id": "1cf31faf-8dea-426c-b47e-8992831e8d9f",
      "metadata": {
        "editable": true,
        "raw_mimetype": "text/restructuredtext",
        "slideshow": {
          "slide_type": ""
        },
        "tags": []
      },
      "source": [
        "We next set bounds on decision variables and constraints. The discrete constraints ensure that the states are continuous across phase boundaries. Note also the path constraint in the second phase (``p=1``) to enforce the singular arc condition."
      ]
    },
    {
      "cell_type": "code",
      "execution_count": null,
      "id": "951dc2c6-2466-4e07-8eac-dba6e15cc349",
      "metadata": {
        "editable": true,
        "slideshow": {
          "slide_type": ""
        },
        "tags": []
      },
      "outputs": [],
      "source": [
        "# Initial conditions\n",
        "h0 = 0\n",
        "v0 = 0\n",
        "m0 = 3\n",
        "mf = 1\n",
        "\n",
        "# begin bounds: phase 0\n",
        "bounds = problem.bounds.phase[0]\n",
        "bounds.initial_time.lower = bounds.initial_time.upper = 0\n",
        "bounds.initial_state.lower[:] = bounds.initial_state.upper[:] = h0, v0, m0\n",
        "bounds.control.lower[:] = bounds.control.upper[:] = Tm\n",
        "\n",
        "for p in range(3):\n",
        "    problem.bounds.phase[p].state.lower[:] = h0, v0, mf\n",
        "    problem.bounds.phase[p].state.upper[:] = 20000, 10000, m0\n",
        "\n",
        "# ... phase 1\n",
        "bounds = problem.bounds.phase[1]\n",
        "bounds.control.lower[:] = 0\n",
        "bounds.control.upper[:] = Tm\n",
        "bounds.path.lower[:] = 0\n",
        "bounds.path.upper[:] = 0\n",
        "\n",
        "# ... phase 2\n",
        "bounds = problem.bounds.phase[2]\n",
        "bounds.final_state.lower[2] = bounds.final_state.upper[2] = mf\n",
        "bounds.final_state.lower[1] = 0\n",
        "bounds.final_state.upper[1] = float(\"inf\")\n",
        "bounds.control.lower[:] = bounds.control.upper[:] = 0\n",
        "\n",
        "problem.bounds.discrete.lower[:] = 0\n",
        "problem.bounds.discrete.upper[:] = 0"
      ]
    },
    {
      "cell_type": "markdown",
      "id": "3c1c32cb-e109-488f-a93b-a7e8344d19e1",
      "metadata": {
        "editable": true,
        "slideshow": {
          "slide_type": ""
        },
        "tags": []
      },
      "source": [
        "The initial guess is very crude. The guess is that the state increases linearly over time; that the velocity is constant; that the mass decreases linearly in time; and that each phase is 15 seconds."
      ]
    },
    {
      "cell_type": "code",
      "execution_count": null,
      "id": "02b6a94c-2b9a-459c-8672-9ae077091eab",
      "metadata": {
        "editable": true,
        "slideshow": {
          "slide_type": ""
        },
        "tags": []
      },
      "outputs": [],
      "source": [
        "# begin guess\n",
        "for p in range(3):\n",
        "    problem.guess.phase[p].time = [15 * p, 15 * (p + 1)]\n",
        "    problem.guess.phase[p].state = [\n",
        "        (6000 * p, 6000 * (p + 1)),\n",
        "        (500, 500),\n",
        "        (3 - 2 / 3 * p, 3 - 2 / 3 * (p + 1)),\n",
        "    ]\n",
        "    problem.guess.phase[p].control = [(Tm * (2 - p) / 2, Tm * (2 - p) / 2)]"
      ]
    },
    {
      "cell_type": "markdown",
      "id": "9a133ca6-b226-40a7-b196-9fbce565c6b9",
      "metadata": {},
      "source": [
        "Scaling might improve the rate of convergence, but it's not really needed for this problem. But we do scale the objective by -1, so that the objective (final height) is maximized instead of minimized:"
      ]
    },
    {
      "cell_type": "code",
      "execution_count": null,
      "id": "dec2ffcf-53df-4ee8-b5a0-7f9b3385eee6",
      "metadata": {
        "editable": true,
        "slideshow": {
          "slide_type": ""
        },
        "tags": []
      },
      "outputs": [],
      "source": [
        "problem.scale.objective = -1"
      ]
    },
    {
      "cell_type": "markdown",
      "id": "80e8a930-e6da-4387-9250-b5df0461fc7b",
      "metadata": {},
      "source": [
        "Set the solver parameters:"
      ]
    },
    {
      "cell_type": "code",
      "execution_count": null,
      "id": "1f62861d-f409-4855-abcb-482cb15e9c69",
      "metadata": {
        "editable": true,
        "slideshow": {
          "slide_type": ""
        },
        "tags": []
      },
      "outputs": [],
      "source": [
        "problem.ipopt_options.max_iter = 500\n",
        "problem.derivatives.order = \"second\"\n",
        "problem.derivatives.method = \"auto\"\n",
        "problem.spectral_method = \"lgl\"\n",
        "\n",
        "problem.ipopt_options.tol = 1e-20\n",
        "problem.ipopt_options.print_level = 3"
      ]
    },
    {
      "cell_type": "markdown",
      "id": "d896a9d2-91d1-4efd-ad1d-22101bb72079",
      "metadata": {
        "editable": true,
        "slideshow": {
          "slide_type": ""
        },
        "tags": []
      },
      "source": [
        "Find the optimal solution:"
      ]
    },
    {
      "cell_type": "code",
      "execution_count": null,
      "id": "1ea1a0f3-b7c5-47de-9988-8eeaa7e22fe7",
      "metadata": {
        "editable": true,
        "slideshow": {
          "slide_type": ""
        },
        "tags": []
      },
      "outputs": [],
      "source": [
        "solution = problem.solve()"
      ]
    },
    {
      "cell_type": "markdown",
      "id": "c449b498-d9ef-4252-868a-78669e324eb4",
      "metadata": {
        "editable": true,
        "slideshow": {
          "slide_type": ""
        },
        "tags": []
      },
      "source": [
        "## Plot the Solution\n",
        "\n",
        "First, we extract the data from the solution:"
      ]
    },
    {
      "cell_type": "code",
      "execution_count": null,
      "id": "7f610cc7-c3ea-4aed-bf29-711e66fe93a7",
      "metadata": {
        "editable": true,
        "slideshow": {
          "slide_type": ""
        },
        "tags": []
      },
      "outputs": [],
      "source": [
        "# extract information from solution\n",
        "time = []\n",
        "time_c = []\n",
        "state = []\n",
        "control = []\n",
        "costate = []\n",
        "dynamics = []\n",
        "integrand = []\n",
        "\n",
        "for p in range(3):\n",
        "    time.append(solution.phase[p].time)\n",
        "    time_c.append(solution.phase[p].time_c)\n",
        "    state.append(solution.phase[p].state)\n",
        "    control.append(solution.phase[p].control)\n",
        "    costate.append(solution.phase[p].costate)\n",
        "    dynamics.append(solution.phase[p].dynamics)\n",
        "    integrand.append(solution.phase[p].integrand)\n",
        "\n",
        "t0 = solution.phase[0].initial_time\n",
        "tf = solution.phase[2].final_time\n",
        "\n",
        "# plot defaults\n",
        "plt.rcParams[\"lines.linewidth\"] = 2"
      ]
    },
    {
      "cell_type": "markdown",
      "id": "d09e46e0-648c-4363-b6dd-e7b2ec76c3db",
      "metadata": {
        "editable": true,
        "slideshow": {
          "slide_type": ""
        },
        "tags": []
      },
      "source": [
        "### Thrust\n",
        "\n",
        "We begin by plotting the thrust history:"
      ]
    },
    {
      "cell_type": "code",
      "execution_count": null,
      "id": "208eac90-45eb-4dbf-ba7e-5d89380776b7",
      "metadata": {
        "editable": true,
        "slideshow": {
          "slide_type": ""
        },
        "tags": []
      },
      "outputs": [],
      "source": [
        "# thrust\n",
        "plt.figure(1)\n",
        "ax = plt.axes()\n",
        "line = []\n",
        "for p in range(3):\n",
        "    line1 = ax.plot(time_c[p], control[p][0])\n",
        "    line.append(line1)\n",
        "print(f\"Singular arc occurs between t = {time[1][0]:.2f} and t = {time[1][-1]:.2f}.\")\n",
        "plt.ylabel(\"Thrust, $T$ (lbf)\")\n",
        "plt.xlabel(\"Time, $t$ (sec)\")\n",
        "plt.xlim([t0, tf])\n",
        "plt.legend((\"Phase 1\", \"Phase 2\", \"Phase 3\"), framealpha=1.0)\n",
        "plt.grid()\n",
        "plt.tight_layout()"
      ]
    },
    {
      "cell_type": "code",
      "execution_count": null,
      "id": "51b66fc5-5f7f-4332-8c49-de4df14f942a",
      "metadata": {
        "editable": true,
        "slideshow": {
          "slide_type": ""
        },
        "tags": []
      },
      "outputs": [],
      "source": [
        "print(f\"Singular arc occurs between t = {time[1][0]:.2f} and t = {time[1][-1]:.2f}.\")"
      ]
    },
    {
      "cell_type": "markdown",
      "id": "196cef25-d66e-40f4-83a7-4ff8fb38d746",
      "metadata": {
        "editable": true,
        "slideshow": {
          "slide_type": ""
        },
        "tags": []
      },
      "source": [
        "Note that the solution consists of three phases. In the first phase, the thrust is at the thrust upper bound. In the second phase, the thrust is intermediate, due to the singular arc. In the third phase, the thrust is at the thrust lower bound. A control solution of this form is often referred to as *bang-singular-bang* control."
      ]
    },
    {
      "cell_type": "markdown",
      "id": "f5075075-61c9-47c0-8e9e-c15f79ba7473",
      "metadata": {
        "editable": true,
        "slideshow": {
          "slide_type": ""
        },
        "tags": []
      },
      "source": [
        "### Altitude\n",
        "\n",
        "Plot the altitude:"
      ]
    },
    {
      "cell_type": "code",
      "execution_count": null,
      "id": "d492b89a-814b-449c-b44c-905a8e0c1110",
      "metadata": {
        "editable": true,
        "slideshow": {
          "slide_type": ""
        },
        "tags": []
      },
      "outputs": [],
      "source": [
        "# altitude\n",
        "plt.figure(2)\n",
        "ax = plt.axes()\n",
        "line = []\n",
        "for p in range(3):\n",
        "    line1 = ax.plot(time[p], state[p][0])\n",
        "    line.append(line1)\n",
        "plt.ylabel(\"Altitude, $h$ (ft)\")\n",
        "plt.xlabel(\"Time, $t$ (sec)\")\n",
        "plt.xlim([t0, tf])\n",
        "plt.legend((\"Phase 1\", \"Phase 2\", \"Phase 3\"), framealpha=1.0)\n",
        "plt.grid()\n",
        "plt.tight_layout()"
      ]
    },
    {
      "cell_type": "markdown",
      "id": "69d8a27a-f371-4c69-bdc5-6b797821fb86",
      "metadata": {
        "editable": true,
        "slideshow": {
          "slide_type": ""
        },
        "tags": []
      },
      "source": [
        "Note that the velocity history looks essentially the same as the velocity  history for the one-phase solution.\n",
        "\n",
        "### Velocity\n",
        "\n",
        "Plot the velocity:"
      ]
    },
    {
      "cell_type": "code",
      "execution_count": null,
      "id": "7e92d3af-c840-4379-8b12-3fad27d0181b",
      "metadata": {
        "editable": true,
        "slideshow": {
          "slide_type": ""
        },
        "tags": []
      },
      "outputs": [],
      "source": [
        "# velocity\n",
        "plt.figure(3)\n",
        "ax = plt.axes()\n",
        "line = []\n",
        "for p in range(3):\n",
        "    line1 = ax.plot(time[p], state[p][1])\n",
        "    line.append(line1)\n",
        "plt.ylabel(\"Velocity, $v$ (ft/s)\")\n",
        "plt.xlabel(\"Time, $t$ (sec)\")\n",
        "plt.xlim([t0, tf])\n",
        "plt.legend((\"Phase 1\", \"Phase 2\", \"Phase 3\"), framealpha=1.0)\n",
        "plt.grid()\n",
        "plt.tight_layout()"
      ]
    },
    {
      "cell_type": "markdown",
      "id": "8141861f-5574-48af-a2a6-98ec9ab52172",
      "metadata": {
        "editable": true,
        "slideshow": {
          "slide_type": ""
        },
        "tags": []
      },
      "source": [
        "The velocity history looks similar to that in the one-phase solution, except that it does not have the raggedness of the one-phase solution.\n",
        "\n",
        "### Mass\n",
        "\n",
        "Plot the mass history:"
      ]
    },
    {
      "cell_type": "code",
      "execution_count": null,
      "id": "18ca16a6-d8b0-461c-b046-11a953141ec5",
      "metadata": {
        "editable": true,
        "slideshow": {
          "slide_type": ""
        },
        "tags": []
      },
      "outputs": [],
      "source": [
        "# mass\n",
        "plt.figure(4)\n",
        "ax = plt.axes()\n",
        "line = []\n",
        "for p in range(3):\n",
        "    line1 = ax.plot(time[p], state[p][2])\n",
        "    line.append(line1)\n",
        "plt.ylabel(\"Mass, $m$ (slugs)\")\n",
        "plt.xlabel(\"Time, $t$ (sec)\")\n",
        "plt.xlim([t0, tf])\n",
        "plt.legend((\"Phase 1\", \"Phase 2\", \"Phase 3\"), framealpha=1.0)\n",
        "plt.grid()\n",
        "plt.tight_layout()"
      ]
    },
    {
      "cell_type": "markdown",
      "id": "6dcf9d88-bc07-4fb3-8e53-e28d9ce36c55",
      "metadata": {
        "editable": true,
        "slideshow": {
          "slide_type": ""
        },
        "tags": []
      },
      "source": [
        "Again, the history plotted above is similar to that in the one-phase solution, except that there is no raggedness during the singular arc.\n",
        "\n",
        "### Hamiltonian\n",
        "\n",
        "We next plot the Hamiltonian for the solution:"
      ]
    },
    {
      "cell_type": "code",
      "execution_count": null,
      "id": "9d3cba1f-a015-42d9-8ff6-166f546657e4",
      "metadata": {
        "editable": true,
        "slideshow": {
          "slide_type": ""
        },
        "tags": []
      },
      "outputs": [],
      "source": [
        "# hamiltonian\n",
        "plt.figure()\n",
        "# ax = plt.axes()\n",
        "line = []\n",
        "for p in range(3):\n",
        "    hamiltonian = sum(dynamics[p][i] * costate[p][i] for i in range(3))\n",
        "    plt.plot(time_c[p], hamiltonian)\n",
        "plt.xlim([t0, tf])\n",
        "plt.ylim([-0.001, 0.001])\n",
        "plt.xlabel(\"Time, $t$ (sec)\")\n",
        "plt.xlim([t0, tf])\n",
        "plt.legend((\"Phase 1\", \"Phase 2\", \"Phase 3\"), framealpha=1.0)\n",
        "plt.grid()\n",
        "plt.tight_layout()"
      ]
    },
    {
      "cell_type": "markdown",
      "id": "e37e957e-fd80-46e5-bb92-1fe555943712",
      "metadata": {
        "editable": true,
        "slideshow": {
          "slide_type": ""
        },
        "tags": []
      },
      "source": [
        "We see that, unlike in the one-phase solution, the numerical value of the Hamiltonian is in fact constant, as it should be."
      ]
    },
    {
      "cell_type": "raw",
      "id": "0c56461c-4e21-43d8-b6d1-d4c3a1ceae57",
      "metadata": {
        "editable": true,
        "raw_mimetype": "text/restructuredtext",
        "slideshow": {
          "slide_type": ""
        },
        "tags": []
      },
      "source": [
        ".. footbibliography::"
      ]
    }
  ],
  "metadata": {},
  "nbformat": 4,
  "nbformat_minor": 5
}
