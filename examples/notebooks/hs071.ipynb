{
  "cells": [
    {
      "cell_type": "markdown",
      "id": "b12b599d",
      "metadata": {
        "editable": true,
        "slideshow": {
          "slide_type": ""
        },
        "tags": []
      },
      "source": [
        "# HS071 Optimization Problem\n",
        "\n",
        "For a solution to the HS071 constrained function minimization problem using a Python script instead of a notebook, see the [HS071 Python script documentation](../scripts/hs071.rst).\n",
        "\n",
        "## Description\n",
        "\n",
        "HS071 is Problem 71 from the collection of nonlinear programming test problems by Hoch and Schittkowski <cite data-footcite=\"Hoch:1981\">(1981)</cite>, who cite Bartholomew-Biggs <cite data-footcite=\"Bartholomew-Biggs:1976\">(1976)</cite> as the original source. The problem is to minimize the function\n",
        "$$\n",
        "   f(x)=x_{0} x_{3}\\left(x_{0}+x_{1}+x_{2}\\right)+x_{2}\n",
        "$$\n",
        "subject to the nonlinear constraints\n",
        "$$\n",
        "\\begin{align}\n",
        "   x_{0} x_{1} x_{2} x_{3} &\\geq 25 \\\\\n",
        "   x_{0}^{2}+x_{1}^{2}+x_{2}^{2}+x_{3}^{2} & = 40\n",
        "\\end{align}\n",
        "$$\n",
        "and the variable bounds\n",
        "$$\n",
        "1 \\leq x_{i} \\leq 5, \\quad i=0, 1, 2, 3\n",
        "$$\n",
        "The initial guess is given by\n",
        "$$\n",
        "\\boldsymbol{x} = [1,5,5,1]^T\n",
        "$$\n",
        "\n",
        "(Note that we have used 0-based indexing in the problem statement, whereas Hoch and Schittkowski used 1-based indexing.)"
      ]
    },
    {
      "cell_type": "markdown",
      "id": "e79c3729",
      "metadata": {},
      "source": [
        "## YAPSS Solution\n",
        "\n",
        "First, we instantiate the problem. It has no phases, 4 parameters, and 2 discrete constraints:"
      ]
    },
    {
      "cell_type": "code",
      "execution_count": null,
      "id": "cf15a4d5",
      "metadata": {},
      "outputs": [],
      "source": [
        "from yapss import Problem\n",
        "\n",
        "problem = Problem(name=\"HS071\", nx=[], ns=4, nd=2)"
      ]
    },
    {
      "cell_type": "markdown",
      "id": "045b6c11",
      "metadata": {},
      "source": [
        "We then define the objective and discrete constraint callback functions:"
      ]
    },
    {
      "cell_type": "code",
      "execution_count": null,
      "id": "0f9f592d",
      "metadata": {},
      "outputs": [],
      "source": [
        "def objective(arg):\n",
        "    x = arg.parameter\n",
        "    arg.objective = x[0] * x[3] * (x[0] + x[1] + x[2]) + x[2]\n",
        "\n",
        "\n",
        "def discrete(arg):\n",
        "    x = arg.parameter\n",
        "    arg.discrete[:] = (\n",
        "        x[0] * x[1] * x[2] * x[3],\n",
        "        x[0] * x[0] + x[1] * x[1] + x[2] * x[2] + x[3] * x[3],\n",
        "    )\n",
        "\n",
        "\n",
        "problem.functions.objective = objective\n",
        "problem.functions.discrete = discrete"
      ]
    },
    {
      "cell_type": "markdown",
      "id": "14887f37",
      "metadata": {},
      "source": [
        "Set the bounds on the parameters and the constraint functions, per the problem statement:"
      ]
    },
    {
      "cell_type": "code",
      "execution_count": null,
      "id": "8c144449",
      "metadata": {},
      "outputs": [],
      "source": [
        "problem.bounds.parameter.lower = [1.0, 1.0, 1.0, 1.0]\n",
        "problem.bounds.parameter.upper = [5.0, 5.0, 5.0, 5.0]\n",
        "problem.bounds.discrete.lower = [25.0, 40.0]\n",
        "problem.bounds.discrete.upper[1] = 40.0"
      ]
    },
    {
      "cell_type": "markdown",
      "id": "7d752a42",
      "metadata": {},
      "source": [
        "We also provide an initial guess for the parameter values:"
      ]
    },
    {
      "cell_type": "code",
      "execution_count": null,
      "id": "4d954c12",
      "metadata": {},
      "outputs": [],
      "source": [
        "problem.guess.parameter = [1.0, 5.0, 5.0, 1.0]"
      ]
    },
    {
      "cell_type": "markdown",
      "id": "a4240df8",
      "metadata": {},
      "source": [
        "Specify YAPSS options, and also Ipopt options:"
      ]
    },
    {
      "cell_type": "code",
      "execution_count": null,
      "id": "27269927",
      "metadata": {},
      "outputs": [],
      "source": [
        "problem.derivatives.order = \"second\"\n",
        "problem.derivatives.method = \"auto\"\n",
        "problem.ipopt_options.print_user_options = \"no\"\n",
        "problem.ipopt_options.print_level = 3"
      ]
    },
    {
      "cell_type": "markdown",
      "id": "d682d9bd",
      "metadata": {},
      "source": [
        "Solve the problem:"
      ]
    },
    {
      "cell_type": "code",
      "execution_count": null,
      "id": "9b31e0a0",
      "metadata": {},
      "outputs": [],
      "source": [
        "solution = problem.solve()"
      ]
    },
    {
      "cell_type": "markdown",
      "id": "543c98dc",
      "metadata": {
        "editable": true,
        "slideshow": {
          "slide_type": ""
        },
        "tags": []
      },
      "source": [
        "Finally, we format and print the solution:"
      ]
    },
    {
      "cell_type": "code",
      "execution_count": null,
      "id": "31ffce1e",
      "metadata": {
        "editable": true,
        "slideshow": {
          "slide_type": ""
        },
        "tags": []
      },
      "outputs": [],
      "source": [
        "def print_variable(name, values):\n",
        "    for i, _value in enumerate(values):\n",
        "        print(f\"{name}[{str(i)}] = {_value:1.6e}\")\n",
        "\n",
        "\n",
        "x = solution.parameter\n",
        "print()\n",
        "\n",
        "print(\"Solution of the primal variables, x\")\n",
        "print_variable(\"x\", x)\n",
        "print(\"\\nSolution of the bound multipliers, z_L and z_U\")\n",
        "nlp_info = solution.nlp_info\n",
        "print_variable(\"z_L\", nlp_info.mult_x_L)\n",
        "print_variable(\"z_U\", nlp_info.mult_x_U)\n",
        "print(\"\\nSolution of the constraint multipliers, lambda\")\n",
        "print_variable(\"lambda\", solution.discrete_multiplier)\n",
        "print(\"\\nObjective value\")\n",
        "print(f\"f(x*) = {solution.objective:1.6e}\")"
      ]
    },
    {
      "cell_type": "markdown",
      "id": "89693772-e3ff-4ab3-9423-f44425c61f66",
      "metadata": {},
      "source": [
        "The solution above replicates the example given (in C++) in the [Ipopt interface documentation](https://coin-or.github.io/Ipopt/INTERFACES.html#INTERFACE_CPP), in much less code."
      ]
    },
    {
      "cell_type": "markdown",
      "id": "358d9bb4-ef45-4f10-9b30-cc5a1756f2f8",
      "metadata": {
        "editable": true,
        "slideshow": {
          "slide_type": ""
        },
        "tags": []
      },
      "source": [
        "## References"
      ]
    },
    {
      "cell_type": "raw",
      "id": "24dd6a1e-5bc6-4b48-849d-b26e96f951e7",
      "metadata": {
        "editable": true,
        "raw_mimetype": "text/restructuredtext",
        "slideshow": {
          "slide_type": ""
        },
        "tags": []
      },
      "source": [
        ".. footbibliography::\n"
      ]
    }
  ],
  "metadata": {},
  "nbformat": 4,
  "nbformat_minor": 5
}
