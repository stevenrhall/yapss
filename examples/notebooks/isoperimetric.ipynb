{
  "cells": [
    {
      "cell_type": "markdown",
      "id": "972fc696-52cc-4787-91f8-7855cedb21ed",
      "metadata": {
        "editable": true,
        "slideshow": {
          "slide_type": ""
        },
        "tags": []
      },
      "source": [
        "# The Isoperimetric Problem\n",
        "\n",
        "For a solution to the isoperimetric problem using a Python script instead of a notebook, see the [isoperimetric Python script documentation](../scripts/isoperimetric.rst).\n",
        "\n",
        "## Problem Description\n",
        "\n",
        "The isoperimetric problem, or Dido's problem <cite data-footcite=\"Bandle:2017\">(Bandle, 2017)</cite>, is to find the curve of fixed length that encloses the maximum area. For a differentiable, closed curve in the $x$, $y$ plane, the area to be maximized is:\n",
        "$$\n",
        "    J = \\frac{1}{2} \\oint y \\: dx - x \\: dy\n",
        "      = \\frac{1}{2} \\int_{0}^{L} \\bigl\\{y(s) \\,x^\\prime(s) - x(s) \\,y^\\prime(s)\\bigr\\} \\: ds  \\tag{1}\n",
        "$$\n",
        "where here $x$ and $y$ are parameterized by the arc length $s$ along the curve, and $L$ is the total length of the curve.\n",
        "\n",
        "If we take the dynamics to be\n",
        "$$\n",
        "    x^\\prime(s) = u_{0}(s), \\quad y^\\prime(s) = u_{1}(s) \\tag{2}\n",
        "$$\n",
        "then we can rewrite the cost as\n",
        "$$\n",
        "    J = \\frac{1}{2} \\int_{0}^{L} \\bigl\\{y(s)\\,u_0(s) - x(s)\\,u_1(s)\\bigr\\} \\: ds  \\tag{3}\n",
        "$$\n",
        "The length of the curve is\n",
        "$$\n",
        "    L = \\int_{0}^{L} \\sqrt{dx^{2} + dy^{2}}\n",
        "      =\\int_{0}^{L} \\sqrt{x^\\prime(s)^{2}+x^\\prime(s)^{2}} \\: ds\n",
        "      =\\int_{0}^{L} \\sqrt{u_1(s)^{2}+u_2(s)^{2}} \\: ds  \\tag{4}\n",
        "$$\n",
        "To ensure that the integral is indeed $L$, we must impose the path constraint\n",
        "$$\n",
        "    \\|\\mathbf{u}\\|^2 = u_1(t)^{2}+u_2(t)^{2} = 1 \\tag{5}\n",
        "$$\n",
        "So the problem to be solved is to maximize the cost $J$ given by (3) subject to the dynamics (2) and the path constraint (3). To ensure that the curve is closed, we impose the endpoint constraints\n",
        "$$\n",
        "    x(L) = x(0), \\quad y(L) = y(0)  \\tag{6}\n",
        "$$\n",
        "Finally, we want the centroid of the curve to be at the origin. (If we don't apply some constraint on the position, the solution can lie anywhere in the plane.) So we also apply the integral constraints\n",
        "$$\n",
        "    \\int_0^L x(s)\\:ds = 0, \\quad \\int_0^L y(s)\\:ds = 0 \\tag{7}\n",
        "$$\n",
        "For the solution presented below, we take the arc length to be $L=1$."
      ]
    },
    {
      "cell_type": "markdown",
      "id": "52765816-ec0b-48e3-98c3-5a49c8185f9e",
      "metadata": {
        "slideshow": {
          "slide_type": ""
        },
        "tags": []
      },
      "source": [
        "## YAPSS Solution\n",
        "\n",
        "Begin by importing needed packages and instantiating the problem:"
      ]
    },
    {
      "cell_type": "code",
      "execution_count": null,
      "id": "af5fb997-256a-484b-ba96-f68aefd0c5e5",
      "metadata": {
        "slideshow": {
          "slide_type": ""
        },
        "tags": []
      },
      "outputs": [],
      "source": [
        "# third party imports\n",
        "import numpy as np\n",
        "from matplotlib import pyplot as plt\n",
        "from scipy.interpolate import interp1d\n",
        "\n",
        "# package imports\n",
        "from yapss import Problem\n",
        "\n",
        "# problem has 1 phase, with 2 states, 2 controls, 1 path constraint, and 3 integrals.\n",
        "# There are 2 constraints to constrain the curved to be closed\n",
        "problem = Problem(name=\"Isoperimetric Problem\", nx=[2], nu=[2], nq=[3], nh=[1], nd=2)"
      ]
    },
    {
      "cell_type": "markdown",
      "id": "98136e0c-b47f-4fb4-8bf1-0d639740c139",
      "metadata": {
        "slideshow": {
          "slide_type": ""
        },
        "tags": []
      },
      "source": [
        "Next define the callback functions. Note that this problem is defined as a maximization rather than a minimization. Rather than change the sign of the objective, we set ``problem.scale.objective=1``."
      ]
    },
    {
      "cell_type": "code",
      "execution_count": null,
      "id": "405f2d49-0c1e-4044-ac61-d5acf63c72c2",
      "metadata": {
        "slideshow": {
          "slide_type": ""
        },
        "tags": []
      },
      "outputs": [],
      "source": [
        "# callback functions\n",
        "\n",
        "\n",
        "def objective(arg):\n",
        "    # Maximize the integral that defines the enclosed area\n",
        "    arg.objective = arg.phase[0].integral[0]\n",
        "\n",
        "\n",
        "def continuous(arg):\n",
        "    # Extract the state and control\n",
        "    x, y = arg.phase[0].state\n",
        "    ux, uy = arg.phase[0].control\n",
        "\n",
        "    # The dynamics are trivial\n",
        "    arg.phase[0].dynamics[:] = ux, uy\n",
        "\n",
        "    # The integrals are the eclosed area, and the x and y centroids of the boundary\n",
        "    arg.phase[0].integrand[0] = (y * ux - x * uy) / 2\n",
        "    arg.phase[0].integrand[1] = x\n",
        "    arg.phase[0].integrand[2] = y\n",
        "\n",
        "    # Path constraint\n",
        "    arg.phase[0].path[0] = ux**2 + uy**2\n",
        "\n",
        "\n",
        "def discrete(arg):\n",
        "    # The two ends of the boundary are the same\n",
        "    arg.discrete[:2] = arg.phase[0].final_state - arg.phase[0].initial_state\n",
        "\n",
        "\n",
        "problem.functions.objective = objective\n",
        "problem.functions.continuous = continuous\n",
        "problem.functions.discrete = discrete\n",
        "\n",
        "# set objective scale to -1 to maximize area\n",
        "problem.scale.objective = -1"
      ]
    },
    {
      "cell_type": "markdown",
      "id": "f1143c89-7460-47c3-bee2-7612bbc2352d",
      "metadata": {
        "slideshow": {
          "slide_type": ""
        },
        "tags": []
      },
      "source": [
        "Set the bounds on the variables and constraints:"
      ]
    },
    {
      "cell_type": "code",
      "execution_count": null,
      "id": "f5bb4681-be6e-4c32-a400-a031656171d3",
      "metadata": {
        "editable": true,
        "slideshow": {
          "slide_type": ""
        },
        "tags": []
      },
      "outputs": [],
      "source": [
        "# problem bounds\n",
        "bounds = problem.bounds.phase[0]\n",
        "\n",
        "# Length of the boundary is 1\n",
        "bounds.path.lower[0] = 1\n",
        "bounds.path.upper[0] = 1\n",
        "bounds.initial_time.lower = bounds.initial_time.upper = 0.0\n",
        "bounds.final_time.lower = bounds.final_time.upper = 1.0\n",
        "\n",
        "# All the discrete constraint functions should be 0\n",
        "problem.bounds.discrete.lower = problem.bounds.discrete.upper = [0, 0]\n",
        "\n",
        "# Bounds on centroid\n",
        "bounds.integral.lower[1:] = 0\n",
        "bounds.integral.upper[1:] = 0"
      ]
    },
    {
      "cell_type": "markdown",
      "id": "4bb16030-b612-4856-9fba-5ab940534f35",
      "metadata": {
        "editable": true,
        "slideshow": {
          "slide_type": ""
        },
        "tags": []
      },
      "source": [
        "The initial guess is a square with perimeter equal to 1:"
      ]
    },
    {
      "cell_type": "code",
      "execution_count": null,
      "id": "0ee003d1-1fad-4f11-941d-f0c87ec01602",
      "metadata": {
        "editable": true,
        "slideshow": {
          "slide_type": ""
        },
        "tags": []
      },
      "outputs": [],
      "source": [
        "# initial guess\n",
        "guess = problem.guess.phase[0]\n",
        "guess.time = [0.0, 0.25, 0.5, 0.75, 1.0]\n",
        "guess.state = np.array([[1.0, 1.0, -1.0, -1.0, 1.0], [1.0, -1.0, -1.0, 1.0, 1.0]]) / 8"
      ]
    },
    {
      "cell_type": "markdown",
      "id": "466f3ed3-6925-42a3-9ba2-09c504a7d36e",
      "metadata": {
        "editable": true,
        "slideshow": {
          "slide_type": ""
        },
        "tags": []
      },
      "source": [
        "To get a highly accurate result, use a mesh for the the segments that have a (somewhat) large number of collocation points (12). Three such segments are more than sufficient."
      ]
    },
    {
      "cell_type": "code",
      "execution_count": null,
      "id": "83ccc9e6-fb18-4485-ae5a-35563fd848aa",
      "metadata": {
        "editable": true,
        "slideshow": {
          "slide_type": ""
        },
        "tags": []
      },
      "outputs": [],
      "source": [
        "# mesh\n",
        "m, n = 3, 12\n",
        "problem.mesh.phase[0].collocation_points = m * (n,)\n",
        "problem.mesh.phase[0].fraction = m * (1.0 / m,)"
      ]
    },
    {
      "cell_type": "markdown",
      "id": "a40675a5-c568-4aa7-8906-98809ccdf207",
      "metadata": {
        "editable": true,
        "slideshow": {
          "slide_type": ""
        },
        "tags": []
      },
      "source": [
        "Solver options:"
      ]
    },
    {
      "cell_type": "code",
      "execution_count": null,
      "id": "358edfed-6865-493c-b29c-045c5c088931",
      "metadata": {
        "editable": true,
        "slideshow": {
          "slide_type": ""
        },
        "tags": []
      },
      "outputs": [],
      "source": [
        "# yapss options\n",
        "# Best results are usually obtained with automatic differentiation and second derivatives\n",
        "problem.derivatives.method = \"auto\"\n",
        "problem.derivatives.order = \"second\"\n",
        "problem.spectral_method = \"lgl\"\n",
        "\n",
        "# ipopt options\n",
        "# Set fairly tight tolerances\n",
        "problem.ipopt_options.tol = 1e-14\n",
        "problem.ipopt_options.acceptable_iter = 0\n",
        "\n",
        "# Ipopt options to limit printed output\n",
        "problem.ipopt_options.print_level = 3\n",
        "problem.ipopt_options.print_user_options = \"no\"\n",
        "problem.ipopt_options.sb = \"yes\""
      ]
    },
    {
      "cell_type": "markdown",
      "id": "05197c02-baae-470e-bf36-b6beca8846df",
      "metadata": {
        "editable": true,
        "slideshow": {
          "slide_type": ""
        },
        "tags": []
      },
      "source": [
        "Now solve the problem:"
      ]
    },
    {
      "cell_type": "code",
      "execution_count": null,
      "id": "573bc637-892b-44bf-9e0b-e43852eb61b2",
      "metadata": {
        "editable": true,
        "slideshow": {
          "slide_type": ""
        },
        "tags": []
      },
      "outputs": [],
      "source": [
        "# solve the problem\n",
        "solution = problem.solve()"
      ]
    },
    {
      "cell_type": "markdown",
      "id": "dcdbf49e-d031-4290-8769-66171f37d4ff",
      "metadata": {
        "editable": true,
        "slideshow": {
          "slide_type": ""
        },
        "tags": []
      },
      "source": [
        "## Plot of Solution"
      ]
    },
    {
      "cell_type": "code",
      "execution_count": null,
      "id": "d928a636-1c7b-459d-b8b7-f72d2c0c02d6",
      "metadata": {
        "slideshow": {
          "slide_type": ""
        },
        "tags": []
      },
      "outputs": [],
      "source": [
        "# plot the solution\n",
        "x, y = solution.phase[0].state\n",
        "s = solution.phase[0].time\n",
        "sp = np.linspace(0, 1, 500)\n",
        "xp = interp1d(s, x, kind=\"cubic\")(sp)\n",
        "yp = interp1d(s, y, kind=\"cubic\")(sp)\n",
        "\n",
        "plt.figure()\n",
        "plt.plot(xp, yp)\n",
        "plt.plot(x, y, \".\", markersize=10)\n",
        "plt.xlabel(\"$x$\")\n",
        "plt.ylabel(\"$y$\")\n",
        "plt.axis(\"square\")\n",
        "plt.tight_layout()"
      ]
    },
    {
      "cell_type": "markdown",
      "id": "06a0c7b9-ead6-47a6-a136-2c271598fe7c",
      "metadata": {
        "slideshow": {
          "slide_type": ""
        },
        "tags": []
      },
      "source": [
        "Not surprisingly, the optimal curve is a circle centered at the origin. For a circle with circumference $L$, the radius is $r={L}/{2\\pi}$, and the area is\n",
        "$$\n",
        "    A = \\pi r^2 = \\frac{L^2}{4\\pi}\n",
        "$$\n",
        "So for our optimal control problem, the optimal value for the area should be\n",
        "$$\n",
        "    J = \\frac{1}{4\\pi}\n",
        "$$\n",
        "We can check that result easily enough:"
      ]
    },
    {
      "cell_type": "code",
      "execution_count": null,
      "id": "c4feb4cb-242a-4bfc-8314-71374a1f3153",
      "metadata": {
        "slideshow": {
          "slide_type": ""
        },
        "tags": []
      },
      "outputs": [],
      "source": [
        "# check the result\n",
        "area = solution.objective\n",
        "area_ideal = 1 / (4 * np.pi)\n",
        "rel_error = abs(area - area_ideal) / area_ideal\n",
        "print(f\"Maximum area   = {area}\")\n",
        "print(f\"1 / (4 pi)     = {area_ideal}\")\n",
        "print(f\"Relative error = {rel_error}\")"
      ]
    },
    {
      "cell_type": "markdown",
      "id": "2d390ef1-8c5c-48ed-8a77-8dc29404d992",
      "metadata": {
        "slideshow": {
          "slide_type": ""
        },
        "tags": []
      },
      "source": [
        "The relative error is very small — a small multiple of machine precision. (The error might even be zero on some machines!)"
      ]
    },
    {
      "cell_type": "markdown",
      "id": "e3e9ab88-8c82-4ce4-9804-40ba6e30ef8c",
      "metadata": {
        "jp-MarkdownHeadingCollapsed": true,
        "slideshow": {
          "slide_type": ""
        },
        "tags": []
      },
      "source": [
        "## References"
      ]
    },
    {
      "cell_type": "raw",
      "id": "bc96ef86-ec22-4b0b-96cd-ef9afb140c77",
      "metadata": {
        "editable": true,
        "raw_mimetype": "text/restructuredtext",
        "slideshow": {
          "slide_type": ""
        },
        "tags": []
      },
      "source": [
        ".. footbibliography::"
      ]
    }
  ],
  "metadata": {},
  "nbformat": 4,
  "nbformat_minor": 5
}
