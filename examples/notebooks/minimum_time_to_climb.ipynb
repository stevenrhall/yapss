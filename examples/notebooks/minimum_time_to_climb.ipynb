{
  "cells": [
    {
      "attachments": {},
      "cell_type": "markdown",
      "metadata": {
        "editable": true,
        "slideshow": {
          "slide_type": ""
        },
        "tags": []
      },
      "source": [
        "# Minimum Time to Climb Problem\n",
        "\n",
        "For a solution to the minimum time to climb problem using a Python script instead of a notebook, see the corresponding [Python script documentation](../scripts/minimum_time_to_climb.rst).\n",
        "\n",
        "This notebook reproduces one of the main results of the seminal paper by Bryson *et al.* <cite data-footcite=\"Bryson:1969\">(1969)</cite>, namely, to find the minimum time to climb to a given altitude by a supersonic interceptor aircraft. The equations of motion and boundary conditions are straightforward; the main difficulty in this problem is to represent the aerodynamics, which are given in tabular form. \n",
        "\n",
        "Betts <cite data-footcite=\"Betts:2010\">(2010)</cite> discusses in some detail the difficulty in treating tabular data in the context of this problem. There are two problems to address: First, the thrust is a function of two variables, Mach number and altitude, and the table representing the function is coarse and incomplete. As a result, a conventional two-dimensional interpolation cannot be used. Second, the nondimensional aerodynamic coefficients are given in tabular form as functions of Mach number, for only nine Mach numbers. A naive spline fit to the data gives unsatisfactory results, and care must be taken to ensure that the fit to the data is realistic. So while the problem is conceptually straightforward, the implementation requires some care.\n"
      ]
    },
    {
      "cell_type": "markdown",
      "metadata": {
        "editable": true,
        "slideshow": {
          "slide_type": ""
        },
        "tags": []
      },
      "source": [
        "## Problem Definition\n",
        "\n",
        "The objective of the problem is to minimize the objective $J$, where\n",
        "$$\n",
        "    J = t_f\n",
        "$$\n",
        "is the time to climb to 65,600 ft (20,000 m). The equations of motion are given by\n",
        "$$\n",
        "\\begin{aligned}\n",
        "    \\dot{h} &= v \\sin \\gamma \\\\\n",
        "    \\dot{v} &= \\frac{T \\cos \\alpha - D}{m} - g \\sin \\gamma \\\\\n",
        "    \\dot{\\gamma} &=\\frac{T \\sin \\alpha+L}{m v} - \\frac{g \\cos \\gamma}{v} \\\\\n",
        "    \\dot{m} &= -\\frac{T}{g I_\\text{sp}}\n",
        "\\end{aligned}\n",
        "$$\n",
        "where the states are the aircraft altitude $h$, velocity $v$, flight path angle $\\gamma$, and the aircraft mass $m$. The gravitational constant is\n",
        "$$\n",
        "    g = 32.174 \\text{ft}/\\text{s}^2\n",
        "$$\n",
        "and the specific impulse is\n",
        "$$\n",
        "    I_\\text{sp} = 1{,}600 \\text{ s}\n",
        "$$\n",
        "\n",
        "The single available control is the aircraft angle of attack $\\alpha$, which appears explicity\n",
        "in the equations of motion, but also appears implicitly through the lift $L$ and drag $D$. The lift and drag are given by\n",
        "$$\n",
        "\\begin{aligned}\n",
        "    L &=\\frac{1}{2} C_{L} S \\rho v^{2} \\\\\n",
        "    D &=\\frac{1}{2} C_{D} S \\rho v^{2}\n",
        "\\end{aligned}\n",
        "$$\n",
        "where $\\rho$ is the density of the atmosphere, which depends on the aircraft altitude, and $S=530\\text{ ft}^2$ is the wing area. The coefficients of lift and drag are given by\n",
        "$$\n",
        "\\begin{aligned}\n",
        "    C_{L} &=C_{L \\alpha} \\alpha \\\\\n",
        "    C_{D} &=C_{D 0}+\\eta C_{L \\alpha} \\alpha^{2}\n",
        "\\end{aligned}\n",
        "$$\n",
        "where the lift curve slope $C_{L \\alpha}$, drag coefficient at zero angle of attack $C_{D0}$, and the induced drag factor $\\eta$ are all functions of Mach number $M$ and are expressed in tabular form in Table&nbsp;1."
      ]
    },
    {
      "cell_type": "raw",
      "metadata": {
        "editable": true,
        "jupyter": {
          "outputs_hidden": false
        },
        "raw_mimetype": "text/restructuredtext",
        "slideshow": {
          "slide_type": ""
        },
        "tags": []
      },
      "source": [
        ".. table:: Table 1: Nondimensional aerodynamic coefficients as a function of Mach number.\n",
        "   :align: center\n",
        "   :widths: 20 20 20 20 20 20 20 20 20 20\n",
        "\n",
        "   +------------------------+-------+-------+-------+-------+-------+-------+-------+-------+-------+\n",
        "   | :math:`M`              | 0.0   | 0.4   | 0.8   | 0.9   | 1.0   | 1.2   | 1.4   | 1.6   | 1.8   |\n",
        "   +========================+=======+=======+=======+=======+=======+=======+=======+=======+=======+\n",
        "   | :math:`{C_L}_{\\alpha}` | 3.44  | 3.44  | 3.44  | 3.58  | 4.44  | 3.44  | 3.01  | 2.86  | 2.44  |\n",
        "   +------------------------+-------+-------+-------+-------+-------+-------+-------+-------+-------+\n",
        "   | :math:`{C_D}_0`        | 0.013 | 0.013 | 0.013 | 0.014 | 0.031 | 0.041 | 0.039 | 0.036 | 0.035 |\n",
        "   +------------------------+-------+-------+-------+-------+-------+-------+-------+-------+-------+\n",
        "   | :math:`\\eta`           | 0.54  | 0.54  | 0.54  | 0.75  | 0.79  | 0.78  | 0.89  | 0.93  | 0.93  |\n",
        "   +------------------------+-------+-------+-------+-------+-------+-------+-------+-------+-------+\n"
      ]
    },
    {
      "cell_type": "markdown",
      "metadata": {},
      "source": [
        "The available thrust is a function of Mach number and altitude, and the data are given in Table&nbsp;2."
      ]
    },
    {
      "cell_type": "raw",
      "metadata": {
        "editable": true,
        "raw_mimetype": "text/restructuredtext",
        "slideshow": {
          "slide_type": ""
        },
        "tags": []
      },
      "source": [
        ".. table:: _`Table 2`: Maximum aircraft thrust (in thousands of pounds force) as a function of Mach number and altitude.\n",
        "   :align: center\n",
        "\n",
        "   +-------------+------+------+------+------+------+------+------+------+------+-----+\n",
        "   |  Mach       | Altitude (thousands of feet)                                       |\n",
        "   |             +------+------+------+------+------+------+------+------+------+-----+\n",
        "   |  Number     | 0    | 5    | 10   | 15   | 20   | 25   | 30   |  40  | 50   | 70  |\n",
        "   +=============+======+======+======+======+======+======+======+======+======+=====+\n",
        "   | 0.0         | 24.2 |      |      |      |      |      |      |      |      |     |\n",
        "   +-------------+------+------+------+------+------+------+------+------+------+-----+\n",
        "   | 0.2         | 28.0 | 24.6 | 21.1 | 18.1 | 15.2 | 12.8 | 10.7 |      |      |     |\n",
        "   +-------------+------+------+------+------+------+------+------+------+------+-----+\n",
        "   | 0.4         | 28.3 | 25.2 | 21.9 | 18.7 | 15.9 | 13.4 | 11.2 |  7.3 |  4.4 |     |\n",
        "   +-------------+------+------+------+------+------+------+------+------+------+-----+\n",
        "   | 0.6         | 30.8 | 27.2 | 23.8 | 20.5 | 17.3 | 14.7 | 12.3 |  8.1 |  4.9 |     |\n",
        "   +-------------+------+------+------+------+------+------+------+------+------+-----+\n",
        "   | 0.8         | 34.5 | 30.3 | 26.6 | 23.2 | 19.8 | 16.8 | 14.1 |  9.4 |  5.6 | 1.1 |\n",
        "   +-------------+------+------+------+------+------+------+------+------+------+-----+\n",
        "   | 1.0         | 37.9 | 34.3 | 30.4 | 26.8 | 23.3 | 19.8 | 16.8 | 11.2 |  6.8 | 1.4 |\n",
        "   +-------------+------+------+------+------+------+------+------+------+------+-----+\n",
        "   | 1.2         | 36.1 | 38.0 | 34.9 | 31.3 | 27.3 | 23.6 | 20.1 | 13.4 |  8.3 | 1.7 |\n",
        "   +-------------+------+------+------+------+------+------+------+------+------+-----+\n",
        "   | 1.4         |      | 36.6 | 38.5 | 36.1 | 31.6 | 28.1 | 24.2 | 16.2 | 10.0 | 2.2 |\n",
        "   +-------------+------+------+------+------+------+------+------+------+------+-----+\n",
        "   | 1.6         |      |      |      | 38.7 | 35.7 | 32.0 | 28.1 | 19.3 | 11.9 | 2.9 |\n",
        "   +-------------+------+------+------+------+------+------+------+------+------+-----+\n",
        "   | 1.8         |      |      |      |      |      | 34.6 | 31.1 | 21.7 | 13.3 | 3.1 |\n",
        "   +-------------+------+------+------+------+------+------+------+------+------+-----+\n",
        "\n"
      ]
    },
    {
      "cell_type": "markdown",
      "metadata": {},
      "source": [
        "Note that the data in the paper by Bryson *et al.* is missing data points for high altitude and low Mach number (for which no data is available because it is below the stall speed of the aircraft), and for low altitude and high Mach number (for which data is also not available, most likely because these speeds are beyond the never exceed speeds for the aircraft).\n",
        "\n",
        "Finally, the initial boundary conditions are\n",
        "$$\n",
        "\\begin{aligned}\n",
        "    h(0) &= 0 \\text{ ft} \\\\\n",
        "    v(0) &= 424.260 \\text{ ft/s} = \\text{Mach 0.38} \\\\\n",
        "    \\gamma(0) &= 0 \\text{ rad} \\\\\n",
        "    m(0) &= 42{,}000 \\text{ lbm} \n",
        "\\end{aligned}\n",
        "$$\n",
        "and the terminal boundary conditions are\n",
        "$$\n",
        "\\begin{aligned}\n",
        "    h(t_f) &= 65{,}600 \\text{ ft} = 20{,}000 \\text{ m}\\\\\n",
        "    v(t_f) &= 968.148 \\text{ ft/s} = \\text{Mach 1.0} \\\\\n",
        "    \\gamma(t_f) &= 0 \\text{ rad} \n",
        "\\end{aligned}\n",
        "$$"
      ]
    },
    {
      "cell_type": "markdown",
      "metadata": {
        "editable": true,
        "slideshow": {
          "slide_type": ""
        },
        "tags": []
      },
      "source": [
        "## Interpolation of Aerodynamic Data"
      ]
    },
    {
      "cell_type": "markdown",
      "metadata": {
        "editable": true,
        "slideshow": {
          "slide_type": ""
        },
        "tags": []
      },
      "source": [
        "### Density and Speed of Sound\n",
        "\n",
        "The equations of motion depend on the density of air, $\\rho$, and on the speed of sound, $c$, which is needed to compute the Mach number. These quantities are determined from the [1976 U.S. Standard Atmosphere](http://www.pdas.com/atmosTable1US.html), using a cubic spline interpolation of the tabular data. The resulting interpolation functions are ``get_rho`` and ``get_c``. "
      ]
    },
    {
      "cell_type": "code",
      "execution_count": null,
      "metadata": {},
      "outputs": [],
      "source": [
        "import numpy as np\n",
        "from scipy.interpolate import CubicSpline\n",
        "\n",
        "# make splines of atmospheric data, using the U.S. 1976 Standard Atmosphere in US\n",
        "# customary units. Data from: http://www.pdas.com/atmosTable1US.html\n",
        "\n",
        "# fmt: off\n",
        "\n",
        "# density rho (slug/ft^3) and speed of sound c (ft/s) as a function of altitude h (ft)\n",
        "atmosphere_data = np.array(\n",
        "    #    h       rho       c\n",
        "    # ------  --------  ------\n",
        "    [[     0, 2.377E-3, 1116.5],\n",
        "     [ 5_000, 2.048E-3, 1097.1],\n",
        "     [10_000, 1.756E-3, 1077.4],\n",
        "     [15_000, 1.496E-3, 1057.4],\n",
        "     [20_000, 1.267E-3, 1036.9],\n",
        "     [25_000, 1.066E-3, 1016.1],\n",
        "     [30_000, 8.907E-4,  994.8],\n",
        "     [35_000, 7.382E-4,  973.1],\n",
        "     [40_000, 5.873E-4,  968.1],\n",
        "     [45_000, 4.623E-4,  968.1],\n",
        "     [50_000, 3.639E-4,  968.1],\n",
        "     [55_000, 2.865E-4,  968.1],\n",
        "     [60_000, 2.256E-4,  968.1],\n",
        "     [65_000, 1.777E-4,  968.1],\n",
        "     [70_000, 1.392E-4,  970.9],\n",
        "     [75_000, 1.091E-4,  974.3],\n",
        "     [80_000, 8.571E-5,  977.6],\n",
        "     [85_000, 6.743E-5,  981.0],\n",
        "     [90_000, 5.315E-5,  984.3]],\n",
        ")  \n",
        "# fmt: on\n",
        "\n",
        "get_rho = CubicSpline(atmosphere_data[:, 0], atmosphere_data[:, 1])\n",
        "get_c = CubicSpline(atmosphere_data[:, 0], atmosphere_data[:, 2])"
      ]
    },
    {
      "cell_type": "markdown",
      "metadata": {},
      "source": [
        "### Available Thrust\n",
        "\n",
        "As discussed earlier, the tabular data for available thrust (Table&nbsp;2) is missing data outside the flight envelope. As a result, a simple two-dimensional spline is not feasible. Instead, we use a radial basis function (RBF) interpolation, which is appropriate for unstructured data. We first scale the independent axes to a range of $[0,1]$, and then pass the data to the SciPy function ``RBFInterpolator`` to generate the interpolation function ``thrust_function``."
      ]
    },
    {
      "cell_type": "code",
      "execution_count": null,
      "metadata": {
        "editable": true,
        "slideshow": {
          "slide_type": ""
        },
        "tags": []
      },
      "outputs": [],
      "source": [
        "# Import required packages\n",
        "import matplotlib.pyplot as plt\n",
        "import numpy as np\n",
        "from mpl_toolkits.mplot3d import Axes3D\n",
        "from numpy import pi\n",
        "from scipy.interpolate import RBFInterpolator\n",
        "from yapss import Problem\n",
        "\n",
        "# Mach number and altitude arrays\n",
        "mach_data = np.array((0.0, 0.2, 0.4, 0.6, 0.8, 1.0, 1.2, 1.4, 1.6, 1.8))\n",
        "# Data is in thousands of feet\n",
        "h_data = np.array((0, 5, 10, 15, 20, 25, 30, 40, 50, 70), dtype=float)\n",
        "\n",
        "# normalize so that each array has range [0,1]\n",
        "h_data /= 70.0\n",
        "mach_data /= 1.8\n",
        "\n",
        "# Thrust data. Note that there are zero entries where the data is unknown or\n",
        "# undefined. Thrust is in thousands of lbf.\n",
        "# fmt: off\n",
        "thrust_data = np.array(\n",
        "    [[24.2,    0,    0,    0,    0,    0,    0,    0,    0,    0],\n",
        "     [28.0, 24.6, 21.1, 18.1, 15.2, 12.8, 10.7,    0,    0,    0],\n",
        "     [28.3, 25.2, 21.9, 18.7, 15.9, 13.4, 11.2,  7.3,  4.4,    0],\n",
        "     [30.8, 27.2, 23.8, 20.5, 17.3, 14.7, 12.3,  8.1,  4.9,    0],\n",
        "     [34.5, 30.3, 26.6, 23.2, 19.8, 16.8, 14.1,  9.4,  5.6,  1.1],\n",
        "     [37.9, 34.3, 30.4, 26.8, 23.3, 19.8, 16.8, 11.2,  6.8,  1.4],\n",
        "     [36.1, 38.0, 34.9, 31.3, 27.3, 23.6, 20.1, 13.4,  8.3,  1.7],\n",
        "     [   0, 36.6, 38.5, 36.1, 31.6, 28.1, 24.2, 16.2, 10.0,  2.2],\n",
        "     [   0,    0,    0, 38.7, 35.7, 32.0, 28.1, 19.3, 11.9,  2.9],\n",
        "     [   0,    0,    0,    0,    0, 34.6, 31.1, 21.7, 13.3,  3.1]],\n",
        ")  # fmt: on\n",
        "\n",
        "# convert to lbf\n",
        "thrust_data *= 1000\n",
        "\n",
        "# Find non-empty entries in thrust table, and form argument and value arrays for the\n",
        "# radial basis function interpolator\n",
        "thrust_table = []\n",
        "mh = []\n",
        "for j, mj in enumerate(mach_data):\n",
        "    for k, hk in enumerate(h_data):\n",
        "        thrust_data_point = thrust_data[j][k]\n",
        "        if thrust_data_point != 0:\n",
        "            thrust_table.append(thrust_data_point)\n",
        "            mh.append([mj, hk])\n",
        "\n",
        "thrust_rbf_interpolator = RBFInterpolator(\n",
        "    mh,\n",
        "    thrust_table,\n",
        "    smoothing=0,\n",
        "    kernel=\"cubic\",\n",
        ")\n",
        "\n",
        "\n",
        "def thrust_function(mach, h):\n",
        "    \"\"\"Determine the thrust available at the given mach numbers and altitudes.\"\"\"\n",
        "    shape = mach.shape\n",
        "    length = 1\n",
        "    for i in shape:\n",
        "        length *= i\n",
        "    mach = mach.reshape([length])\n",
        "    h = h.reshape([length])\n",
        "    thrust = thrust_rbf_interpolator(np.stack([mach / 1.8, h / 70000], -1))\n",
        "    thrust = thrust.reshape(shape)\n",
        "    return thrust"
      ]
    },
    {
      "cell_type": "markdown",
      "metadata": {
        "editable": true,
        "slideshow": {
          "slide_type": ""
        },
        "tags": []
      },
      "source": [
        "To determine how well the interpolation works, a 3D wireframe mesh of the calculated thrust versus Mach number and altitude is plotted:"
      ]
    },
    {
      "cell_type": "code",
      "execution_count": null,
      "metadata": {
        "editable": true,
        "slideshow": {
          "slide_type": ""
        },
        "tags": []
      },
      "outputs": [],
      "source": [
        "# Form a regular mesh of Mach numbers and altitudes\n",
        "mach = np.linspace(0, 1.8, num=50)\n",
        "h = np.linspace(0, 70000, num=50)\n",
        "mach, h = np.meshgrid(mach, h)\n",
        "thrust = thrust_function(mach, h)\n",
        "\n",
        "# Plot the wireframe mesh\n",
        "fig = plt.figure(figsize=(8, 8))\n",
        "ax = fig.add_subplot(projection=\"3d\")\n",
        "ax.plot_wireframe(mach, h / 1000, thrust / 1000, rstride=1, cstride=1, linewidths=0.5, color=\"k\")\n",
        "ax.tick_params(axis=\"x\", labelsize=8)\n",
        "ax.tick_params(axis=\"y\", labelsize=8)\n",
        "ax.tick_params(axis=\"z\", labelsize=8)\n",
        "ax.set_xlabel(\"Mach Number, $M$\", fontsize=10)\n",
        "ax.set_ylabel(\"Altitude, $h$ ($10^3$ feet)\", fontsize=10)\n",
        "ax.set_zlabel(\"Thrust, $T$ ($10^3$ lbf)\", fontsize=10)\n",
        "ax.grid(False)\n",
        "ax.set_box_aspect([1, 1, 0.4], zoom=0.9)\n",
        "ax.view_init(elev=45, azim=240, roll=-4)"
      ]
    },
    {
      "cell_type": "markdown",
      "metadata": {
        "editable": true,
        "slideshow": {
          "slide_type": ""
        },
        "tags": []
      },
      "source": [
        "Looking at the plot above, we see that there is a small amount of rippling in the contours for Mach numbers $M \\ge 1.25$ and altitudes below 25,000 ft. As it turns out, the optimal trajectory does not pass through this region, and so this interpolation should suffice."
      ]
    },
    {
      "cell_type": "markdown",
      "metadata": {
        "editable": true,
        "slideshow": {
          "slide_type": ""
        },
        "tags": []
      },
      "source": [
        "### Lift and Drag Coefficients\n",
        "\n",
        "The lift and drag coefficients are determined by the data in Table 1. The data is fairly sparse, and a simple cubic spline interpolation gives unsatisfactory results. For example, here is the cubic spline for the zero-lift drag coefficient ${C_D}_0$:"
      ]
    },
    {
      "cell_type": "code",
      "execution_count": null,
      "metadata": {},
      "outputs": [],
      "source": [
        "mach_cd0 = [0, 0.4, 0.8, 0.9, 1.0, 1.2, 1.4, 1.6, 1.8]\n",
        "cd0 = [0.013, 0.013, 0.013, 0.014, 0.031, 0.041, 0.039, 0.036, 0.035]\n",
        "get_cd0 = CubicSpline(mach_cd0, cd0)\n",
        "\n",
        "mach = np.linspace(0, 1.8, 100)\n",
        "plt.plot(mach, get_cd0(mach))\n",
        "plt.plot(mach_cd0, cd0, \".\", markersize=10)\n",
        "plt.ylabel(r\"zero-lift drag coefficient, $C_{D_{0}}$\")\n",
        "plt.xlabel(r\"Mach number, $M$\")\n",
        "plt.xlim([0.0, 1.8])\n",
        "plt.ylim([0.01, 0.045])\n",
        "plt.grid()"
      ]
    },
    {
      "cell_type": "markdown",
      "metadata": {},
      "source": [
        "It seems clear that the drag coefficient is supposed to be constant (or nearly so) in the subsonic regime $M \\le 0.8$. Because of the sparse data, some artistic license is necessary to interpret the data. To get a reasonable result, we add additional knots near $M=0.80$ and at $M=0.86$ to constrain the curve of ${C_D}_0$ from falling below the subsonic value of 0.013. "
      ]
    },
    {
      "cell_type": "code",
      "execution_count": null,
      "metadata": {},
      "outputs": [],
      "source": [
        "# define the spline for {C_D}_0\n",
        "eps = 1e-5\n",
        "mach_cd0 = [0, 0.4, 0.8, 0.86 - eps, 0.86, 0.9, 1.0, 1.2, 1.4, 1.6, 1.8]\n",
        "cd0 = [0.013, 0.013, 0.013, 0.013, 0.013, 0.014, 0.031, 0.041, 0.039, 0.036, 0.035]\n",
        "get_cd0 = CubicSpline(mach_cd0, cd0)\n",
        "\n",
        "mach = np.linspace(0, 1.8, 1000)\n",
        "plt.plot(mach, get_cd0(mach))\n",
        "plt.plot(mach_cd0, cd0, \".\", markersize=10)\n",
        "plt.ylabel(r\"zero-lift drag coefficient, $C_{D_{0}}$\")\n",
        "plt.xlabel(r\"Mach number, $M$\")\n",
        "plt.xlim([0.0, 1.8])\n",
        "plt.ylim([0.01, 0.045])\n",
        "plt.grid()"
      ]
    },
    {
      "cell_type": "markdown",
      "metadata": {
        "editable": true,
        "slideshow": {
          "slide_type": ""
        },
        "tags": []
      },
      "source": [
        "We do the same for the  lift curve ${C_L}_\\alpha$ and the induced drag parameter $\\eta$."
      ]
    },
    {
      "cell_type": "code",
      "execution_count": null,
      "metadata": {},
      "outputs": [],
      "source": [
        "# lift curve slope (CLalpha)\n",
        "mach_cla = [0, 0.4, 0.8, 0.84 - eps, 0.84, 0.9, 1.0, 1.2, 1.4, 1.6, 1.8]\n",
        "cla = [3.44, 3.44, 3.44, 3.44, 3.44, 3.58, 4.44, 3.44, 3.01, 2.86, 2.44]\n",
        "get_cla = CubicSpline(mach_cla, cla)\n",
        "\n",
        "mach = np.linspace(0, 1.8, 100)\n",
        "plt.figure()\n",
        "plt.plot(mach, get_cla(mach))\n",
        "plt.plot(mach_cla, cla, \".\", markersize=10)\n",
        "plt.ylabel(r\"Lift curve slope, $C_{L_{\\alpha}}$\")\n",
        "plt.xlabel(r\"Mach number, $M$\")\n",
        "plt.xlim([0.0, 1.8])\n",
        "plt.ylim([2, 5])\n",
        "plt.grid()"
      ]
    },
    {
      "cell_type": "code",
      "execution_count": null,
      "metadata": {},
      "outputs": [],
      "source": [
        "# eta\n",
        "# fmt: off\n",
        "mach_eta = [\n",
        "    0, 0.4, 0.8 - eps, 0.8, 0.9, 1.0, 1.0 + eps, 1.2 - eps, 1.2, 1.4, \n",
        "    1.6, 1.6 + eps, 1.8 - eps, 1.8,\n",
        "]\n",
        "eta_data = [\n",
        "    0.54, 0.54, 0.54, 0.54, 0.75 - 0.01, 0.79, 0.79 - eps / 10, \n",
        "    0.78 + eps / 10, 0.78, 0.89, 0.93, 0.93, 0.93, 0.93,\n",
        "]\n",
        "# fmt: on\n",
        "\n",
        "get_eta = CubicSpline(mach_eta, eta_data)\n",
        "\n",
        "mach = np.linspace(0, 1.8, 100)\n",
        "plt.figure()\n",
        "plt.plot(mach, get_eta(mach))\n",
        "plt.plot(mach_eta, eta_data, \".\", markersize=10)\n",
        "plt.ylabel(r\"Induced drag coefficient, $\\eta$\")\n",
        "plt.xlabel(r\"Mach number, $M$\")\n",
        "plt.xlim([0.0, 1.8])\n",
        "plt.ylim([0.5, 0.95])\n",
        "plt.grid()"
      ]
    },
    {
      "cell_type": "markdown",
      "metadata": {},
      "source": [
        "## YAPSS Solution"
      ]
    },
    {
      "cell_type": "markdown",
      "metadata": {},
      "source": [
        "The optimal control problem has four states: altitude ($h$), velocity ($v$), flight path angle ($\\gamma$), and vehicle mass ($M$). There is a single control, the aircraft angle of attack ($\\alpha$)). So the problem is instantiated as:"
      ]
    },
    {
      "cell_type": "code",
      "execution_count": null,
      "metadata": {},
      "outputs": [],
      "source": [
        "from yapss import Problem\n",
        "\n",
        "problem = Problem(name=\"Bryson Minimum Time to Climb\", nx=[4], nu=[1])"
      ]
    },
    {
      "cell_type": "markdown",
      "metadata": {},
      "source": [
        "The objective and continuous callback functions are straightforward translations from the problem definition:"
      ]
    },
    {
      "cell_type": "code",
      "execution_count": null,
      "metadata": {},
      "outputs": [],
      "source": [
        "from yapss.math import cos, sin\n",
        "\n",
        "# constants\n",
        "S = 530\n",
        "g = 32.174\n",
        "Isp = 1600\n",
        "\n",
        "\n",
        "def objective(arg):\n",
        "    \"\"\"Minimize the total time to climb\"\"\"\n",
        "    arg.objective = arg.phase[0].final_time\n",
        "\n",
        "\n",
        "def continuous(arg):\n",
        "    h, v, gamma, mass = arg.phase[0].state\n",
        "    (alpha,) = arg.phase[0].control\n",
        "\n",
        "    # get atmospheric data and coefficients\n",
        "    rho = get_rho(h)\n",
        "    c = get_c(h)\n",
        "    mach = v / c\n",
        "    CD0 = get_cd0(mach)\n",
        "    Clalpha = get_cla(mach)\n",
        "    eta = get_eta(mach)\n",
        "    CD = CD0 + eta * Clalpha * alpha**2\n",
        "    CL = Clalpha * alpha\n",
        "\n",
        "    # compute the forces\n",
        "    q = 0.5 * rho * v**2\n",
        "    D = q * S * CD\n",
        "    L = q * S * CL\n",
        "    thrust = thrust_function(mach, h)\n",
        "\n",
        "    # compute the state derivatives\n",
        "    hdot = v * sin(gamma)\n",
        "    vdot = (thrust * cos(alpha) - D) / mass - g * sin(gamma)\n",
        "    gammadot = (thrust * sin(alpha) + L - mass * g * cos(gamma)) / (mass * v)\n",
        "    mdot = -thrust / (g * Isp)\n",
        "\n",
        "    arg.phase[0].dynamics[:] = hdot, vdot, gammadot, mdot\n",
        "\n",
        "\n",
        "problem.functions.objective = objective\n",
        "problem.functions.continuous = continuous"
      ]
    },
    {
      "cell_type": "markdown",
      "metadata": {},
      "source": [
        "The bounds for the problem are determined by the initial and final conditions. We are set loose box bounds on the decision variables:"
      ]
    },
    {
      "cell_type": "code",
      "execution_count": null,
      "metadata": {},
      "outputs": [],
      "source": [
        "# initial and final conditions\n",
        "t0 = 0\n",
        "h0, v0, gamma_0, m0 = 0, 424.260, 0, 42000.0 / g\n",
        "hf, vf, gamma_f = 65600, 968.148, 0\n",
        "\n",
        "# variable ranges\n",
        "tf_min, tf_max = 100, 800\n",
        "h_min, h_max = 0, 69000\n",
        "v_min, v_max = 1, 2000\n",
        "gamma_min = -40 * pi / 180\n",
        "gamma_max = 40 * pi / 180\n",
        "m_min, m_max = 10, 45000 / g\n",
        "alpha_min, alpha_max = -pi / 4, pi / 4\n",
        "\n",
        "# set the bounds\n",
        "bounds = problem.bounds.phase[0]\n",
        "bounds.initial_time.lower = bounds.initial_time.upper = t0\n",
        "bounds.final_time.lower = tf_min\n",
        "bounds.final_time.upper = tf_max\n",
        "bounds.initial_state.lower = bounds.initial_state.upper = h0, v0, gamma_0, m0\n",
        "bounds.state.lower = h_min, v_min, gamma_min, m_min\n",
        "bounds.state.upper = h_max, v_max, gamma_max, m_max\n",
        "bounds.final_state.lower = hf, vf, gamma_f, m_min\n",
        "bounds.final_state.upper = hf, vf, gamma_f, m_max\n",
        "bounds.control.lower = (alpha_min,)\n",
        "bounds.control.upper = (alpha_max,)"
      ]
    },
    {
      "cell_type": "markdown",
      "metadata": {},
      "source": [
        "The initial guess of the state trajectory is a straight line interpolation between the initial and final conditions, except for the mass, for which the guess is a constant value. The initial guess for the final time is $t_f = 300 \\text{ s}$."
      ]
    },
    {
      "cell_type": "code",
      "execution_count": null,
      "metadata": {},
      "outputs": [],
      "source": [
        "# guess\n",
        "guess = problem.guess.phase[0]\n",
        "guess.time = [0, 300]\n",
        "guess.state = [[h0, hf], [v0, vf], [gamma_0, gamma_f], [m0, m0]]\n",
        "guess.control = [[0, 0]]"
      ]
    },
    {
      "cell_type": "markdown",
      "metadata": {},
      "source": [
        "The scale factors are taken to be roughly half the range of each of the variables:"
      ]
    },
    {
      "cell_type": "code",
      "execution_count": null,
      "metadata": {},
      "outputs": [],
      "source": [
        "# scaling\n",
        "problem.scale.phase[0].state = [30000.0, 1000.0, 3.0, 500.0]\n",
        "problem.scale.phase[0].dynamics = problem.scale.phase[0].state\n",
        "problem.scale.phase[0].control = [0.2]\n",
        "problem.scale.objective = 200\n",
        "problem.scale.phase[0].time = 200"
      ]
    },
    {
      "cell_type": "markdown",
      "metadata": {},
      "source": [
        "Finally, we set the YAPSS and Ipopt options and solve. Note that because the aerodynamic data cannot be automatically differentiated, the differentiation must be performed numerically."
      ]
    },
    {
      "cell_type": "code",
      "execution_count": null,
      "metadata": {},
      "outputs": [],
      "source": [
        "problem.derivatives.method = \"central-difference\"\n",
        "\n",
        "# mesh\n",
        "m, n = 30, 8\n",
        "problem.mesh.phase[0].collocation_points = m * (n,)\n",
        "problem.mesh.phase[0].fraction = m * (1.0 / m,)\n",
        "\n",
        "# ipopt options\n",
        "problem.ipopt_options.max_iter = 1000\n",
        "problem.ipopt_options.tol = 1e-10\n",
        "problem.ipopt_options.acceptable_tol = 1e-8\n",
        "problem.ipopt_options.print_level = 3\n",
        "problem.ipopt_options.sb = \"yes\"\n",
        "\n",
        "solution = problem.solve()"
      ]
    },
    {
      "cell_type": "markdown",
      "metadata": {
        "editable": true,
        "slideshow": {
          "slide_type": ""
        },
        "tags": []
      },
      "source": [
        "## Plots of Solution"
      ]
    },
    {
      "cell_type": "markdown",
      "metadata": {},
      "source": [
        "To plot the solution, we first extract the state, control, and time histories:"
      ]
    },
    {
      "cell_type": "code",
      "execution_count": null,
      "metadata": {},
      "outputs": [],
      "source": [
        "# extract state and control histories\n",
        "h, v, gamma, mass = solution.phase[0].state\n",
        "alpha = solution.phase[0].control[0]\n",
        "\n",
        "# time arrays\n",
        "t = solution.phase[0].time  # interpolation points\n",
        "tc = solution.phase[0].time_c  # collocation points"
      ]
    },
    {
      "attachments": {},
      "cell_type": "markdown",
      "metadata": {},
      "source": [
        "### Altitude vs. Velocity\n",
        "\n",
        "The most useful plot for understanding the solution is a plot of the trajectory on altitude vs. velocity axes, on which are superimposed contours of excess power and total energy height. The excess power is \n",
        "$$\n",
        "    \\mathbb{P_\\text{e}} = (T-D) v\n",
        "$$\n",
        "and the energy height is\n",
        "$$\n",
        "    h_\\text{E} = h + \\frac{v^2}{2g}\n",
        "$$"
      ]
    },
    {
      "cell_type": "code",
      "execution_count": null,
      "metadata": {
        "editable": true,
        "slideshow": {
          "slide_type": ""
        },
        "tags": []
      },
      "outputs": [],
      "source": [
        "def get_excess_power(h, v):\n",
        "    \"\"\"Determine the excess power available at each altitude h and airspeed v.\"\"\"\n",
        "    # use rough average weight to compute excess power\n",
        "    m = 40000 / g\n",
        "\n",
        "    # calculate required thrust for level flight\n",
        "    mach = v / get_c(h)\n",
        "    CD0 = get_cd0(mach)\n",
        "    Clalpha = get_cla(mach)\n",
        "    eta = get_eta(mach)\n",
        "    qs = 0.5 * get_rho(h) * v**2 * S\n",
        "    CL = m * g / qs\n",
        "    alpha = CL / Clalpha\n",
        "    CD = CD0 + eta * Clalpha * alpha**2\n",
        "    D = qs * CD\n",
        "    thrust = thrust_function(mach, h)\n",
        "\n",
        "    return (thrust - D) * v\n",
        "\n",
        "\n",
        "def plot_trajectory(solution):\n",
        "    h, v, gamma, mass = solution.phase[0].state\n",
        "    t = solution.phase[0].time\n",
        "    tc = solution.phase[0].time_c\n",
        "    alpha = solution.phase[0].control[0]\n",
        "    g = 32.174  # 9.80665\n",
        "    for h_energy in np.linspace(10000, 100000, num=10, endpoint=True):\n",
        "        h_ = np.linspace(0, h_energy, num=250, endpoint=True)\n",
        "        v_ = np.sqrt(2 * g * (h_energy - h_))\n",
        "        plt.plot(v_ / get_c(h_), h_ / 1000, \"grey\", linewidth=1)\n",
        "\n",
        "    # excess power contours\n",
        "    h_grid = np.linspace(-1000, 70000, num=100)\n",
        "    v_grid = np.linspace(0.1, 2000, num=100)\n",
        "    v_grid, h_grid = np.meshgrid(v_grid, h_grid)\n",
        "    power = get_excess_power(h_grid, v_grid)\n",
        "    mach_grid = v_grid / get_c(h_grid)\n",
        "    cp = plt.contour(\n",
        "        mach_grid,\n",
        "        h_grid / 1000,\n",
        "        power / 1e6,\n",
        "        [-4, -2, 0, 2, 4, 6, 8, 12, 16, 20],\n",
        "        colors=\"k\",\n",
        "        linewidths=1,\n",
        "    )\n",
        "    plt.clabel(cp, fmt=r\"%1.0f\")\n",
        "\n",
        "    plt.plot(v / get_c(h), h / 1000, linewidth=3)\n",
        "    plt.xlabel(r\"Velocity, $v$ (ft/s)\")\n",
        "    plt.ylabel(r\"Altitude, $h$ (1000 ft)\")\n",
        "    # plt.xlim(0, 1800)\n",
        "    plt.xlim(0, 1.8)\n",
        "    plt.ylim(-0.3, 65)\n",
        "    plt.grid()\n",
        "\n",
        "\n",
        "plot_trajectory(solution)"
      ]
    },
    {
      "cell_type": "markdown",
      "metadata": {},
      "source": [
        "The units of the labels for the excess power contours are $10^6$ ft-lbf/s. The trajectory has five phases:\n",
        "\n",
        "1. The aircraft flies at sea level, accelerating to about Mach 0.87.\n",
        "2. The aircraft then climbs at nearly constant Mach number, operating at close to the speed for\n",
        "   maximum excess power at each altitude, just below the large increase in drag in the transonic\n",
        "   region.\n",
        "4. At about 44,000 ft, the aircraft then dives to rapidly accelerate through the transonic region,\n",
        "   to reach an island of large excess power.\n",
        "5. In the region of large excess power, the aircraft maintains level flight until achieving the\n",
        "   required energy height.\n",
        "6. Finally, the aircraft performs a zoom climb at large flight path angle to reach the desired\n",
        "   final altitude.\n",
        "\n",
        "The state and control histories are plotted in the sections below."
      ]
    },
    {
      "cell_type": "markdown",
      "metadata": {
        "editable": true,
        "slideshow": {
          "slide_type": ""
        },
        "tags": []
      },
      "source": [
        "### Altitude"
      ]
    },
    {
      "cell_type": "code",
      "execution_count": null,
      "metadata": {},
      "outputs": [],
      "source": [
        "plt.plot(t, h / 1000)\n",
        "plt.xlabel(r\"Time, $t$ (s)\")\n",
        "plt.ylabel(r\"Altitude, $h$ (km)\")\n",
        "plt.grid()"
      ]
    },
    {
      "cell_type": "markdown",
      "metadata": {},
      "source": [
        "### Velocity"
      ]
    },
    {
      "cell_type": "code",
      "execution_count": null,
      "metadata": {},
      "outputs": [],
      "source": [
        "plt.plot(t, v)\n",
        "plt.xlabel(r\"Time, $t$ (s)\")\n",
        "plt.ylabel(r\"Velocity, $v$ (m/s)\")\n",
        "plt.grid()"
      ]
    },
    {
      "cell_type": "markdown",
      "metadata": {},
      "source": [
        "### Flight Path Angle"
      ]
    },
    {
      "cell_type": "code",
      "execution_count": null,
      "metadata": {
        "editable": true,
        "slideshow": {
          "slide_type": ""
        },
        "tags": []
      },
      "outputs": [],
      "source": [
        "plt.plot(t, np.degrees(gamma))\n",
        "plt.xlabel(r\"Time, $t$ (s)\")\n",
        "plt.ylabel(r\"Flight path angle, $\\gamma$ (deg)\")\n",
        "plt.grid()"
      ]
    },
    {
      "cell_type": "markdown",
      "metadata": {},
      "source": [
        "### Vehicle Mass"
      ]
    },
    {
      "cell_type": "code",
      "execution_count": null,
      "metadata": {},
      "outputs": [],
      "source": [
        "plt.plot(t, mass * 32.174)\n",
        "plt.xlabel(r\"Time, $t$ (s)\")\n",
        "plt.ylabel(r\"Mass, $m$ (lbm)\")\n",
        "plt.grid()"
      ]
    },
    {
      "cell_type": "markdown",
      "metadata": {},
      "source": [
        "### Angle of Attack"
      ]
    },
    {
      "cell_type": "code",
      "execution_count": null,
      "metadata": {},
      "outputs": [],
      "source": [
        "plt.plot(tc, alpha * 180 / np.pi)\n",
        "plt.xlabel(r\"Time, $t$ (s)\")\n",
        "plt.ylabel(r\"Angle of attack, $\\alpha$ (deg)\")\n",
        "plt.grid()"
      ]
    },
    {
      "cell_type": "markdown",
      "metadata": {},
      "source": [
        "## Minimum Fuel to Climb\n",
        "\n",
        "Finally, given the effort to get this point, it's straightforward to solve a different but related problem, namely to minimize the fuel required to climb to the same final condition. It's only necessary to change the objective. Note that we use the original solution to generate the guess for this problem, which reduces slightly the required solution time."
      ]
    },
    {
      "cell_type": "code",
      "execution_count": null,
      "metadata": {
        "editable": true,
        "slideshow": {
          "slide_type": ""
        },
        "tags": []
      },
      "outputs": [],
      "source": [
        "def objective(arg):\n",
        "    \"\"\"Minimum fuel to climb objective\"\"\"\n",
        "    arg.objective = -arg.phase[0].final_state[3]\n",
        "\n",
        "\n",
        "problem.functions.objective = objective\n",
        "\n",
        "# original guess would work, but the prior solution is a much better guess\n",
        "problem.guess(solution)\n",
        "\n",
        "# reduce the printout\n",
        "problem.ipopt_options.print_level = 3\n",
        "\n",
        "# solve\n",
        "solution_2 = problem.solve()"
      ]
    },
    {
      "cell_type": "code",
      "execution_count": null,
      "metadata": {
        "editable": true,
        "slideshow": {
          "slide_type": ""
        },
        "tags": []
      },
      "outputs": [],
      "source": [
        "plot_trajectory(solution_2)\n",
        "plt.title(\"Minimum Fuel to Climb Trajectory\");"
      ]
    },
    {
      "cell_type": "code",
      "execution_count": null,
      "metadata": {},
      "outputs": [],
      "source": [
        "delta_m = solution_2.phase[0].state[3][-1] - solution.phase[0].state[3][-1]\n",
        "delta_t = solution_2.phase[0].final_time - solution.phase[0].final_time\n",
        "\n",
        "print(f\"{delta_m = :.1f} lbm\")\n",
        "print(f\"{delta_t = :.1f} s\")"
      ]
    },
    {
      "cell_type": "markdown",
      "metadata": {},
      "source": [
        "So the minimum fuel trajectory saves 16.4 pounds of fuel, but takes 61.1 s longer to reach the desired final state."
      ]
    },
    {
      "cell_type": "markdown",
      "metadata": {
        "editable": true,
        "slideshow": {
          "slide_type": ""
        },
        "tags": []
      },
      "source": [
        "## References"
      ]
    },
    {
      "cell_type": "raw",
      "metadata": {
        "editable": true,
        "raw_mimetype": "text/restructuredtext",
        "slideshow": {
          "slide_type": ""
        },
        "tags": []
      },
      "source": [
        ".. footbibliography::"
      ]
    }
  ],
  "metadata": {},
  "nbformat": 4,
  "nbformat_minor": 4
}
