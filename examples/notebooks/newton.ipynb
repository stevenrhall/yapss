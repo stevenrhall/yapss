{
  "cells": [
    {
      "cell_type": "markdown",
      "id": "9c43de3b-2034-4f43-b7f2-f075dd2039ac",
      "metadata": {
        "editable": true,
        "slideshow": {
          "slide_type": ""
        },
        "tags": []
      },
      "source": [
        "# Newton's Minimal Resistance Problem\n",
        "\n",
        "For a solution to the Newton's minimal resistance problem using a Python script instead of a notebook, see the [Python script documentation](../scripts/newton.rst).\n",
        "\n",
        "## Problem Description\n",
        "\n",
        "Newton's *Minimal Resistance Problem* is the first known calculus of variations problem, published in Isaac Newton's *Principia Mathematica* in 1687 <cite data-footcite=\"Newton:1687\">(Newton, 1687)</cite>. The problem is to find the convex solid of revolution (a nose cone) that has the lowest resistance (drag) when it moves through a rarefied gas along the axis of symmetry. In Newton's model, gas particles do not interact with each other, and bounce off the nose cone elastically with no loss. The nose cone is assumed to be convex (and axisymmetric) so that there are no additional collisions after the first. For a modern treatment of Newton's problem, including the assumption of convexity and axisymmetry, see the paper by Buttazzo and Kawohl <cite data-footcite=\"Buttazzo:2001\">(2001)</cite>. The convexity assumption is stronger than required to assure that each particle experiences only a single collision, but relaxing the convexity and axisymmetry assumptions while ensuring that each particle experiences only a single collision is quite complicated. See for example the paper by Compte and Lachand-Robert <cite data-footcite=\"Comte:2001\">(2001)</cite>. For this example, we'll keep Newton's simpler assumptions.\n",
        "\n",
        "Consider first the drag on a right circular cylinder with radius $R$. A gas particle with velocity $v$ relative to the body will bounce elastically off the circular end with velocity $v$ in the opposite direction. For a particle with mass $m$, the net impulse on the cylinder will then be the net change in momentum of the particle, $2mv$. For the rarefied gas, the drag is  similarly twice the momentum flux striking the end of the cylinder, $D=2 \\rho v^2 \\pi R^2$. The drag coefficient is then\n",
        "$$\n",
        "C_D = \\frac{D}{\\frac{1}{2} \\rho v^2 \\pi R^2} = 4\n",
        "$$\n",
        "\n",
        "For a more general convex, axisymmetric nose cone, we define $\\theta$ at each point on the surface of the cone as the angle between the axis of symmetry of the nose cone and the normal to the surface. Then each particle that strikes the surface rebounds at angle angle $2 \\theta$ away from the axis of symmetry. As a result, the local drag coefficient is\n",
        "$$\n",
        "\\begin{equation}\n",
        "    c_{d} = \\frac{\\Delta D}{\\frac{1}{2}\\rho v^{2}\\Delta A}\n",
        "          =  2 \\left(1+\\cos 2\\theta\\right) = 4 (\\cos\\theta)^2\n",
        "\\end{equation}\n",
        "$$\n",
        "where $\\Delta D$ is the drag due to forces on a small patch of the surface, and $\\Delta A$ is the area of the small patch of the surface projected onto a plane normal to the axis of symmetry.\n",
        "\n",
        "For a nose cone of radius $R$, the total drag coefficient is then\n",
        "$$\n",
        "\\begin{equation}\n",
        "    C_{D} = \\frac{D}{\\frac{1}{2}\\rho v^{2}A} =\\frac{1}{\\pi R^2} \\int_0^R\n",
        "             4 (\\cos\\theta(r))^2\\:2\\pi r\\:dr\n",
        "\\end{equation}\n",
        "$$\n",
        "Take the height of the nose cone at each radial station to be $y(r)$. Using a little trigonometry, we can express $(\\cos\\theta(r))^2$ as\n",
        "$$\n",
        "\\begin{equation}\n",
        "    (\\cos\\theta(r))^2 = \\frac{1}{1+(y^\\prime(r))^2}\n",
        "\\end{equation}\n",
        "$$\n",
        "where\n",
        "$$\n",
        "\\begin{equation}\n",
        "    y^\\prime(r) = \\frac{dy(r)}{dr}\n",
        "\\end{equation}\n",
        "$$\n",
        "Therefore, the cost objective to be minimized is\n",
        "$$\n",
        "\\begin{equation}\n",
        "    J = \\frac{D}{\\frac{1}{2}\\rho v^{2}A} =\\frac{8}{R^2} \\int_0^R\n",
        "              \\frac{1}{1+(y^\\prime(r))^2} \\:r\\:dr\n",
        "\\end{equation}\n",
        "$$\n",
        "Note that for a blunt nose cone (cylinder) $J=4$.\n",
        "\n",
        "(Most treatments of Newton's minimal resistance problem normalize the drag by the drag of a right circular cylinder rather than using the more modern drag coefficient, and hence our objective is a factor of 4 larger.)\n",
        "\n",
        "There are constraints on the shape of the nose cone. First, in the limit of very long, slender bodies, the drag is zero, and so we must limit the height of the nose cone by, say,\n",
        "$$\n",
        "\\begin{equation}\n",
        "    y(r) \\le y_{\\text{max}}\n",
        "\\end{equation}\n",
        "$$\n",
        "Second, the convexity of the nose cone requires that\n",
        "$$\n",
        "\\begin{align}\n",
        "    y^{\\prime}(r)\t    & \\le 0 \\\\\n",
        "    y^{\\prime\\prime}(r) & \\le 0\n",
        "\\end{align}\n",
        "$$\n",
        "Then the state for the problem is $\\boldsymbol{x} = [y(r),y^{\\prime}(r)]$s, and the control is $u(r)=y^{\\prime\\prime}$. Then dynamics then are given by\n",
        "$$\n",
        "\\begin{align}\n",
        "    x_{0}^{\\prime}(r) &= x_{1}(r) \\\\\n",
        "    x_{1}^{\\prime}(r) &= u_{0}(r)\n",
        "\\end{align}\n",
        "$$\n",
        "Therefore, the constraints become\n",
        "$$\n",
        "\\begin{align}\n",
        "    x_{0}(r) & \\le y_{\\text{max}} \\\\\n",
        "    x_{1}(r) & \\le 0 \\\\\n",
        "    u_{0}(r) & \\le 0\n",
        "\\end{align}\n",
        "$$\n",
        "Finally, note that the independent variable is not time, but rather the radius $r$.\n",
        "\n",
        "## YAPSS Solution\n",
        "\n",
        "First, we import the required Python packages:"
      ]
    },
    {
      "cell_type": "code",
      "execution_count": null,
      "id": "06e910fb-73c6-44b5-af17-d395f14181da",
      "metadata": {},
      "outputs": [],
      "source": [
        "# third party imports\n",
        "import matplotlib.pyplot as plt\n",
        "import numpy as np\n",
        "\n",
        "# package imports\n",
        "from yapss import Problem, Solution"
      ]
    },
    {
      "cell_type": "markdown",
      "id": "8384ed06-5009-4cec-9bca-1f2cec153cfe",
      "metadata": {},
      "source": [
        "Instantiate the optimal control problem with two states, one control input, and one integral:"
      ]
    },
    {
      "cell_type": "code",
      "execution_count": null,
      "id": "6b30d722-3e53-4620-be10-fabc9ab7b209",
      "metadata": {},
      "outputs": [],
      "source": [
        "# instantiate the problem\n",
        "problem = Problem(\n",
        "    name=\"Newton's minimal resistance problem\",\n",
        "    nx=[2],\n",
        "    nu=[1],\n",
        "    nq=[1],\n",
        ")"
      ]
    },
    {
      "cell_type": "markdown",
      "id": "23f8f36d-f95e-483e-843c-45a7da20cf73",
      "metadata": {},
      "source": [
        "Define the objective and continuous callback functions:"
      ]
    },
    {
      "cell_type": "code",
      "execution_count": null,
      "id": "a4d720f5-f93e-4160-bf27-632501c47af2",
      "metadata": {},
      "outputs": [],
      "source": [
        "# callback functions\n",
        "\n",
        "\n",
        "def objective(arg):\n",
        "    \"\"\"Objective function for Newton's minimal resistance problem.\"\"\"\n",
        "    arg.objective = arg.phase[0].integral[0]\n",
        "\n",
        "\n",
        "def continuous(arg):\n",
        "    \"\"\"Newton's minimal resistance problem dynamics and cost integrand.\"\"\"\n",
        "    _, yp = arg.phase[0].state\n",
        "    (u,) = arg.phase[0].control\n",
        "    r = arg.phase[0].time\n",
        "    arg.phase[0].dynamics[:] = yp, u\n",
        "    arg.phase[0].integrand[:] = (8 * r / (1 + yp**2),)\n",
        "\n",
        "\n",
        "problem.functions.objective = objective\n",
        "problem.functions.continuous = continuous"
      ]
    },
    {
      "cell_type": "markdown",
      "id": "65a5ba33-e0ac-43a6-a4a2-dbd6a0f1a112",
      "metadata": {},
      "source": [
        "Define a function to set up the problem. For most of the JupyterLab notebook examples, we don't use a setup function. But we do it here because some of the settings (bounds, initial guess) depend on a parameter that we want to vary."
      ]
    },
    {
      "cell_type": "code",
      "execution_count": null,
      "id": "aa53bdb0-3bab-48c7-bc81-085895ba3cad",
      "metadata": {},
      "outputs": [],
      "source": [
        "def setup(y_max: float = 1.0) -> Problem:\n",
        "    \"\"\"Set up Newton's minimal resistance problem as an optimal control problem.\"\"\"\n",
        "    ocp = Problem(\n",
        "        name=\"Newton's minimal resistance problem\",\n",
        "        nx=[2],\n",
        "        nu=[1],\n",
        "        nq=[1],\n",
        "    )\n",
        "\n",
        "    # functions\n",
        "    ocp.functions.objective = objective\n",
        "    ocp.functions.continuous = continuous\n",
        "\n",
        "    # bounds\n",
        "    bounds = ocp.bounds.phase[0]\n",
        "    bounds.initial_time.lower = bounds.initial_time.upper = 0.0\n",
        "    bounds.final_time.lower = bounds.final_time.upper = 1.0\n",
        "    bounds.state.lower[0] = 0\n",
        "    bounds.state.upper = y_max, 0\n",
        "    bounds.control.upper = (0,)\n",
        "\n",
        "    # guess\n",
        "    phase = ocp.guess.phase[0]\n",
        "    phase.time = [0.0, 1.0]\n",
        "    phase.state = [[y_max, 0.0], [-y_max, -y_max]]\n",
        "    phase.control = [[0.0, 0.0]]\n",
        "\n",
        "    # solver settings\n",
        "    ocp.derivatives.order = \"second\"\n",
        "    ocp.derivatives.method = \"auto\"\n",
        "    ocp.spectral_method = \"lgl\"\n",
        "\n",
        "    # ipopt settings\n",
        "    ocp.ipopt_options.print_level = 3\n",
        "    ocp.ipopt_options.sb = \"yes\"\n",
        "\n",
        "    return ocp"
      ]
    },
    {
      "cell_type": "markdown",
      "id": "9c9dc7f0-384d-404a-9940-0935f1440507",
      "metadata": {},
      "source": [
        "Now set up the problem for a particular maximum value of $y$ and solve:"
      ]
    },
    {
      "cell_type": "code",
      "execution_count": null,
      "id": "064dada9-d00a-49dc-9fad-d04ee22c0c99",
      "metadata": {
        "editable": true,
        "slideshow": {
          "slide_type": ""
        },
        "tags": []
      },
      "outputs": [],
      "source": [
        "# nosecone height of 1.0\n",
        "problem = setup(y_max=1)\n",
        "solution = problem.solve()"
      ]
    },
    {
      "cell_type": "code",
      "execution_count": null,
      "id": "6257fa50-9782-4da5-ba12-a14b4478d1eb",
      "metadata": {
        "editable": true,
        "slideshow": {
          "slide_type": ""
        },
        "tags": []
      },
      "outputs": [],
      "source": [
        "print(f\"Minimum drag solution has CD = {solution.objective:.5f}\")"
      ]
    },
    {
      "cell_type": "markdown",
      "id": "4db9cf8d-af08-4281-ae73-238eecfa0395",
      "metadata": {},
      "source": [
        "We're going to plot multiple solutions, so define a plot function, and go ahead and plot:"
      ]
    },
    {
      "cell_type": "code",
      "execution_count": null,
      "id": "0dc8330d-7804-4052-bb1a-40c3b817dccc",
      "metadata": {},
      "outputs": [],
      "source": [
        "def plot_solution(solution: Solution) -> None:\n",
        "    \"\"\"Plot solution.\"\"\"\n",
        "    # plot style information\n",
        "    linewidth = 2\n",
        "    plt.rc(\"font\", size=14)\n",
        "    plt.rc(\"font\", family=\"sans-serif\")\n",
        "\n",
        "    # extract information from solution\n",
        "    r = solution.phase[0].time\n",
        "    y, _ = solution.phase[0].state\n",
        "    r = np.concatenate((-r[-1::-1], r))\n",
        "    y = np.concatenate((y[-1::-1], y))\n",
        "\n",
        "    # plot\n",
        "    h = plt.plot(r, y, \"r\", linewidth=linewidth)\n",
        "    plt.axis(\"equal\")\n",
        "    plt.xlim([-1, 1])\n",
        "    plt.ylim([-0.1, 2.1])\n",
        "    plt.xlabel(\"Radius, $r/R$\")\n",
        "    plt.ylabel(\"Height, $y/R$\")\n",
        "    plt.tight_layout()\n",
        "    return h\n",
        "\n",
        "\n",
        "# plot solution for nosecone height = 1.0\n",
        "plot_solution(solution)\n",
        "plt.ylim([-0.1, 1.1])\n",
        "plt.gca().get_figure().set_figheight(3)"
      ]
    },
    {
      "cell_type": "markdown",
      "id": "8339daaa-b1ce-4ded-beee-317271ce51f7",
      "metadata": {},
      "source": [
        "If we zoom in on one of the corners of the solution, we see that what we expect would be a sharp corner is in fact quite rounded:"
      ]
    },
    {
      "cell_type": "code",
      "execution_count": null,
      "id": "24092920-c893-4e4c-b9a3-e9288aa5e609",
      "metadata": {},
      "outputs": [],
      "source": [
        "# zoom in on solution to see detail at corner\n",
        "h = plot_solution(solution)\n",
        "h[0].set_linewidth(1)\n",
        "h[0].set_marker(\"o\")\n",
        "plt.ylim([0.975, 1.025])\n",
        "plt.xlim([0.28, 0.36])\n",
        "plt.gca().get_figure().set_figheight(3)"
      ]
    },
    {
      "cell_type": "markdown",
      "id": "082d1cab-7595-4ba1-ba3b-db44f7801478",
      "metadata": {},
      "source": [
        "The reason for this is that the polynomials that represent the height $y(r)$ can't represent a sharp corner well. To fix this, we'll assume that the height is constant below some radius $r_0$, so that\n",
        "$$\n",
        "    y(r) = y_\\text{max},\\quad |r| \\le r_0\n",
        "$$\n",
        "The radius $r_0$ becomes our new initial time (instead of 0). To get the right drag, we have to add a new term to the objective which accounts for the integral for $0 \\le r \\le r_0$, which is\n",
        "$$\n",
        "\\begin{equation}\n",
        "    4 \\int_0^{r_0} r\\:dr = 2 r_0^2\n",
        "\\end{equation}\n",
        "$$\n",
        "when $R=1$ as in our formulation. We must also allow the \"initial time\" to range over $0\\le r_0 \\le 1$."
      ]
    },
    {
      "cell_type": "code",
      "execution_count": null,
      "id": "cd5e4bcc-e1f8-4d66-9e99-ad1e1322c3a1",
      "metadata": {},
      "outputs": [],
      "source": [
        "# modify objective for new problem formulation\n",
        "\n",
        "\n",
        "def objective2(arg):\n",
        "    \"\"\"Improved objective function for Newton's minimal resistance problem.\"\"\"\n",
        "    arg.objective = arg.phase[0].integral[0] + 4 * arg.phase[0].initial_time ** 2\n",
        "\n",
        "\n",
        "def setup2(y_max: float = 1.0) -> Problem:\n",
        "    \"\"\"Modify original setup to account for the new objective and boundary conditions.\"\"\"\n",
        "    ocp = setup(y_max)\n",
        "    ocp.functions.objective = objective2\n",
        "    ocp.bounds.phase[0].initial_time.upper = 1.0\n",
        "    return ocp"
      ]
    },
    {
      "cell_type": "markdown",
      "id": "e9d7c788-c0d8-4ac0-9fb5-c6af34d38cb6",
      "metadata": {},
      "source": [
        "If we now look at the solution, we have a much better result."
      ]
    },
    {
      "cell_type": "code",
      "execution_count": null,
      "id": "309dacf7-d4e6-4697-a6f3-d25af5b67f4a",
      "metadata": {},
      "outputs": [],
      "source": [
        "# solve new problem formulation with nosecone height = 1.0\n",
        "problem = setup2(y_max=1)\n",
        "solution = problem.solve()"
      ]
    },
    {
      "cell_type": "code",
      "execution_count": null,
      "id": "25337361-0d8c-4e56-9ce3-97d9711700ff",
      "metadata": {},
      "outputs": [],
      "source": [
        "# plot solution with new problem formulation\n",
        "plt.figure()\n",
        "plot_solution(solution)\n",
        "plt.ylim([-0.1, 1.1])\n",
        "plt.gca().get_figure().set_figheight(3)\n",
        "\n",
        "plt.figure()\n",
        "h = plot_solution(solution)\n",
        "h[0].set_linewidth(1)\n",
        "h[0].set_marker(\"o\")\n",
        "plt.ylim([0.99, 1.001])\n",
        "plt.xlim([0.33, 0.37])\n",
        "plt.gca().get_figure().set_figheight(3)"
      ]
    },
    {
      "cell_type": "markdown",
      "id": "4ef8d013-03d2-4ff8-8573-9e79662ef5c2",
      "metadata": {
        "editable": true,
        "slideshow": {
          "slide_type": ""
        },
        "tags": []
      },
      "source": [
        "Optimal nose cones for three different aspect ratios, $y_{\\text{max}}/R=0.5$,\n",
        "    $y_{\\text{max}}/R=1.0$, and $y_{\\text{max}}/R=2.0$, using improved\n",
        "    objective function."
      ]
    },
    {
      "cell_type": "code",
      "execution_count": null,
      "id": "a29962a2-731d-4941-8beb-76b78f2ebe75",
      "metadata": {
        "editable": true,
        "slideshow": {
          "slide_type": ""
        },
        "tags": []
      },
      "outputs": [],
      "source": [
        "# plot solution for various nosecone heights\n",
        "plt.figure(figsize=(6.4, 6.4))\n",
        "for y_max in (0.5, 1.0, 2.0):\n",
        "    problem = setup2(y_max=y_max)\n",
        "    problem.ipopt_options.print_level = 0\n",
        "    solution = problem.solve()\n",
        "    plot_solution(solution)\n",
        "    print(f\"{y_max = }, Coefficient of drag = {solution.objective:0.10f}\")\n",
        "\n",
        "print(\"\\n\")"
      ]
    },
    {
      "cell_type": "markdown",
      "id": "8d351d27-1253-469f-873a-b8767edf708d",
      "metadata": {
        "editable": true,
        "slideshow": {
          "slide_type": ""
        },
        "tags": []
      },
      "source": [
        "It's straightforward to show that the optimal drag coefficient depends on the nondimensional ratio $y_{\\text{max}}/R$, so without loss of generality the cases run here are for $R=1$. Data for three cases, $y_{\\text{max}}/R=0.5$, 1.0, and 2.0, are shown below. In the table we also show the limiting cases\n",
        "$y_{\\text{max}}/R=0$ and $y_{\\text{max}}/R=\\infty$.\n",
        "$$\n",
        "\\begin{array}{|c|c|}\n",
        "    \\hline \n",
        "    y_{\\text{max}}/R & \\text{Drag Coefficient, } C_D\\\\\n",
        "    \\hline\n",
        "    0.0    & 4\\hphantom{.00000\\dots} \\\\\n",
        "    0.5    & 2.43002\\dots \\\\\n",
        "    1.0    & 1.49926\\dots \\\\\n",
        "    2.0    & 0.64170\\dots \\\\\n",
        "    \\infty & 0\\hphantom{.00000\\dots} \\\\\n",
        "    \\hline\n",
        "\\end{array}\n",
        "$$"
      ]
    },
    {
      "cell_type": "raw",
      "id": "ed5dd00f-600f-471e-a5c3-b20883e7a1d4",
      "metadata": {
        "editable": true,
        "raw_mimetype": "text/restructuredtext",
        "slideshow": {
          "slide_type": ""
        },
        "tags": []
      },
      "source": [
        ".. footbibliography::"
      ]
    }
  ],
  "metadata": {},
  "nbformat": 4,
  "nbformat_minor": 5
}
