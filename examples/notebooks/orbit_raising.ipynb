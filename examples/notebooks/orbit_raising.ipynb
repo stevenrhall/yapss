{
  "cells": [
    {
      "cell_type": "markdown",
      "id": "7b18beaf-a5e7-4ee0-a8e5-2a13ad81c9ad",
      "metadata": {
        "editable": true,
        "slideshow": {
          "slide_type": ""
        },
        "tags": []
      },
      "source": [
        "# Orbit Raising Problem\n",
        "\n",
        "For a solution to the orbit raising problem using a Python script instead of a notebook, see the corresponding [Python script documentation](../scripts/orbit_raising.rst).\n",
        "\n",
        "One of the interesting things about this problem is that the dynamics are time-varying\n",
        "because the dynamics of the four states depends on the mass of the vehicle, which\n",
        "decreases linearly with time. One of the consequences of this is that the Hamiltonian is\n",
        "not constant along the trajectory, as can be seen in the [plot of the Hamiltonian](#hamiltonian)."
      ]
    },
    {
      "cell_type": "markdown",
      "id": "6e532037-246a-4333-a16b-a33e4f7e5ee0",
      "metadata": {
        "editable": true,
        "slideshow": {
          "slide_type": ""
        },
        "tags": []
      },
      "source": [
        "## Description\n",
        "\n",
        "This problem is described by Bryson and Ho <cite data-footcite=\"Bryson:1975\" />. For a space vehicle  with a constant-thrust rocket engine, with thrust $T$ operating continuously from time $t=0$ until time $t=t_f$, find the thrust-direction history, $\\phi(t)$, to transfer a spacecraft from a given initial circular orbit to the largest possible circular orbit. A numerical solution to this problem was first found by Moyer and Pinkham <cite data-footcite=\"Moyer:1964\"/>, who considered the problem of an orbital transfer from Earth's orbit to Mars' orbit.\n",
        "\n",
        "The states of the system are\n",
        "$$\n",
        "\\begin{aligned}\n",
        "   r &= \\text{radial distance of spacecraft from attracting center} \\\\\n",
        "   \\theta &= \\text{polar angle of spacecraft} \\\\\n",
        "   v_r &= \\text{radial component of velocity} \\\\\n",
        "   v_t &= \\text{tangential component of velocity}\n",
        "\\end{aligned}\n",
        "$$\n",
        "In Bryson and Ho's formulation, the control input is the thrust direction angle $\\phi$, where the angle is measured from the tangential direction. We instead describe the thrust direction in terms of its radial and tangential components, $u_r$ and $u_t$, where\n",
        "$$\n",
        "    u_r^2 + u_t^2 = 1\n",
        "$$\n",
        "Then the thrust direction angle is\n",
        "$$\n",
        "    \\phi = \\arctan \\frac{u_r}{u_t}\n",
        "$$\n",
        "With these definitions, the equations of motion are\n",
        "$$\n",
        "\\begin{aligned}\n",
        "   \\dot{r} &= v_r \\\\\n",
        "   \\dot{\\theta} &= \\frac{v_t}{r} \\\\\n",
        "   \\dot{v_r} &= \\frac{v_t^{2}}{r}-\\frac{\\mu}{r^{2}}+\\frac{T}{m_{0}-|\\dot{m}|t} u_r \\\\\n",
        "   \\dot{v_t} &= -\\frac{v_r v_t}{r}+\\frac{T}{m_{0}-|\\dot{m}|t} u_t\n",
        "\\end{aligned}\n",
        "$$\n",
        "where $\\mu$ is the standard gravitational constant of the attracting center (the Sun), $m$ is the mass of spacecraft, $m_0$ is the initial mass of the spacecraft, and $\\dot{m}$ is the fuel consumption rate (constant). Bryson and Ho give values of\n",
        "$$\n",
        "\\begin{aligned}\n",
        "   m_0 &= 10{,}000 \\text{ lbm} \\\\\n",
        "   \\dot{m}_0 &= 12.9 \\text{ lbm/day}\n",
        "\\end{aligned}\n",
        "$$\n",
        "for a trajectory that takes\n",
        "$$\n",
        "    t_f = 193 \\text{ days}\n",
        "$$\n",
        "\n",
        "The initial condition is that the spacecraft is in a circular orbit (at Earth's radius), and therefore\n",
        "$$\n",
        "\\begin{aligned}\n",
        "   r(0) &= r_{0} \\\\\n",
        "   \\qquad \\qquad \\qquad \\qquad \\qquad \\qquad \\theta(0) &= 0\\qquad \\text{(the initial angle is arbitrary)} \\\\\n",
        "   v_r(0) &= 0 \\\\\n",
        "   v_t(0) &= \\sqrt{\\frac{\\mu}{r_{0}}} \\\\\n",
        "\\end{aligned}\n",
        "$$\n",
        "\n",
        "The control objective is to maximize the final radius, $r(t_f)$, with the spacecraft in a circular orbit.\n",
        "This leads to two terminal conditions,\n",
        "$$\n",
        "\\begin{aligned}\n",
        "    v_r(t_f) &= 0 \\\\\n",
        "    v_t(t_f) &=\\sqrt{\\frac{\\mu}{r\\left(t_{f}\\right)}}\n",
        "\\end{aligned}\n",
        "$$\n",
        "\n",
        "It's useful to nondimensional the equations of motion to improve the conditioning of the optimal control problem. This could be done instead by using the scaling capability of Ipopt through the YAPSS interface, except that Ipopt does not properly scale problems when the scales are very large.\n",
        "\n",
        "The mass and length scales are $m_s = m_0$ and $\\ell_s = r_0$, and the time scale is given by\n",
        "$$\n",
        "    t_s =  \\sqrt{\\frac{r_{0}^{3}}{\\mu}}\n",
        "$$\n",
        "Then the nondimensional constants are given by\n",
        "$$\n",
        "\\begin{aligned}\n",
        "    \\overline{m}_0 &= \\frac{m_0}{m_s} = 1 \\\\\n",
        "    \\overline{r}_0 &= \\frac{r_0}{\\ell_s} = 1 \\\\\n",
        "    \\overline{\\mu} &= \\frac{\\mu}{\\ell_{s}^{3} / t_{s}^{2}} = 1 \\\\\n",
        "    \\overline{T} &= \\frac{T}{m_s \\ell_s / t_{s}^{2}} = 0.1405 \\\\\n",
        "    \\overline{\\dot{m}} &= \\frac{\\dot{m}}{m_s / t_s} = 0.0749 \\\\\n",
        "    \\overline{t}_f &= \\frac{t_f}{t_s} = 3.32\n",
        "\\end{aligned}\n",
        "$$"
      ]
    },
    {
      "cell_type": "markdown",
      "id": "86e7af64-e197-4ab1-b663-c32cc3f29fe7",
      "metadata": {},
      "source": [
        "## YAPSS Solution"
      ]
    },
    {
      "cell_type": "markdown",
      "id": "4b19e23d-b2c3-4438-ab41-8a078628c3c5",
      "metadata": {},
      "source": [
        "Import the required packages, and instantiate the problem. There are four states and two controls, as described above. In addition, there's a path constraint on the control vector, to ensure that it has unit length There is one discrete constraint, that the final radial velocity is zero."
      ]
    },
    {
      "cell_type": "code",
      "execution_count": null,
      "id": "904bf1ca-d67f-4ba1-bdfd-5ee84aacba01",
      "metadata": {
        "editable": true,
        "slideshow": {
          "slide_type": ""
        },
        "tags": []
      },
      "outputs": [],
      "source": [
        "# third party imports\n",
        "import matplotlib.pyplot as plt\n",
        "import numpy as np\n",
        "from numpy import pi\n",
        "\n",
        "# package imports\n",
        "from yapss import Problem, Solution\n",
        "from yapss.math import sqrt\n",
        "\n",
        "problem = Problem(\n",
        "    name=\"Orbit Raising Problem\",\n",
        "    nx=[4],\n",
        "    nu=[2],\n",
        "    nh=[1],\n",
        "    nd=1,\n",
        ")"
      ]
    },
    {
      "cell_type": "markdown",
      "id": "6b984a5e-a0d0-414e-b7ae-7915407755a5",
      "metadata": {},
      "source": [
        "Define the nondimensional constants, including those for the initial and final conditions:"
      ]
    },
    {
      "cell_type": "code",
      "execution_count": null,
      "id": "9dd35a27-8a3f-4d5a-a6c6-3b148e167431",
      "metadata": {
        "editable": true,
        "slideshow": {
          "slide_type": ""
        },
        "tags": []
      },
      "outputs": [],
      "source": [
        "# nondimensional physical constants\n",
        "m0 = 1\n",
        "mu = 1\n",
        "r0 = 1\n",
        "T = 0.1405\n",
        "mdot = 0.0749\n",
        "tf = 3.32\n",
        "\n",
        "# initial conditions\n",
        "t0 = 0\n",
        "theta_0 = 0\n",
        "vr_0 = 0\n",
        "\n",
        "# terminal conditions\n",
        "vr_f = 0\n",
        "vt_0 = sqrt(mu / r0)"
      ]
    },
    {
      "cell_type": "markdown",
      "id": "4420a0c5-ff3c-4f0e-aaec-61990c141270",
      "metadata": {},
      "source": [
        "Define the callback functions. The objective function is to maximize the final orbital radius."
      ]
    },
    {
      "cell_type": "code",
      "execution_count": null,
      "id": "47d22633-a529-477e-aa32-ad745b4deb29",
      "metadata": {
        "editable": true,
        "slideshow": {
          "slide_type": ""
        },
        "tags": []
      },
      "outputs": [],
      "source": [
        "def objective(arg):\n",
        "    \"\"\"Calculate objective function.\"\"\"\n",
        "    arg.objective = -arg.phase[0].final_state[0]\n",
        "\n",
        "\n",
        "def continuous(arg):\n",
        "    \"\"\"Calculate continuous dynamics and path constraint.\"\"\"\n",
        "    t = arg.phase[0].time\n",
        "    r, _, vr, vt = arg.phase[0].state\n",
        "    u1, u2 = arg.phase[0].control\n",
        "    f = T / (m0 - mdot * t)\n",
        "\n",
        "    arg.phase[0].dynamics = (\n",
        "        vr,\n",
        "        vt / r,\n",
        "        (vt**2) / r - mu / (r**2) + f * u1,\n",
        "        -(vr * vt) / r + f * u2,\n",
        "    )\n",
        "    arg.phase[0].path = (u1**2 + u2**2,)\n",
        "\n",
        "\n",
        "def discrete(arg):\n",
        "    \"\"\"Calculate discrete constraint functions.\"\"\"\n",
        "    r = arg.phase[0].final_state[0]\n",
        "    vtheta = arg.phase[0].final_state[3]\n",
        "    arg.discrete[0] = vtheta - sqrt(mu / r)\n",
        "\n",
        "\n",
        "problem.functions.objective = objective\n",
        "problem.functions.continuous = continuous\n",
        "problem.functions.discrete = discrete"
      ]
    },
    {
      "cell_type": "markdown",
      "id": "ba3ed597-0c21-484a-8142-7586390a312b",
      "metadata": {
        "editable": true,
        "slideshow": {
          "slide_type": ""
        },
        "tags": []
      },
      "source": [
        "Next we set the bounds for the problem. Note that we implement the path bound on the control vector as\n",
        "$$\n",
        "    u_r^2 + u_t^2 \\le 1\n",
        "$$\n",
        "rather than\n",
        "$$\n",
        "    u_r^2 + u_t^2 = 1\n",
        "$$"
      ]
    },
    {
      "cell_type": "code",
      "execution_count": null,
      "id": "fac256f1-ff6c-4ce0-9e8c-4d60ef37ade7",
      "metadata": {
        "editable": true,
        "slideshow": {
          "slide_type": ""
        },
        "tags": []
      },
      "outputs": [],
      "source": [
        "# box bounds on variables\n",
        "r_min, r_max = r0, 10 * r0\n",
        "theta_min, theta_max = -pi, pi\n",
        "vr_min, vr_max = -10 * vt_0, 10 * vt_0\n",
        "v_theta_min, v_theta_max = -10 * vt_0, 10 * vt_0\n",
        "u1_min, u1_max = u2_min, u2_max = -1.1, 1.1\n",
        "\n",
        "# set the bounds\n",
        "bounds = problem.bounds.phase[0]\n",
        "\n",
        "# initial condition\n",
        "bounds.initial_state.lower[:] = r0, theta_0, vr_0, vt_0\n",
        "bounds.initial_state.upper[:] = r0, theta_0, vr_0, vt_0\n",
        "\n",
        "# final conditions\n",
        "bounds.final_state.lower[:] = r_min, theta_min, vr_f, v_theta_min\n",
        "bounds.final_state.upper[2] = vr_f\n",
        "problem.bounds.discrete.lower[:] = problem.bounds.discrete.upper[:] = (0,)\n",
        "\n",
        "# initial and final time\n",
        "bounds.initial_time.lower = bounds.initial_time.upper = t0\n",
        "bounds.final_time.lower = bounds.final_time.upper = tf\n",
        "\n",
        "# control bound\n",
        "bounds.path.upper[:] = 1"
      ]
    },
    {
      "cell_type": "markdown",
      "id": "ae17f1aa-47c6-4ee5-961a-c5353326b53d",
      "metadata": {},
      "source": [
        "We next provide a rough guess of the state and control trajectories:"
      ]
    },
    {
      "cell_type": "code",
      "execution_count": null,
      "id": "18a048e7-c7c7-4196-b0ae-7863cae0ec0c",
      "metadata": {
        "editable": true,
        "slideshow": {
          "slide_type": ""
        },
        "tags": []
      },
      "outputs": [],
      "source": [
        "# guess\n",
        "problem.guess.phase[0].time = [t0, tf]\n",
        "problem.guess.phase[0].state = [\n",
        "    [r0, 1.5 * r0],\n",
        "    [theta_0, pi],\n",
        "    [vr_0, vr_f],\n",
        "    [vt_0, 0.5 * vt_0],\n",
        "]\n",
        "problem.guess.phase[0].control = [[0, 1], [1, 0]]"
      ]
    },
    {
      "cell_type": "markdown",
      "id": "9af2000b-c6ef-4572-8b10-745c4d0c5d0a",
      "metadata": {},
      "source": [
        "Finally, we set the solver and Ipopt options, and solve:"
      ]
    },
    {
      "cell_type": "code",
      "execution_count": null,
      "id": "40b8ecce-ca0b-470c-99d2-dd8842963627",
      "metadata": {
        "editable": true,
        "slideshow": {
          "slide_type": ""
        },
        "tags": []
      },
      "outputs": [],
      "source": [
        "# mesh\n",
        "m, n = 10, 40\n",
        "problem.mesh.phase[0].collocation_points = m * (n,)\n",
        "problem.mesh.phase[0].fraction = m * (1 / m,)\n",
        "\n",
        "# spectral method and derivatives\n",
        "problem.spectral_method = \"lgl\"\n",
        "problem.derivatives.method = \"auto\"\n",
        "problem.derivatives.order = \"second\"\n",
        "\n",
        "# Ipopt options\n",
        "problem.ipopt_options.tol = 1e-16\n",
        "problem.ipopt_options.print_level = 3\n",
        "problem.ipopt_options.print_user_options = \"no\"\n",
        "\n",
        "solution = problem.solve()"
      ]
    },
    {
      "cell_type": "markdown",
      "id": "2374e5ab-fc5c-42d7-a99e-c5628317ef28",
      "metadata": {
        "editable": true,
        "slideshow": {
          "slide_type": ""
        },
        "tags": []
      },
      "source": [
        "## Plots of Solution\n",
        "\n",
        "Next extract the solution for plotting:"
      ]
    },
    {
      "cell_type": "code",
      "execution_count": null,
      "id": "538918a1-cd15-4469-901a-b1a0f94bdcdc",
      "metadata": {
        "editable": true,
        "slideshow": {
          "slide_type": ""
        },
        "tags": []
      },
      "outputs": [],
      "source": [
        "# extract information from solution\n",
        "t = solution.phase[0].time\n",
        "tc = solution.phase[0].time_c\n",
        "r, theta, v_r, v_theta = solution.phase[0].state\n",
        "\n",
        "x, y = r * np.cos(theta), r * np.sin(theta)\n",
        "u1, u2 = control = solution.phase[0].control\n",
        "dynamics = solution.phase[0].dynamics"
      ]
    },
    {
      "cell_type": "markdown",
      "id": "f282e6d5-e13f-4e60-8578-b1fb92da5188",
      "metadata": {
        "editable": true,
        "raw_mimetype": "",
        "slideshow": {
          "slide_type": ""
        },
        "tags": []
      },
      "source": [
        "### Optimal Trajectory"
      ]
    },
    {
      "cell_type": "code",
      "execution_count": null,
      "id": "397aeeb1-4cb3-4c02-b2e6-106fc4fe0100",
      "metadata": {
        "editable": true,
        "slideshow": {
          "slide_type": ""
        },
        "tags": []
      },
      "outputs": [],
      "source": [
        "# convert thrust direction to inertial coordinates\n",
        "v1 = np.cos(theta) * u1 - np.sin(theta) * u2\n",
        "v2 = np.sin(theta) * u1 + np.cos(theta) * u2\n",
        "\n",
        "# plot the trajectory\n",
        "plt.plot(x, y)\n",
        "\n",
        "# plot the inner and outer circular orbits, as well as the attracting center\n",
        "alpha = np.linspace(0, 2 * np.pi, num=200)\n",
        "plt.plot(r[0] * np.cos(alpha), r[0] * np.sin(alpha), \"k--\")\n",
        "plt.plot(r[-1] * np.cos(alpha), r[-1] * np.sin(alpha), \"k--\")\n",
        "plt.plot(0.05 * np.cos(alpha), 0.05 * np.sin(alpha), \"k\")\n",
        "\n",
        "# plot the thrust direction at 11 locations\n",
        "for i in range(11):\n",
        "    j = round(i * (len(r) - 2) / 10)\n",
        "    plt.plot(x[j], y[j], \".k\")\n",
        "    plt.arrow(\n",
        "        x[j],\n",
        "        y[j],\n",
        "        0.25 * v1[j],\n",
        "        0.25 * v2[j],\n",
        "        length_includes_head=True,\n",
        "        head_width=0.04,\n",
        "        head_length=0.05,\n",
        "    )\n",
        "\n",
        "plt.axis(\"square\")\n",
        "plt.axis(\"equal\")\n",
        "plt.axis(\"off\")\n",
        "plt.tight_layout()"
      ]
    },
    {
      "cell_type": "markdown",
      "id": "bbf17a81-d0e4-4e02-a0aa-239224f5b8cb",
      "metadata": {
        "editable": true,
        "slideshow": {
          "slide_type": ""
        },
        "tags": []
      },
      "source": [
        "### State Histories"
      ]
    },
    {
      "cell_type": "code",
      "execution_count": null,
      "id": "56b284f9-1cca-4848-b597-6aa674f7d0a6",
      "metadata": {
        "editable": true,
        "slideshow": {
          "slide_type": ""
        },
        "tags": []
      },
      "outputs": [],
      "source": [
        "plt.plot(t, r, label=r\"radius, $r$\")\n",
        "plt.plot(t, theta, label=r\"polar angle, $\\theta$\")\n",
        "plt.plot(t, v_r, label=r\"radial velocity, $v_r$\")\n",
        "plt.plot(t, v_theta, label=r\"tangential velocity, $v_\\theta$\")\n",
        "plt.ylabel(\"States\")\n",
        "plt.xlabel(\"Time, $t$\")\n",
        "plt.grid()\n",
        "plt.legend()\n",
        "plt.tight_layout()"
      ]
    },
    {
      "cell_type": "markdown",
      "id": "9341c208-2a76-40ca-bbfa-36019bd80809",
      "metadata": {
        "editable": true,
        "slideshow": {
          "slide_type": ""
        },
        "tags": []
      },
      "source": [
        "### Control Histories"
      ]
    },
    {
      "cell_type": "code",
      "execution_count": null,
      "id": "7560e8e2-f58c-4002-874a-ac1cf4c4357c",
      "metadata": {
        "editable": true,
        "slideshow": {
          "slide_type": ""
        },
        "tags": []
      },
      "outputs": [],
      "source": [
        "plt.plot(tc, control[0], label=r\"radial thrust, $u_1$\")\n",
        "plt.plot(tc, control[1], label=r\"tangential thrust, $u_2$\")\n",
        "plt.ylabel(\"Controls\")\n",
        "plt.xlabel(\"Time, $t$\")\n",
        "plt.grid()\n",
        "plt.legend()\n",
        "plt.tight_layout()"
      ]
    },
    {
      "cell_type": "markdown",
      "id": "af46344e-77e1-45c7-adfc-49a4e6109f07",
      "metadata": {
        "editable": true,
        "slideshow": {
          "slide_type": ""
        },
        "tags": []
      },
      "source": [
        "### Thrust Direction"
      ]
    },
    {
      "cell_type": "code",
      "execution_count": null,
      "id": "79f9c49e-9a79-433b-8eaa-4d29c8ee8b22",
      "metadata": {
        "editable": true,
        "slideshow": {
          "slide_type": ""
        },
        "tags": []
      },
      "outputs": [],
      "source": [
        "# Plot Thrust direction\n",
        "plt.figure(4)\n",
        "plt.plot(tc, 180 / pi * np.unwrap(np.arctan2(control[0], control[1])))\n",
        "plt.xlabel(\"Time, $t$\")\n",
        "plt.ylabel(r\"Thrust direction, $\\arctan\\left(u_r/u_t\\right)$ (deg)\")\n",
        "plt.grid()\n",
        "plt.tight_layout()"
      ]
    },
    {
      "cell_type": "markdown",
      "id": "9d8ab34f-5e83-4974-88ca-1ec7843ee083",
      "metadata": {
        "editable": true,
        "slideshow": {
          "slide_type": ""
        },
        "tags": []
      },
      "source": [
        "### Hamiltonian"
      ]
    },
    {
      "cell_type": "markdown",
      "id": "620b28de-c8ac-4c5d-966c-30b825b690f7",
      "metadata": {},
      "source": [
        "Note that for this problem, the dynamics are not time-invariant, because the mass of the vehicle decreases with time. Therefore, the Hamiltonian is not constant."
      ]
    },
    {
      "cell_type": "code",
      "execution_count": null,
      "id": "c0cbe0ba-3b44-40e2-a92e-b6354460a39d",
      "metadata": {
        "editable": true,
        "slideshow": {
          "slide_type": ""
        },
        "tags": []
      },
      "outputs": [],
      "source": [
        "hamiltonian = solution.phase[0].hamiltonian\n",
        "plt.plot(tc, hamiltonian / vt_0)\n",
        "plt.ylabel(r\"Hamiltonian, $\\mathcal{H}$\")\n",
        "plt.xlabel(\"Time, $t$\")\n",
        "plt.grid()\n",
        "plt.tight_layout()"
      ]
    },
    {
      "cell_type": "markdown",
      "id": "e738dd39-09f2-4352-bd7c-30e186333cbc",
      "metadata": {
        "editable": true,
        "slideshow": {
          "slide_type": ""
        },
        "tags": []
      },
      "source": [
        "## References"
      ]
    },
    {
      "cell_type": "raw",
      "id": "ebea38ef-762c-438b-8b35-3e78d6e0cf25",
      "metadata": {
        "editable": true,
        "raw_mimetype": "text/restructuredtext",
        "slideshow": {
          "slide_type": ""
        },
        "tags": []
      },
      "source": [
        ".. footbibliography::"
      ]
    }
  ],
  "metadata": {},
  "nbformat": 4,
  "nbformat_minor": 5
}
