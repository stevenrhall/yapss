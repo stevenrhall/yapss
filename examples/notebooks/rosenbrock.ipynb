{
  "cells": [
    {
      "cell_type": "markdown",
      "id": "9558be49",
      "metadata": {
        "editable": true,
        "slideshow": {
          "slide_type": ""
        },
        "tags": []
      },
      "source": [
        "# Rosenbrock Function\n",
        "\n",
        "For a solution to the Rosenbrock function minimization problem using a Python script instead of a notebook, see the [Python script documentation](../scripts/rosenbrock.rst).\n",
        "\n",
        "## Description\n",
        "\n",
        "YAPSS is primarily an optimal control problem solver, but can solve parameter optimization problems as well — a parameter optimization problem is just an optimal control problem with no dynamics!\n",
        "\n",
        "The cost function to be minimized is the Rosenbrock function <cite data-footcite=\"Rosenbrock:1960\">(Rosenbrock, 1960)</cite>,\n",
        "$$\n",
        "J = f(x) = 100 (x_1 - x_0 ^ 2) ^ 2 + (1 - x_0) ^ 2\n",
        "$$\n",
        "is a function often used to test optimization algorithms. Because the function is the sum of two squares, it's straightforward to verify that the Rosenbrock function has its global minimum at $x = (1,1)$, since\n",
        "$$\n",
        "\\begin{aligned}\n",
        "    f(x) & = 0,\\quad x = (1,1) \\\\\n",
        "    f(x) & > 0,\\quad x \\ne (1,1)\n",
        "\\end{aligned}\n",
        "$$\n",
        "The global minimum lies in a narrow parabolic-shaped valley, making the minimum difficult to find.\n",
        "\n",
        "We can make a contour plot of the function using Matplotlib:"
      ]
    },
    {
      "cell_type": "code",
      "execution_count": null,
      "id": "71c4f539",
      "metadata": {
        "editable": true,
        "slideshow": {
          "slide_type": ""
        },
        "tags": []
      },
      "outputs": [],
      "source": [
        "import numpy as np\n",
        "from matplotlib import pyplot as plt\n",
        "\n",
        "x0 = np.linspace(-2, 2, 400)\n",
        "x1 = np.linspace(-1, 3, 400)\n",
        "x0_grid, x1_grid = np.meshgrid(x0, x1)\n",
        "f = 100 * (x1_grid - x0_grid**2) ** 2 + (1 - x0_grid) ** 2\n",
        "levels = [1, 3, 10, 30, 100, 300, 1000, 3000]\n",
        "cp = plt.contour(x0, x1, f, levels, colors=\"black\", linewidths=0.5)\n",
        "plt.clabel(cp, inline=1, fontsize=8)\n",
        "plt.plot(1, 1, \".r\", markersize=5)\n",
        "plt.xlabel(r\"$x_0$\")\n",
        "plt.ylabel(r\"$x_1$\")\n",
        "plt.xticks(range(-2, 3))\n",
        "plt.yticks(range(-1, 4))\n",
        "plt.tight_layout()"
      ]
    },
    {
      "cell_type": "markdown",
      "id": "d45e90dd",
      "metadata": {
        "editable": true,
        "slideshow": {
          "slide_type": ""
        },
        "tags": []
      },
      "source": [
        "The minimum is marked by the red dot in the figure above.\n",
        "\n",
        "## YAPSS Solution\n",
        "\n",
        "To find the minimum, first instantiate the problem with no phase and two parameters:"
      ]
    },
    {
      "cell_type": "code",
      "execution_count": null,
      "id": "db4dbe37",
      "metadata": {
        "editable": true,
        "slideshow": {
          "slide_type": ""
        },
        "tags": []
      },
      "outputs": [],
      "source": [
        "from yapss import Problem\n",
        "\n",
        "problem = Problem(name=\"Rosenbrock\", nx=[], ns=2)"
      ]
    },
    {
      "cell_type": "markdown",
      "id": "0bc91392",
      "metadata": {
        "editable": true,
        "slideshow": {
          "slide_type": ""
        },
        "tags": []
      },
      "source": [
        "Define the objective function:"
      ]
    },
    {
      "cell_type": "code",
      "execution_count": null,
      "id": "30526236",
      "metadata": {
        "editable": true,
        "slideshow": {
          "slide_type": ""
        },
        "tags": []
      },
      "outputs": [],
      "source": [
        "def objective(arg):\n",
        "    x0, x1 = arg.parameter\n",
        "    arg.objective = 100 * (x1 - x0**2) ** 2 + (1 - x0) ** 2\n",
        "\n",
        "\n",
        "problem.functions.objective = objective"
      ]
    },
    {
      "cell_type": "markdown",
      "id": "7a887779",
      "metadata": {
        "editable": true,
        "slideshow": {
          "slide_type": ""
        },
        "tags": []
      },
      "source": [
        "Define the initial guess:"
      ]
    },
    {
      "cell_type": "code",
      "execution_count": null,
      "id": "c3d0035a",
      "metadata": {
        "editable": true,
        "slideshow": {
          "slide_type": ""
        },
        "tags": []
      },
      "outputs": [],
      "source": [
        "problem.guess.parameter = [-2.0, 2.0]"
      ]
    },
    {
      "cell_type": "markdown",
      "id": "502d2b0a",
      "metadata": {
        "editable": true,
        "slideshow": {
          "slide_type": ""
        },
        "tags": []
      },
      "source": [
        "For the optimization, use first and second derivatives of the objective function, found using automatic differentiation. Set the ``tol`` Ipopt option to 1e-10 (default is 1e-8)."
      ]
    },
    {
      "cell_type": "code",
      "execution_count": null,
      "id": "5a8f3caf-9201-438a-b59f-7e56cf5739d3",
      "metadata": {
        "editable": true,
        "slideshow": {
          "slide_type": ""
        },
        "tags": []
      },
      "outputs": [],
      "source": [
        "problem.derivatives.order = \"second\"\n",
        "problem.derivatives.method = \"auto\"\n",
        "problem.ipopt_options.tol = 1e-10"
      ]
    },
    {
      "cell_type": "markdown",
      "id": "395b5978-43bd-4b8a-b531-7930c1080093",
      "metadata": {
        "editable": true,
        "slideshow": {
          "slide_type": ""
        },
        "tags": []
      },
      "source": [
        "Set Ipopt options to control the amount of printout from Ipopt:"
      ]
    },
    {
      "cell_type": "code",
      "execution_count": null,
      "id": "9bafe877-7eec-4cd0-976f-117c0fc68518",
      "metadata": {
        "editable": true,
        "slideshow": {
          "slide_type": ""
        },
        "tags": []
      },
      "outputs": [],
      "source": [
        "# some output, but don't print iterations\n",
        "problem.ipopt_options.print_level = 3\n",
        "\n",
        "# suppress the Ipopt banner\n",
        "problem.ipopt_options.sb = \"yes\"\n",
        "\n",
        "# don't print out the Ipopt options\n",
        "problem.ipopt_options.print_user_options = \"no\""
      ]
    },
    {
      "cell_type": "markdown",
      "id": "cf03b7d7",
      "metadata": {
        "editable": true,
        "slideshow": {
          "slide_type": ""
        },
        "tags": []
      },
      "source": [
        "All that remains is to solve the problem:"
      ]
    },
    {
      "cell_type": "code",
      "execution_count": null,
      "id": "42e49efe",
      "metadata": {
        "editable": true,
        "slideshow": {
          "slide_type": ""
        },
        "tags": []
      },
      "outputs": [],
      "source": [
        "solution = problem.solve()"
      ]
    },
    {
      "cell_type": "markdown",
      "id": "34e87b02",
      "metadata": {
        "editable": true,
        "slideshow": {
          "slide_type": ""
        },
        "tags": []
      },
      "source": [
        "We can print out the solution with the code:"
      ]
    },
    {
      "cell_type": "code",
      "execution_count": null,
      "id": "e896af7b-5c62-4f2b-9a1f-41b6adebe774",
      "metadata": {},
      "outputs": [],
      "source": [
        "print(solution)"
      ]
    },
    {
      "cell_type": "code",
      "execution_count": null,
      "id": "6e58d182",
      "metadata": {
        "editable": true,
        "slideshow": {
          "slide_type": ""
        },
        "tags": []
      },
      "outputs": [],
      "source": [
        "x_opt = solution.parameter\n",
        "print(f\"The optimal solution is at the point x = {x_opt}\")"
      ]
    },
    {
      "cell_type": "markdown",
      "id": "78e8e446-1443-479f-a2ee-25c6606f4913",
      "metadata": {
        "editable": true,
        "slideshow": {
          "slide_type": ""
        },
        "tags": []
      },
      "source": [
        "## References"
      ]
    },
    {
      "cell_type": "raw",
      "id": "fdeccd77-e5b4-4c66-8635-edd8a4917189",
      "metadata": {
        "editable": true,
        "raw_mimetype": "text/restructuredtext",
        "slideshow": {
          "slide_type": ""
        },
        "tags": []
      },
      "source": [
        ".. footbibliography::"
      ]
    }
  ],
  "metadata": {},
  "nbformat": 4,
  "nbformat_minor": 5
}
