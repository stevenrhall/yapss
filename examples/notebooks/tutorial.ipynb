{
  "cells": [
    {
      "cell_type": "markdown",
      "id": "2b2aadeb-4acc-410f-8c27-0b8015f67b7b",
      "metadata": {
        "editable": true,
        "slideshow": {
          "slide_type": ""
        },
        "tags": []
      },
      "source": [
        "# Tutorial Example\n",
        "\n",
        "In this tutorial example, we walk through all the steps of solving an optimal control problem using YAPSS, in this case, the brachistochrone problem with a path constraint. The steps are:\n",
        "\n",
        "1. Installation and configuration\n",
        "1. Problem formulation and instantiation\n",
        "1. Definition of callback functions needed to define the performance objective function, systems dynamics,\n",
        "   path and endpoint constraints, etc.\n",
        "1. Specification of bounds on the decision variables (the states, control inputs, and parameters), as well\n",
        "   as bounds on only path variables and integrals over each phase of the problem.\n",
        "1. Setting of the options that govern the behavior of the YAPSS solver, and of the underlying NLP solver\n",
        "   Ipopt.\n",
        "1. Solving the problem and extracting the solution.\n",
        "\n",
        "This tutorial is written in a JupyterLab notebook. For a solution to the brachistochrone problem using a Python script instead of a notebook, see the brachistochrone problem [Python script documentation](../scripts/brachistochrone.rst)."
      ]
    },
    {
      "cell_type": "markdown",
      "id": "eb59d72e-2224-46db-9d31-d5862e45ee59",
      "metadata": {
        "editable": true,
        "slideshow": {
          "slide_type": ""
        },
        "tags": []
      },
      "source": [
        "## Installation and Configuration\n",
        "\n",
        "Installation is straightforward on machines with macOS, Linux, or Windows operating systems. In a terminal window,\n",
        "```console\n",
        "$ pip install yapss\n",
        "```\n",
        "or\n",
        "```console\n",
        "$ conda install -c conda-forge yapss\n",
        "```\n",
        "Many of the examples provided (including this tutorial) are JupyterLab Notebooks. \n",
        "```console\n",
        "$ pip install jupyterlab jupyterlab-code-formatter jupyterlab-spellchecker black isort\n",
        "```\n",
        "or use the similar conda command. (Only jupyterlab is needed, but the other packages are helpful.) Then in the directory where the notebooks are, launch JupyterLab by entering\n",
        "```console\n",
        "$ jupyter lab\n",
        "```\n",
        "and open the desired notebook, or start a new one. To test your setup, execute the cell"
      ]
    },
    {
      "cell_type": "code",
      "execution_count": null,
      "id": "b17f08e2-f215-4bd4-b642-b8d3e8fee594",
      "metadata": {},
      "outputs": [],
      "source": [
        "try:\n",
        "    import yapss\n",
        "\n",
        "    print(\"YAPSS is installed correctly.\")\n",
        "except ImportError:\n",
        "    print(\"YAPSS is not installed.\")"
      ]
    },
    {
      "cell_type": "markdown",
      "id": "b0c80327-0b77-4867-a699-6d0dc51e0dd2",
      "metadata": {
        "editable": true,
        "slideshow": {
          "slide_type": ""
        },
        "tags": []
      },
      "source": [
        "This basic installation of YAPSS uses a version of Ipopt that (most likely) uses the linear solver MUMPS. Ipopt can be compiled with or linked to libraries with other linear solvers that can improve the performance of Ipopt, and YAPSS can be configured to take advantage of those libraries. However, the version of Ipopt in the basic installation of YAPSS is more than adequate for most purposes.\n",
        "\n",
        "To learn more about how to configure YAPSS and IPOPT, see the [Configuring the Ipopt Source](../reference/configuration.rst) page."
      ]
    },
    {
      "cell_type": "markdown",
      "id": "0cf8e64d-60ef-4cad-8463-21109bae0191",
      "metadata": {
        "editable": true,
        "slideshow": {
          "slide_type": ""
        },
        "tags": []
      },
      "source": [
        "## Problem Formulation and Instantiation\n",
        "\n",
        "The problem we will solve in this tutorial is a version of the *brachistochrone* problem. The brachistochrone problem is a classic problem in the calculus of variations, posed by Johann Bernoulli in June 1696 <cite data-footcite=\"Bernoulli:1696\"> </cite> in a challenge to the mathematicians of his time. The problem can be stated as follows: Given two points A and B in a vertical plane, what is the path that a particle, starting from rest and accelerated by a uniform gravitational force, will take to descend from A to B in the least time? Physically, we can imagine a heavy bead sliding along a wire without friction, under the action of gravity. The optimal path can be shown to have the shape of an inverted cycloid.\n",
        "\n",
        "In this tutorial, we consider an (only slightly) more complicated version of this problem \n",
        "(see Bryson *et al.* <cite data-footcite=\"Bryson:1963\">(Bryson, 1963)</cite>), in which the bead starts at a specific location $(x(0),y(0))=(0,0)$ in the vertical plane at time $t_0=0$, and slides to a final position $(x(t_f),y(t_f))$ at final time $t_f$. Here $x$ is the horizontal axis, and $y$ is the vertical axis, with positive $y$ down. The goal of the problem is to minimize the cost objective\n",
        "$$\n",
        "J = t_F\n",
        "$$\n",
        "subject to the constraints that that the final horizontal position of the bead satisfy\n",
        "$$\n",
        "x(t_f) = x_f\n",
        "$$\n",
        "for a given $x_f$, and that the path lies above an inclined line (a wall), so that\n",
        "$$\n",
        "    h(t) = y(t) - \\left( c_1 x(t) + c_0 \\right),\\qquad 0 \\le t \\le t_f\n",
        "$$\n",
        "That is, the path must always lie above a line with (downward) slope $c_1$ and $y$ intercept $c_0$ below the origin. For this problem, we'll take $x_f = 1$ ft (about right for a tabletop brachistochrone), $c_1=\\frac{1}{2}$ (a $30^\\circ$ slope) and $c_0=0.1$ ft.\n",
        "\n",
        "We take the control input at time $t$ to be $\\gamma(t)$, the angle of the velocity vector below the horizontal. Bryson *et al.* give the dynamics as\n",
        "$$\n",
        "\\begin{aligned}\n",
        "    & \\dot{x}(t) = (2 g y)^{1 / 2} \\cos \\gamma(t) \\\\\n",
        "    & \\dot{y}(t) = (2 g y)^{1 / 2} \\sin \\gamma(t)\n",
        "\\end{aligned}\n",
        "$$\n",
        "In this formulation, the velocity is implicitly a function of the vertical position,\n",
        "$$\n",
        "    v = (2 g y)^{1 / 2}\n",
        "$$\n",
        "which follows from conservation of energy. It turns out that it's better to keep velocity as an explicit state, so the equations of motion become\n",
        "$$\n",
        "\\begin{align}\n",
        "  \\dot x(t) &= v(t) \\cos \\gamma(t)  \\\\\n",
        "  \\dot y(t) &= v(t) \\sin \\gamma(t)  \\\\\n",
        "  \\dot v(t) &= g \\sin \\gamma(t)\n",
        "\\end{align}\n",
        "$$\n",
        "(The problem with the first formulation is that when we take the derivatives of the state dynamics with respect to $y$, the result is proportional to $\\frac{1}{\\sqrt{y}}$, so that there is a singularity at the initial time.)\n",
        "\n",
        "\n",
        "\n",
        "We're now ready to instantiate the problem. The problem has one phase, and for that phase, there are three states, $\\boldsymbol{x}=(x, y, v)$, one control, $\\boldsymbol{u}=\\gamma$, and one path constraint function, $h$. So we instantiate the problem as follows:"
      ]
    },
    {
      "cell_type": "code",
      "execution_count": null,
      "id": "d5ce141d",
      "metadata": {
        "editable": true,
        "slideshow": {
          "slide_type": ""
        },
        "tags": []
      },
      "outputs": [],
      "source": [
        "import matplotlib.pyplot as plt\n",
        "import yapss\n",
        "from numpy import pi\n",
        "from yapss.math import cos, sin\n",
        "\n",
        "problem = yapss.Problem(name=\"Brachistochrone\", nx=[3], nu=[1], nh=[1])"
      ]
    },
    {
      "cell_type": "markdown",
      "id": "dceb16e5-a05d-407b-9465-76002e4cf819",
      "metadata": {},
      "source": [
        "## Defining the Callback Functions\n",
        "\n",
        "The next step is to define callback functions that define the state dynamics, path constraints, and objective function."
      ]
    },
    {
      "cell_type": "markdown",
      "id": "147f0d46-c5ed-4207-a091-179844067508",
      "metadata": {},
      "source": [
        "### The Objective Callback Function\n",
        "\n",
        "We start with the objective function. The objective function can depend on a number of discrete quantities: the initial and final times of each phase, the initial and final states of each phase, the values of any integrals evaluated over each phase, and any parameters in the optimization problem. Our objective is to minimize the final time of the first (and only!) phase. So the objective function is simply:"
      ]
    },
    {
      "cell_type": "code",
      "execution_count": null,
      "id": "af529249-e5fb-4508-b1e8-a31734e10d81",
      "metadata": {
        "editable": true,
        "slideshow": {
          "slide_type": ""
        },
        "tags": []
      },
      "outputs": [],
      "source": [
        "def objective(arg):\n",
        "    arg.objective = arg.phase[0].final_time\n",
        "\n",
        "\n",
        "problem.functions.objective = objective"
      ]
    },
    {
      "cell_type": "markdown",
      "id": "3fe2b264-d294-4575-9803-49fbdedb07c0",
      "metadata": {},
      "source": [
        "### The Continuous Callback Function\n",
        "\n",
        "The continuous callback function defines the dynamics, path constraint functions, and integrands for any integrals, again for each phase. For our problem, we need to define the state dynamics and path function:"
      ]
    },
    {
      "cell_type": "code",
      "execution_count": null,
      "id": "b18dae09-5c76-4f3c-8345-11d567671c9a",
      "metadata": {
        "editable": true,
        "slideshow": {
          "slide_type": ""
        },
        "tags": []
      },
      "outputs": [],
      "source": [
        "# define the gravitational constant (here using U.S customary units)\n",
        "g0 = 32.174\n",
        "\n",
        "# set the constants defining the barrier\n",
        "problem.auxdata.c1 = c1 = 0.5\n",
        "problem.auxdata.c0 = c0 = 0.1\n",
        "\n",
        "\n",
        "def continuous(arg):\n",
        "    # extract the elements of the state vector\n",
        "    x, y, v = arg.phase[0].state\n",
        "\n",
        "    # extract elements of the control vector. note that even though there's\n",
        "    # only one control, we must still treat arg.phase[0].control as an array\n",
        "    (u,) = arg.phase[0].control\n",
        "\n",
        "    # extract the constants\n",
        "    c1 = arg.auxdata.c1\n",
        "    c0 = arg.auxdata.c0\n",
        "\n",
        "    # define the state dynamics\n",
        "    arg.phase[0].dynamics = [v * cos(u), v * sin(u), g0 * sin(u)]\n",
        "\n",
        "    # define the path constraint function\n",
        "    arg.phase[0].path = [y - c1 * x - c0]\n",
        "\n",
        "\n",
        "problem.functions.continuous = continuous"
      ]
    },
    {
      "cell_type": "markdown",
      "id": "b52cf9cb-9207-48c4-b35d-2081ad9c813b",
      "metadata": {},
      "source": [
        "Two subtleties should be highlighted here. First, the common math functions are provided by the ``yapss.numpy`` module which is a drop-in replacement for the numpy package. This is done to get the proper behavior when CasADi objects are used for automatic differentiation.\n",
        "\n",
        "Second, the use of the ``auxdata`` attribute requires some explanation. We could have defined ``c_0`` and  ``c_1`` as constants just as we did ``g0``. However, by using the auxdata mechanism, we can easily change the problem, even if the problem has been defined in another module. For example, we could do this in a python console:\n",
        "```python\n",
        ">>> from yapss.examples.brachistochrone import setup\n",
        ">>> \n",
        ">>> problem2 = setup()\n",
        ">>> problem2.auxdata.c0 = 0.05\n",
        "```\n",
        "which would change the problem definition, without having to edit the original code."
      ]
    },
    {
      "cell_type": "markdown",
      "id": "18ea06f3-d5dd-4fe9-b750-9fd5fcfb7ff2",
      "metadata": {},
      "source": [
        "You can learn more on the [Callback Functions](../reference/callbacks.rst) page."
      ]
    },
    {
      "cell_type": "markdown",
      "id": "edf81d09-91cf-4281-9024-97d78a523cd2",
      "metadata": {},
      "source": [
        "## Setting Bounds\n",
        "\n",
        "Setting the bounds is straightforward for this problem. See the comments in the code snippet below for specifics."
      ]
    },
    {
      "cell_type": "code",
      "execution_count": null,
      "id": "a2a6e622-3179-444f-8547-2c2432ec32fa",
      "metadata": {
        "editable": true,
        "slideshow": {
          "slide_type": ""
        },
        "tags": []
      },
      "outputs": [],
      "source": [
        "# get the bounds object for the phase, to make code below this briefer\n",
        "bounds = problem.bounds.phase[0]\n",
        "\n",
        "# Bounds for time and initial state\n",
        "bounds.initial_time.lower = bounds.initial_time.upper = 0\n",
        "bounds.initial_state.lower = bounds.initial_state.upper = [0, 0, 0]\n",
        "\n",
        "# Bounds for final state in x-axis\n",
        "bounds.final_state.lower[0] = bounds.final_state.upper[0] = 1\n",
        "\n",
        "# Path constraints (should be less that or equal to 0)\n",
        "bounds.path.upper = [0]"
      ]
    },
    {
      "cell_type": "markdown",
      "id": "ed7ffd80-de95-41b6-9f91-5291029ea8a7",
      "metadata": {},
      "source": [
        "There were no constraints on the control $u(t) = \\gamma(t)$. However, because $\\gamma$ is an angle, its value is unique only up to mod $2\\pi$. To get a unique solution, we constrain it to lie in the interval  $[-\\pi/2,\\pi/2]$, that is, the bead always moves in the positive $x$ direction."
      ]
    },
    {
      "cell_type": "code",
      "execution_count": null,
      "id": "70d4f2ef-d3d7-4e27-8b8b-f9f6e5e747a7",
      "metadata": {
        "editable": true,
        "slideshow": {
          "slide_type": ""
        },
        "tags": []
      },
      "outputs": [],
      "source": [
        "bounds.control.lower = [-pi / 2]\n",
        "bounds.control.upper = [+pi / 2]"
      ]
    },
    {
      "cell_type": "markdown",
      "id": "7f928c14-ff26-4795-bc15-ef6d84b44991",
      "metadata": {},
      "source": [
        "You can learn more on the [Setting Bounds](../reference/bounds.rst) page."
      ]
    },
    {
      "cell_type": "markdown",
      "id": "6b795546-61bf-4ab6-aa60-44f5c6ea56cd",
      "metadata": {},
      "source": [
        "## Setting the Initial Guess"
      ]
    },
    {
      "cell_type": "markdown",
      "id": "3b2f4dc8-28b2-495f-91bd-9feb0c5eddb6",
      "metadata": {},
      "source": [
        "Ipopt solves nonlinear programming (NLP) problems using a primal-dual interior point method. The method finds a solution to minimization problems by beginning with an initial guess for the decision variables, and iteratively approximates the NLP problem with a series of quadratic programming subproblems, which is solves to determine a search direction. By necessity, the algorithm requires an initial guess for the solution, and therefore one must be provided to YAPSS.\n",
        "\n",
        "The initial guess provided by the user is interpolated to obtain a guess for all the discretization points, and therefore all the decision variables. For complicated problems, a good initial guess can be crucial for finding the solution. For simple problems, often a very simple guess will suffice. For this problem, we guess that the initial time and state correspond to the boundary conditions on the initial time (all of these variables are zero). We guess that the final time is $t_f = 1$, the final state is $\\boldsymbol{x}_f = (1,1,1)$, and that the control is zero for all times. That's not a very good guess as it turns out, but it's enough to get a solution."
      ]
    },
    {
      "cell_type": "code",
      "execution_count": null,
      "id": "6f4cdd6b",
      "metadata": {
        "editable": true,
        "slideshow": {
          "slide_type": ""
        },
        "tags": []
      },
      "outputs": [],
      "source": [
        "phase = problem.guess.phase[0]\n",
        "phase.time = [0.0, 1.0]\n",
        "phase.state = [[0.0, 1.0], [0.0, 1.0], [0.0, 1.0]]\n",
        "phase.control = [[0, 0.0]]"
      ]
    },
    {
      "cell_type": "markdown",
      "id": "75c33a1c-0543-46c8-983c-679e99c6e8ca",
      "metadata": {},
      "source": [
        "To understand more about how the user sets the initial guess, see the [Setting the Initial Guess](../reference/guess.rst) page."
      ]
    },
    {
      "cell_type": "markdown",
      "id": "dba94640-ba32-4288-97ca-10a9afa21e7b",
      "metadata": {
        "tags": []
      },
      "source": [
        "## Setting YAPSS and Ipopt Options\n",
        "\n",
        "### YAPSS Options\n",
        "\n",
        "There are three items that can be configured in the YAPSS solver to improve the solution, although all three have defaults that will usually yield good results.\n",
        "\n",
        "**Derivatives.** The ``derivatives.method`` option can take on one of three values:\n",
        "\n",
        "- **\"auto\"** (default), for automatic differentiation using the casadi package.\n",
        "- **\"central-difference\"**, for derivatives calculated using central difference techniques.\n",
        "- **\"user\"**, in which case the user must supply the first and perhaps second derivatives.\n",
        "\n",
        "Nearly all problems are best solved using \"auto\" or \"central-difference\", and when the automatic differentiation can be used, it is usually the best choice. So we'll use the default \"auto\".\n",
        "\n",
        "The ``derivatives.order`` option can take on one of two values, \"first\" or \"second\". When using automatic differentiation, it's almost always better to use \"second\". When using the central difference method, it can sometimes be advantageous to use only first order derivatives, because taking second derivatives is computationally expensive. So again we'll use the default value.\n",
        "\n",
        "**Choice of Spectral Method.** The original GPOPS-II algorithm <cite data-footcite=\"Patterson:2014\">(Patterson et al., 2014)</cite> uses Legendre-Gauss-Radau collocation points, but YAPSS implements three choices for the pseudospectral method used, set by the ``spectral_method`` option attribute:\n",
        "\n",
        "- **\"lg\"**: Lagrange polynomials based on Legendre-Gauss (LG) collocation points.\n",
        "- **\"lgr\"**: Lagrange polynomials based on Legendre-Gauss-Radau (LGR) collocation points.\n",
        "- **\"lgl\"** (default): Lagrange polynomials based on Legendre-Gauss-Lobatto (LGL) collocation points.\n",
        "\n",
        "As a practical matter, all have similar performance. The main drawback of LGR and LG collocation points is that one or both endpoints for each phase are not collocation points, meaning that there's no requirement that the dynamics equation be satisfied there. As a result, the values of the control input, costate, and Hamiltonian are not determined at one or both endpoints (although the state vector is). These values can be found by interpolation, but this may in values that violate the constraints on the control. For this reason, the \"lgl\" method is the default, and we'll use it for the example.\n",
        "\n",
        "**Mesh Geometry.** The computational mesh for each phase consists of a number of mesh segments (of possibly varying length), each with a number of collocation points where the values of the state and control are used to calculate the dynamics, path constraint functions, and integrands of integrals over the segment. The number of collocation points can vary by segment as well.\n",
        "\n",
        "The YAPSS default is to have 10 segments of equal length, each with 10 collocation points. For most problems, this default mesh will give very good results, yielding relative errors in the solution on the order of $10^{-8}$ or better. There are exceptions of course: (1) when there are discontinuities in the derivatives of the state (because the interpolation polynomials are best at representing smooth functions), and (2) when there are very fast timescale dynamics, often at the beginning or end of a phase. For the example problem here, the default values work pretty well, and so we won't change them.\n",
        "\n",
        "Had we wanted to specify these defaults values explicitly, here is the code that would be used:"
      ]
    },
    {
      "cell_type": "code",
      "execution_count": null,
      "id": "3c89d6be",
      "metadata": {
        "editable": true,
        "slideshow": {
          "slide_type": ""
        },
        "tags": []
      },
      "outputs": [],
      "source": [
        "# derivatives\n",
        "problem.derivatives.method = \"auto\"\n",
        "problem.derivatives.order = \"second\"\n",
        "\n",
        "# choice of basis\n",
        "problem.spectral_method = \"lgl\"\n",
        "\n",
        "# mesh geometry\n",
        "segments, points = 10, 10\n",
        "problem.mesh.phase[0].collocation_points = segments * [points]\n",
        "problem.mesh.phase[0].fraction = segments * [1 / segments]"
      ]
    },
    {
      "cell_type": "markdown",
      "id": "ad5134eb-5c7f-4b4b-8403-2c36f36812d8",
      "metadata": {},
      "source": [
        "The number of collocation points in each segment ``k`` is determined by the ``mesh.phase[k].collocation_points`` attribute, and the duration of each segment (as a fraction of the duration of the phase) is determined by the ``mesh.phase[k].fraction`` attribute."
      ]
    },
    {
      "cell_type": "markdown",
      "id": "66cb1286-87b8-47db-a8a1-f76184d0b02d",
      "metadata": {},
      "source": [
        "### Ipopt Options\n",
        "\n",
        "There are *lots* of Ipopt options, and most users will end up changing very few. YAPSS uses the default [IPOPT options](https://coin-or.github.io/Ipopt/OPTIONS.html) for the most part, mostly because we don't want users who are familiar with Ipopt to be surprised by our choices. There are two exceptions:\n",
        "\n",
        "1. In some cases, the proper functioning of Ipopt depends on specific Ipopt settings. A good example is the ``hessian_approximation``, which must be \"exact\" when second derivatives are used, and \"limited-memory\" when only first derivatives are used. In addition the mseipopt package that YAPSS uses in some cases sets ``warm_start_init_point`` to \"no\" because YAPSS does not (yet) provide a warm-start interface.\n",
        "\n",
        "2. While we try not to be opinionated about Ipopt options, we do set the YAPSS default ``mu_strategy`` to \"adaptive\" rather than the  Ipopt default \"monotone\". The YAPSS test suite takes about 30% longer to run using the Ipopt default, and we find that the Ipopt solver sometimes fails to converge for difficult problems using the Ipopt default.\n",
        "\n",
        "For this problem, we'll use the following settings:"
      ]
    },
    {
      "cell_type": "code",
      "execution_count": null,
      "id": "3e2edfad",
      "metadata": {
        "editable": true,
        "slideshow": {
          "slide_type": ""
        },
        "tags": []
      },
      "outputs": [],
      "source": [
        "# This is the YAPSS (but not Ipopt) default\n",
        "problem.ipopt_options.mu_strategy = \"adaptive\"\n",
        "\n",
        "# Ipopt default print_level is 5, which produces lots of output.\n",
        "# 3 is the minimum level to get informative output\n",
        "problem.ipopt_options.print_level = 3\n",
        "\n",
        "# It's a good idea to show selected user options\n",
        "problem.ipopt_options.print_user_options = \"yes\"\n",
        "\n",
        "# Not necessary, but it can interesting to see how long it takes to solve\n",
        "problem.ipopt_options.timing_statistics = \"yes\"\n",
        "\n",
        "# Suppresses the Ipopt banner\n",
        "problem.ipopt_options.sb = \"yes\"\n",
        "\n",
        "# The default tolerance is 1e-8.\n",
        "problem.ipopt_options.tol = 1e-12"
      ]
    },
    {
      "cell_type": "markdown",
      "id": "e401c380-e7f6-4fcf-9b7e-526abdde175b",
      "metadata": {},
      "source": [
        "See the [Ipopt Options](../reference/ipopt_options.rst) page for more information about choosing Ipopt options."
      ]
    },
    {
      "cell_type": "markdown",
      "id": "ba30d3ca-999a-4707-8d93-ab254ac401a8",
      "metadata": {
        "editable": true,
        "slideshow": {
          "slide_type": ""
        },
        "tags": []
      },
      "source": [
        "## Solution\n",
        "\n",
        "Now that the problem is completely set up, all that remains is to find the solution."
      ]
    },
    {
      "cell_type": "code",
      "execution_count": null,
      "id": "e4b3137b-2e4d-4ff9-b62b-bd2a34db95bf",
      "metadata": {
        "editable": true,
        "slideshow": {
          "slide_type": ""
        },
        "tags": []
      },
      "outputs": [],
      "source": [
        "solution = problem.solve()"
      ]
    },
    {
      "cell_type": "markdown",
      "id": "58a6c95c-58ae-4876-8576-1a4e6ec23576",
      "metadata": {},
      "source": [
        "There's useful information about the size of the problem, number of function calls, etc., but the most important number is the \"Overall NLP error\". For our problem, it's really quite small (and smaller than the tolerance we asked for), so it looks like we have a good solution. Let's see how good!\n",
        "\n",
        "It turns out the optimal minimum time can be found exactly — it's\n",
        "$$\n",
        "t_f = \\left(\\frac{2}{g}\\left(\\tan^{-1}c_{1}+\\frac{1}{c_{1}}\\right)\\left(x_{f}+\\frac{c_{0}}{c_{1}}\\right)\\right)^{1/2}-\n",
        "       \\left(\\frac{2c_{0}}{gc_{1}}\\left(\\tan^{-1}c_{1}+\\frac{1}{c_{1}}-\\frac{\\pi}{2}\\right)\\right)^{1/2}\n",
        "$$\n",
        "Let's compare the YAPSS result with the exact solution:"
      ]
    },
    {
      "cell_type": "code",
      "execution_count": null,
      "id": "789823d1-979a-4a3a-8d16-36ff6f3c83d8",
      "metadata": {
        "tags": []
      },
      "outputs": [],
      "source": [
        "from numpy import arctan, sqrt\n",
        "\n",
        "xf = 1\n",
        "tf_yapss = solution.objective\n",
        "tf_exact = sqrt(2 / g0 * (arctan(c1) + 1 / c1) * (xf + c0 / c1))\n",
        "tf_exact -= sqrt(2 * c0 / (g0 * c1) * (arctan(c1) - pi / 2 + 1 / c1))\n",
        "\n",
        "print(f\"\\nExact solution is {tf_exact = :.9f}\")\n",
        "print(f\"YAPSS solution is {tf_yapss = :.9f}\")\n",
        "print(f\"Relative error is {tf_yapss / tf_exact - 1:.3e}\\n\")"
      ]
    },
    {
      "cell_type": "markdown",
      "id": "80b734b0-446c-4c9b-a636-1b233e21fd55",
      "metadata": {},
      "source": [
        "To plot the solution, we extract the arrays for the state vector, control vector, and time points for the phase. Because we use the LGL formulation, the number of points for each control variable and input variable is the same. However, if we were to use the LGR formulation, the number of time points for the control variables would be one less (the final time point is missing). Therefore, it’s good practice to extract both time arrays, ``solution.phase[p].time`` and ``solution.phase[p].time_c`` for each phase to avoid an error should you change the to the LG or LGR formulation."
      ]
    },
    {
      "cell_type": "code",
      "execution_count": null,
      "id": "bfa8fb9b",
      "metadata": {
        "editable": true,
        "slideshow": {
          "slide_type": ""
        },
        "tags": []
      },
      "outputs": [],
      "source": [
        "# extract state and control vectors, and time array\n",
        "state = solution.phase[0].state\n",
        "control = solution.phase[0].control\n",
        "time = solution.phase[0].time\n",
        "\n",
        "# times array for control may have different length\n",
        "time_c = solution.phase[0].time_c\n",
        "\n",
        "# initial and final times\n",
        "t0 = solution.phase[0].initial_time\n",
        "tf = solution.phase[0].final_time\n",
        "\n",
        "# we're not showing the costate, but if we did here's how to extract it.\n",
        "costate = solution.phase[0].costate\n",
        "\n",
        "x, y, v = state\n",
        "(gamma,) = control"
      ]
    },
    {
      "cell_type": "markdown",
      "id": "5a269cdb-87b8-4d6f-aac3-272b0f00e73f",
      "metadata": {},
      "source": [
        "Of course we're interested in the path that the bead takes. Here's the code to plot it and the plot itself:"
      ]
    },
    {
      "cell_type": "code",
      "execution_count": null,
      "id": "e0858c63",
      "metadata": {
        "tags": []
      },
      "outputs": [],
      "source": [
        "plt.plot(x, x / 2 + 0.1, \"k\", linewidth=2)\n",
        "plt.plot(x, y, linewidth=2)\n",
        "plt.xlabel(\"$x(t)$\")\n",
        "plt.ylabel(\"$y(t)$\")\n",
        "plt.xlim([-0.05, 1.05])\n",
        "plt.ylim([0.7, -0.05])\n",
        "plt.axis(\"equal\")\n",
        "plt.legend((\"Wall\", \"Trajectory\"), framealpha=1.0)\n",
        "plt.grid()"
      ]
    },
    {
      "cell_type": "markdown",
      "id": "70a66c38-3d9e-40e6-9e73-a297cfa9dc56",
      "metadata": {},
      "source": [
        "It's about what we would expect. We can plot the history of each of the state variables, although that doesn't tell us quite as much as the plot above:"
      ]
    },
    {
      "cell_type": "code",
      "execution_count": null,
      "id": "e0491980",
      "metadata": {
        "tags": []
      },
      "outputs": [],
      "source": [
        "plt.plot(time, x, time, y, time, v, linewidth=2)\n",
        "plt.xlabel(\"Time, $t$\")\n",
        "plt.ylabel(\"States\")\n",
        "plt.legend((\"$x(t)$\", \"$y(t)$\", \"$v(t)$\"), framealpha=1.0)\n",
        "plt.xlim([t0, tf])\n",
        "plt.tight_layout()\n",
        "plt.grid()"
      ]
    },
    {
      "cell_type": "markdown",
      "id": "635ba2b2",
      "metadata": {},
      "source": [
        "Finally, let's look at the control history. Recall that the control $u(t) = \\gamma(t)$ is the angle of the velocity vector below the horizontal:"
      ]
    },
    {
      "cell_type": "code",
      "execution_count": null,
      "id": "d112521d",
      "metadata": {
        "editable": true,
        "slideshow": {
          "slide_type": ""
        },
        "tags": []
      },
      "outputs": [],
      "source": [
        "plt.plot(time_c, control[0], linewidth=2)\n",
        "plt.xlabel(\"Time, $t$ [s]\")\n",
        "plt.ylabel(\"Control, $u(t)$ [rad]\")\n",
        "plt.ylim([-0.05, 1.6])\n",
        "plt.xlim([t0, tf])\n",
        "plt.tight_layout()\n",
        "plt.grid()"
      ]
    },
    {
      "cell_type": "markdown",
      "id": "eb42dbcf-0e01-4b7b-b05f-a7956db41116",
      "metadata": {},
      "source": [
        "Note that the control history consists of three straight lines. It's known that for the solution of the unconstrained brachistochrone problem, the angle of the velocity vector $\\gamma$ varies linearly with time, and so we should expect that to be the case at the beginning and end of the optimal trajectory, when the path constraint is not active. For the middle section, the angle $\\gamma = 30^\\circ=\\pi/6\\text{ rad}$, the angle of the barrier with respect to horizontal.\n",
        "\n",
        "If you look closely at the plot above, you'll see that the corners aren't sharp. The polynomials that represent the solution have difficulty representing functions with discontinuous derivatives, as is the case here. The solution (which is already pretty good!) can be improved by mesh refinement. YAPSS does not (yet) have automatic mesh refinement, so while it's inefficient, one way to improve the solution is just to increase the mesh density everywhere. So if we use 50 segments of 10 points instead of 10 segments of 10 points, we get a much better result. (If you're reading the HMTL version, some cells are hidden just to keep it brief.)"
      ]
    },
    {
      "cell_type": "code",
      "execution_count": null,
      "id": "df366e18-2e92-4e23-8a71-b29dad14f630",
      "metadata": {
        "nbsphinx": "hidden",
        "tags": []
      },
      "outputs": [],
      "source": [
        "# mesh geometry\n",
        "segments, points = 50, 10\n",
        "problem.mesh.phase[0].collocation_points = segments * [points]\n",
        "problem.mesh.phase[0].fraction = segments * [1 / segments]\n",
        "problem.ipopt_options.tol = 1e-14\n",
        "\n",
        "output = problem.solve()"
      ]
    },
    {
      "cell_type": "code",
      "execution_count": null,
      "id": "02595bfe-7b86-4697-852f-d503d52fd6ec",
      "metadata": {
        "editable": true,
        "nbsphinx": "hidden",
        "slideshow": {
          "slide_type": ""
        },
        "tags": []
      },
      "outputs": [],
      "source": [
        "# fmt:off\n",
        "def print_solution():\n",
        "    xf = 1\n",
        "    tf_yapss = solution.objective\n",
        "    tf_exact = sqrt(2 / g0 * (arctan(c1) + 1 / c1) * (xf + c0 / c1)) - \\\n",
        "               sqrt(2 * c0 / (g0 * c1) * (arctan(c1) - pi / 2 + 1 / c1))\n",
        "    # fmt:on\n",
        "\n",
        "    print(f\"\\nExact solution is {tf_exact = :.9f}\")\n",
        "    print(f\"YAPSS solution is {tf_yapss = :.9f}\")\n",
        "    print(f\"Relative error is {tf_yapss / tf_exact - 1:.3e}\\n\")\n",
        "\n",
        "\n",
        "def plot_control():\n",
        "    # extract state and control vectors, and time array\n",
        "    state = solution.phase[0].state\n",
        "    control = solution.phase[0].control\n",
        "    time = solution.phase[0].time\n",
        "    time_c = solution.phase[0].time_c\n",
        "    t0 = solution.phase[0].initial_time\n",
        "    tf = solution.phase[0].final_time\n",
        "\n",
        "    x, y, v = state\n",
        "    (gamma,) = control\n",
        "\n",
        "    plt.plot(time_c, control[0], linewidth=2)\n",
        "    plt.xlabel(\"Time, $t$ [s]\")\n",
        "    plt.ylabel(\"Control, $u(t)$ [rad]\")\n",
        "    plt.ylim([-0.05, 1.6])\n",
        "    plt.xlim([t0, tf])\n",
        "    plt.tight_layout()\n",
        "    plt.grid()"
      ]
    },
    {
      "cell_type": "code",
      "execution_count": null,
      "id": "dacddfad-71bb-41a3-a17d-d6bc097d556b",
      "metadata": {
        "tags": []
      },
      "outputs": [],
      "source": [
        "print_solution()\n",
        "plot_control()"
      ]
    },
    {
      "cell_type": "markdown",
      "id": "e81fc334-ac34-4187-8a2a-018eb8617265",
      "metadata": {},
      "source": [
        "## The Hamiltonian\n",
        "\n",
        "It's often useful to plot the Hamiltonian. When the Hamiltonian is not an explicit function of time (as in this problem), it should be a constant along optimal trajectories. Plotting the Hamiltonian can indicate whether there's an error in the solution — if the Hamiltonian evaluated along the optimal trajectory is non-constant or noisy, that indicates that the solution is inaccurate, either due to a *singular arc*, or because the mesh should be refined. \n",
        "\n",
        "(A singular arc occurs Pontryagin's minimum principle fails to determine the optimal value of the control variable. See the [Goddard problem JupyterLab notebook](./goddard_problem_1_phase.ipynb) for an example of an optimal control problem with a singular arc.)"
      ]
    },
    {
      "cell_type": "code",
      "execution_count": null,
      "id": "9fad20c4-549c-4e44-83b0-51039d9c987b",
      "metadata": {},
      "outputs": [],
      "source": [
        "def plot_hamiltonian(output):\n",
        "    # extract costate and dynamics vectors, and time array\n",
        "    costate = solution.phase[0].costate\n",
        "    dynamics = solution.phase[0].dynamics\n",
        "    time_c = solution.phase[0].time_c\n",
        "    hamiltonian = solution.phase[0].hamiltonian\n",
        "\n",
        "    plt.plot(time_c, (hamiltonian + 1) * 1e6, linewidth=2)\n",
        "    plt.xlabel(\"Time, $t$ [s]\")\n",
        "    plt.ylabel(r\"Error in Hamiltonian, $\\mathcal{H}(x,p,t)-1$   ($10^{-6}$)\")\n",
        "    plt.tight_layout()\n",
        "    plt.grid()\n",
        "\n",
        "\n",
        "plot_hamiltonian(output)"
      ]
    },
    {
      "cell_type": "markdown",
      "id": "6c3be51d-ab69-44c2-bdbb-2cf32d1272eb",
      "metadata": {
        "editable": true,
        "slideshow": {
          "slide_type": ""
        },
        "tags": []
      },
      "source": [
        "As can be seen in the plot above, the Hamiltonian is nearly constant, with a variation of only \n",
        "$\\pm 8\\times 10^{-6}$, which is low and does not generally indicate a significant problem. There is clearly some variation in the Hamiltonian at times corresponding to discontinuities in the derivative of the control input, and that's to be expected. For most applications, this level of accuracy is sufficient; however, refining the mesh in the vicinity of the discontinuities could improve solution accuracy."
      ]
    },
    {
      "cell_type": "markdown",
      "id": "3e37432b-e49e-4756-b9b6-bc5de643b767",
      "metadata": {
        "editable": true,
        "slideshow": {
          "slide_type": ""
        },
        "tags": []
      },
      "source": [
        "## Conclusion\n",
        "\n",
        "For more examples of varying complexity, refer to the [JupyterLab notebook examples](index.rst). More details of the YAPSS interface can be found in the Reference section of this user guide."
      ]
    },
    {
      "cell_type": "markdown",
      "id": "8f2e6669-aff6-48f6-8993-e9005a97c6a9",
      "metadata": {
        "editable": true,
        "slideshow": {
          "slide_type": ""
        },
        "tags": []
      },
      "source": [
        "## References"
      ]
    },
    {
      "cell_type": "raw",
      "id": "b1fd45dc-2734-41af-aa08-de8ac7ad5e01",
      "metadata": {
        "editable": true,
        "raw_mimetype": "text/restructuredtext",
        "slideshow": {
          "slide_type": ""
        },
        "tags": []
      },
      "source": [
        ".. footbibliography::"
      ]
    }
  ],
  "metadata": {},
  "nbformat": 4,
  "nbformat_minor": 5
}
