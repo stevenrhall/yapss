{
 "cells": [
  {
   "cell_type": "markdown",
   "id": "b12b599d",
   "metadata": {
    "editable": true,
    "slideshow": {
     "slide_type": ""
    },
    "tags": []
   },
   "source": [
    "# HS071 Optimization Problem\n",
    "\n",
    "For a solution to the HS071 constrained function minimization problem using a Python script instead of a notebook, see the [HS071 Python script documentation](../scripts/hs071.rst).\n",
    "\n",
    "## Description\n",
    "\n",
    "HS071 is Problem 71 from the collection of nonlinear programming test problems by Hoch and Schittkowski <cite data-footcite=\"Hoch:1981\">(1981)</cite>, who cite Bartholomew-Biggs <cite data-footcite=\"Bartholomew-Biggs:1976\">(1976)</cite> as the original source. The problem is to minimize the function\n",
    "$$\n",
    "   f(x)=x_{0} x_{3}\\left(x_{0}+x_{1}+x_{2}\\right)+x_{2}\n",
    "$$\n",
    "subject to the nonlinear constraints\n",
    "$$\n",
    "\\begin{align}\n",
    "   x_{0} x_{1} x_{2} x_{3} &\\geq 25 \\\\\n",
    "   x_{0}^{2}+x_{1}^{2}+x_{2}^{2}+x_{3}^{2} & = 40\n",
    "\\end{align}\n",
    "$$\n",
    "and the variable bounds\n",
    "$$\n",
    "1 \\leq x_{i} \\leq 5, \\quad i=0, 1, 2, 3\n",
    "$$\n",
    "The initial guess is given by\n",
    "$$\n",
    "\\boldsymbol{x} = [1,5,5,1]^T\n",
    "$$\n",
    "\n",
    "(Note that we have used 0-based indexing in the problem statement, whereas Hoch and Schittkowski used 1-based indexing.)"
   ]
  },
  {
   "cell_type": "markdown",
   "id": "e79c3729",
   "metadata": {},
   "source": [
    "## YAPSS Solution\n",
    "\n",
    "First, we instantiate the problem. It has no phases, 4 parameters, and 2 discrete constraints:"
   ]
  },
  {
   "cell_type": "code",
   "execution_count": 1,
   "id": "cf15a4d5",
   "metadata": {
    "execution": {
     "iopub.execute_input": "2024-12-30T01:50:50.137372Z",
     "iopub.status.busy": "2024-12-30T01:50:50.137271Z",
     "iopub.status.idle": "2024-12-30T01:50:50.637588Z",
     "shell.execute_reply": "2024-12-30T01:50:50.637233Z"
    }
   },
   "outputs": [],
   "source": [
    "from yapss import Problem\n",
    "\n",
    "problem = Problem(name=\"HS071\", nx=[], ns=4, nd=2)"
   ]
  },
  {
   "cell_type": "markdown",
   "id": "045b6c11",
   "metadata": {},
   "source": [
    "We then define the objective and discrete constraint callback functions:"
   ]
  },
  {
   "cell_type": "code",
   "execution_count": 2,
   "id": "0f9f592d",
   "metadata": {
    "execution": {
     "iopub.execute_input": "2024-12-30T01:50:50.639357Z",
     "iopub.status.busy": "2024-12-30T01:50:50.639228Z",
     "iopub.status.idle": "2024-12-30T01:50:50.642095Z",
     "shell.execute_reply": "2024-12-30T01:50:50.641799Z"
    }
   },
   "outputs": [],
   "source": [
    "def objective(arg):\n",
    "    x = arg.parameter\n",
    "    arg.objective = x[0] * x[3] * (x[0] + x[1] + x[2]) + x[2]\n",
    "\n",
    "\n",
    "def discrete(arg):\n",
    "    x = arg.parameter\n",
    "    arg.discrete[:] = (\n",
    "        x[0] * x[1] * x[2] * x[3],\n",
    "        x[0] * x[0] + x[1] * x[1] + x[2] * x[2] + x[3] * x[3],\n",
    "    )\n",
    "\n",
    "\n",
    "problem.functions.objective = objective\n",
    "problem.functions.discrete = discrete"
   ]
  },
  {
   "cell_type": "markdown",
   "id": "14887f37",
   "metadata": {},
   "source": [
    "Set the bounds on the parameters and the constraint functions, per the problem statement:"
   ]
  },
  {
   "cell_type": "code",
   "execution_count": 3,
   "id": "8c144449",
   "metadata": {
    "execution": {
     "iopub.execute_input": "2024-12-30T01:50:50.643830Z",
     "iopub.status.busy": "2024-12-30T01:50:50.643688Z",
     "iopub.status.idle": "2024-12-30T01:50:50.645829Z",
     "shell.execute_reply": "2024-12-30T01:50:50.645565Z"
    }
   },
   "outputs": [],
   "source": [
    "problem.bounds.parameter.lower = [1.0, 1.0, 1.0, 1.0]\n",
    "problem.bounds.parameter.upper = [5.0, 5.0, 5.0, 5.0]\n",
    "problem.bounds.discrete.lower = [25.0, 40.0]\n",
    "problem.bounds.discrete.upper[1] = 40.0"
   ]
  },
  {
   "cell_type": "markdown",
   "id": "7d752a42",
   "metadata": {},
   "source": [
    "We also provide an initial guess for the parameter values:"
   ]
  },
  {
   "cell_type": "code",
   "execution_count": 4,
   "id": "4d954c12",
   "metadata": {
    "execution": {
     "iopub.execute_input": "2024-12-30T01:50:50.647290Z",
     "iopub.status.busy": "2024-12-30T01:50:50.647161Z",
     "iopub.status.idle": "2024-12-30T01:50:50.649033Z",
     "shell.execute_reply": "2024-12-30T01:50:50.648732Z"
    }
   },
   "outputs": [],
   "source": [
    "problem.guess.parameter = [1.0, 5.0, 5.0, 1.0]"
   ]
  },
  {
   "cell_type": "markdown",
   "id": "a4240df8",
   "metadata": {},
   "source": [
    "Specify YAPSS options, and also Ipopt options:"
   ]
  },
  {
   "cell_type": "code",
   "execution_count": 5,
   "id": "27269927",
   "metadata": {
    "execution": {
     "iopub.execute_input": "2024-12-30T01:50:50.650572Z",
     "iopub.status.busy": "2024-12-30T01:50:50.650452Z",
     "iopub.status.idle": "2024-12-30T01:50:50.652361Z",
     "shell.execute_reply": "2024-12-30T01:50:50.652082Z"
    }
   },
   "outputs": [],
   "source": [
    "problem.derivatives.order = \"second\"\n",
    "problem.derivatives.method = \"auto\"\n",
    "problem.ipopt_options.print_user_options = \"no\"\n",
    "problem.ipopt_options.print_level = 3"
   ]
  },
  {
   "cell_type": "markdown",
   "id": "d682d9bd",
   "metadata": {},
   "source": [
    "Solve the problem:"
   ]
  },
  {
   "cell_type": "code",
   "execution_count": 6,
   "id": "9b31e0a0",
   "metadata": {
    "execution": {
     "iopub.execute_input": "2024-12-30T01:50:50.653812Z",
     "iopub.status.busy": "2024-12-30T01:50:50.653697Z",
     "iopub.status.idle": "2024-12-30T01:50:50.662846Z",
     "shell.execute_reply": "2024-12-30T01:50:50.662255Z"
    }
   },
   "outputs": [
    {
     "name": "stdout",
     "output_type": "stream",
     "text": [
      "\n",
      "******************************************************************************\n",
      "This program contains Ipopt, a library for large-scale nonlinear optimization.\n",
      " Ipopt is released as open source code under the Eclipse Public License (EPL).\n",
      "         For more information visit https://github.com/coin-or/Ipopt\n",
      "******************************************************************************\n",
      "\n",
      "Total number of variables............................:        4\n",
      "                     variables with only lower bounds:        0\n",
      "                variables with lower and upper bounds:        4\n",
      "                     variables with only upper bounds:        0\n",
      "Total number of equality constraints.................:        1\n",
      "Total number of inequality constraints...............:        1\n",
      "        inequality constraints with only lower bounds:        1\n",
      "   inequality constraints with lower and upper bounds:        0\n",
      "        inequality constraints with only upper bounds:        0\n",
      "\n",
      "\n",
      "Number of Iterations....: 8\n",
      "\n",
      "                                   (scaled)                 (unscaled)\n",
      "Objective...............:   1.7014017140224134e+01    1.7014017140224134e+01\n",
      "Dual infeasibility......:   2.2928101314633036e-14    2.2928101314633036e-14\n",
      "Constraint violation....:   2.1316282072803006e-14    2.1316282072803006e-14\n",
      "Variable bound violation:   9.9907857542547163e-09    9.9907857542547163e-09\n",
      "Complementarity.........:   1.0023967333275279e-11    1.0023967333275279e-11\n",
      "Overall NLP error.......:   1.0023967333275279e-11    1.0023967333275279e-11\n",
      "\n",
      "\n",
      "Number of objective function evaluations             = 9\n",
      "Number of objective gradient evaluations             = 9\n",
      "Number of equality constraint evaluations            = 9\n",
      "Number of inequality constraint evaluations          = 9\n",
      "Number of equality constraint Jacobian evaluations   = 9\n",
      "Number of inequality constraint Jacobian evaluations = 9\n",
      "Number of Lagrangian Hessian evaluations             = 8\n",
      "Total seconds in IPOPT (w/o function"
     ]
    },
    {
     "name": "stdout",
     "output_type": "stream",
     "text": [
      " evaluations)    =      0.002\n",
      "Total seconds in NLP function evaluations            =      0.002\n",
      "\n",
      "EXIT: Optimal Solution Found.\n"
     ]
    }
   ],
   "source": [
    "solution = problem.solve()"
   ]
  },
  {
   "cell_type": "markdown",
   "id": "543c98dc",
   "metadata": {
    "editable": true,
    "slideshow": {
     "slide_type": ""
    },
    "tags": []
   },
   "source": [
    "Finally, we format and print the solution:"
   ]
  },
  {
   "cell_type": "code",
   "execution_count": 7,
   "id": "31ffce1e",
   "metadata": {
    "editable": true,
    "execution": {
     "iopub.execute_input": "2024-12-30T01:50:50.664441Z",
     "iopub.status.busy": "2024-12-30T01:50:50.664306Z",
     "iopub.status.idle": "2024-12-30T01:50:50.667352Z",
     "shell.execute_reply": "2024-12-30T01:50:50.666957Z"
    },
    "slideshow": {
     "slide_type": ""
    },
    "tags": []
   },
   "outputs": [
    {
     "name": "stdout",
     "output_type": "stream",
     "text": [
      "\n",
      "Solution of the primal variables, x\n",
      "x[0] = 1.000000e+00\n",
      "x[1] = 4.743000e+00\n",
      "x[2] = 3.821150e+00\n",
      "x[3] = 1.379408e+00\n",
      "\n",
      "Solution of the bound multipliers, z_L and z_U\n",
      "z_L[0] = 1.087871e+00\n",
      "z_L[1] = 2.671608e-12\n",
      "z_L[2] = 3.544911e-12\n",
      "z_L[3] = 2.635449e-11\n",
      "z_U[0] = 2.499943e-12\n",
      "z_U[1] = 3.896984e-11\n",
      "z_U[2] = 8.482036e-12\n",
      "z_U[3] = 2.762163e-12\n",
      "\n",
      "Solution of the constraint multipliers, lambda\n",
      "lambda[0] = -5.522937e-01\n",
      "lambda[1] = 1.614686e-01\n",
      "\n",
      "Objective value\n",
      "f(x*) = 1.701402e+01\n"
     ]
    }
   ],
   "source": [
    "def print_variable(name, values):\n",
    "    for i, _value in enumerate(values):\n",
    "        print(f\"{name}[{str(i)}] = {_value:1.6e}\")\n",
    "\n",
    "\n",
    "x = solution.parameter\n",
    "print()\n",
    "\n",
    "print(\"Solution of the primal variables, x\")\n",
    "print_variable(\"x\", x)\n",
    "print(\"\\nSolution of the bound multipliers, z_L and z_U\")\n",
    "nlp_info = solution.nlp_info\n",
    "print_variable(\"z_L\", nlp_info.mult_x_L)\n",
    "print_variable(\"z_U\", nlp_info.mult_x_U)\n",
    "print(\"\\nSolution of the constraint multipliers, lambda\")\n",
    "print_variable(\"lambda\", solution.discrete_multiplier)\n",
    "print(\"\\nObjective value\")\n",
    "print(f\"f(x*) = {solution.objective:1.6e}\")"
   ]
  },
  {
   "cell_type": "markdown",
   "id": "89693772-e3ff-4ab3-9423-f44425c61f66",
   "metadata": {},
   "source": [
    "The solution above replicates the example given (in C++) in the [Ipopt interface documentation](https://coin-or.github.io/Ipopt/INTERFACES.html#INTERFACE_CPP), in much less code."
   ]
  },
  {
   "cell_type": "markdown",
   "id": "358d9bb4-ef45-4f10-9b30-cc5a1756f2f8",
   "metadata": {
    "editable": true,
    "slideshow": {
     "slide_type": ""
    },
    "tags": []
   },
   "source": [
    "## References"
   ]
  },
  {
   "cell_type": "raw",
   "id": "24dd6a1e-5bc6-4b48-849d-b26e96f951e7",
   "metadata": {
    "editable": true,
    "raw_mimetype": "text/restructuredtext",
    "slideshow": {
     "slide_type": ""
    },
    "tags": []
   },
   "source": [
    ".. footbibliography::\n"
   ]
  }
 ],
 "metadata": {
  "language_info": {
   "codemirror_mode": {
    "name": "ipython",
    "version": 3
   },
   "file_extension": ".py",
   "mimetype": "text/x-python",
   "name": "python",
   "nbconvert_exporter": "python",
   "pygments_lexer": "ipython3",
   "version": "3.9.13"
  }
 },
 "nbformat": 4,
 "nbformat_minor": 5
}
